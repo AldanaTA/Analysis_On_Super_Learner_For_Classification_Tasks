{
 "cells": [
  {
   "cell_type": "code",
   "execution_count": null,
   "id": "5a16f776",
   "metadata": {},
   "outputs": [],
   "source": [
    "import sys\n",
    "import os\n",
    "current_dir = os.getcwd()\n",
    "parent_dir = os.path.dirname(current_dir)\n",
    "sys.path.append(parent_dir + \"\\Scripts\")\n",
    "import svm_script"
   ]
  },
  {
   "cell_type": "code",
   "execution_count": null,
   "id": "284e8aa7",
   "metadata": {},
   "outputs": [],
   "source": [
    "filename = \"data_set_2.csv\"\n",
    "sample_size = 5000\n",
    "\n",
    "max_df = .97\n",
    "min_df = .001\n",
    "\n"
   ]
  },
  {
   "cell_type": "code",
   "execution_count": null,
   "id": "b13074ed",
   "metadata": {},
   "outputs": [],
   "source": [
    "#Number of runs to complete after starting run\n",
    "runs = 4\n",
    "\n",
    "#Starting Values\n",
    "print(\"Starting Run 1:\")\n",
    "l2 = [.7]\n",
    "result = svm_script.run_experiments(filename,sample_size,l2,max_df,min_df)\n",
    "result = result['C']\n",
    "svm_script.run_model(filename,sample_size,result,max_df,min_df)\n",
    "\n",
    "\n",
    "for run in range(runs):\n",
    "    print(\"\\nStarting Run {0}:\".format(run+2))\n",
    "    high = (result*1.5)\n",
    "    same = result\n",
    "    low =  (result - (result*.5))\n",
    "    l2 = [high,same,low]\n",
    "    result = svm_script.run_experiments(filename,sample_size,l2,max_df,min_df)\n",
    "    result = result['C']\n",
    "    svm_script.run_model(filename,sample_size,result,max_df,min_df)"
   ]
  },
  {
   "cell_type": "code",
   "execution_count": null,
   "id": "81001d61",
   "metadata": {},
   "outputs": [],
   "source": [
    "svm_script.run_model(filename,sample_size,result,max_df,min_df)"
   ]
  },
  {
   "cell_type": "code",
   "execution_count": null,
   "id": "803d3e11",
   "metadata": {},
   "outputs": [],
   "source": [
    "svm_script.run_model(filename,sample_size,result,max_df,min_df)"
   ]
  },
  {
   "cell_type": "code",
   "execution_count": null,
   "id": "eec17a40",
   "metadata": {},
   "outputs": [],
   "source": [
    "svm_script.run_model(filename,sample_size,result,max_df,min_df)"
   ]
  },
  {
   "cell_type": "code",
   "execution_count": null,
   "id": "b95c4411",
   "metadata": {},
   "outputs": [],
   "source": [
    "svm_script.run_model(filename,sample_size,result,max_df,min_df)"
   ]
  },
  {
   "cell_type": "code",
   "execution_count": null,
   "id": "12b6edc5",
   "metadata": {},
   "outputs": [],
   "source": [
    "svm_script.run_model(filename,sample_size,result,max_df,min_df)"
   ]
  }
 ],
 "metadata": {
  "kernelspec": {
   "display_name": ".venv",
   "language": "python",
   "name": "python3"
  },
  "language_info": {
   "codemirror_mode": {
    "name": "ipython",
    "version": 3
   },
   "file_extension": ".py",
   "mimetype": "text/x-python",
   "name": "python",
   "nbconvert_exporter": "python",
   "pygments_lexer": "ipython3",
   "version": "3.11.0"
  }
 },
 "nbformat": 4,
 "nbformat_minor": 5
}
