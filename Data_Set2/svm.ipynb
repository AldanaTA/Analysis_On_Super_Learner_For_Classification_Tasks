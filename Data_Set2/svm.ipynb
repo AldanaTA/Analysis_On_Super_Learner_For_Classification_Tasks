{
 "cells": [
  {
   "cell_type": "code",
   "execution_count": 9,
   "id": "5a16f776",
   "metadata": {},
   "outputs": [],
   "source": [
    "import sys\n",
    "import os\n",
    "current_dir = os.getcwd()\n",
    "parent_dir = os.path.dirname(current_dir)\n",
    "sys.path.append(parent_dir + \"\\Scripts\")\n",
    "import svm_script"
   ]
  },
  {
   "cell_type": "code",
   "execution_count": 10,
   "id": "284e8aa7",
   "metadata": {},
   "outputs": [],
   "source": [
    "filename = \"data_set_1.csv\"\n",
    "\n",
    "max_df = .97\n",
    "min_df = .001\n",
    "\n"
   ]
  },
  {
   "cell_type": "code",
   "execution_count": 12,
   "id": "b13074ed",
   "metadata": {},
   "outputs": [
    {
     "name": "stdout",
     "output_type": "stream",
     "text": [
      "Starting Run 1: \n",
      "\n",
      "c:\\Users\\tonya\\OneDrive\\Desktop\\MachineLearning Final Project Files\\MachineLearning-Final-Project-Files\n",
      "Fitting 5 folds for each of 4 candidates, totalling 20 fits\n",
      "Best Hyper paramaters:  {'C': 1.6}\n",
      "Best Scores: 53.78%\n",
      "c:\\Users\\tonya\\OneDrive\\Desktop\\MachineLearning Final Project Files\\MachineLearning-Final-Project-Files\n",
      "Model Accuracy: 54.24% Precision: 0.5424 Recall: 0.5424 F1 Score: 0.5424\n",
      "Starting Run 2: \n",
      "\n",
      "c:\\Users\\tonya\\OneDrive\\Desktop\\MachineLearning Final Project Files\\MachineLearning-Final-Project-Files\n",
      "Fitting 5 folds for each of 3 candidates, totalling 15 fits\n",
      "Best Hyper paramaters:  {'C': 1.6}\n",
      "Best Scores: 54.14%\n",
      "c:\\Users\\tonya\\OneDrive\\Desktop\\MachineLearning Final Project Files\\MachineLearning-Final-Project-Files\n",
      "Model Accuracy: 54.24% Precision: 0.5424 Recall: 0.5424 F1 Score: 0.5424\n",
      "Starting Run 3: \n",
      "\n",
      "c:\\Users\\tonya\\OneDrive\\Desktop\\MachineLearning Final Project Files\\MachineLearning-Final-Project-Files\n",
      "Fitting 5 folds for each of 3 candidates, totalling 15 fits\n",
      "Best Hyper paramaters:  {'C': 1.92}\n",
      "Best Scores: 55.56%\n",
      "c:\\Users\\tonya\\OneDrive\\Desktop\\MachineLearning Final Project Files\\MachineLearning-Final-Project-Files\n",
      "Model Accuracy: 54.76% Precision: 0.5476 Recall: 0.5476 F1 Score: 0.5476\n",
      "Starting Run 4: \n",
      "\n",
      "c:\\Users\\tonya\\OneDrive\\Desktop\\MachineLearning Final Project Files\\MachineLearning-Final-Project-Files\n",
      "Fitting 5 folds for each of 3 candidates, totalling 15 fits\n",
      "Best Hyper paramaters:  {'C': 2.304}\n",
      "Best Scores: 55.16%\n",
      "c:\\Users\\tonya\\OneDrive\\Desktop\\MachineLearning Final Project Files\\MachineLearning-Final-Project-Files\n",
      "Model Accuracy: 55.68% Precision: 0.5568 Recall: 0.5568 F1 Score: 0.5568\n",
      "Starting Run 5: \n",
      "\n",
      "c:\\Users\\tonya\\OneDrive\\Desktop\\MachineLearning Final Project Files\\MachineLearning-Final-Project-Files\n",
      "Fitting 5 folds for each of 3 candidates, totalling 15 fits\n",
      "Best Hyper paramaters:  {'C': 2.7647999999999997}\n",
      "Best Scores: 55.94%\n",
      "c:\\Users\\tonya\\OneDrive\\Desktop\\MachineLearning Final Project Files\\MachineLearning-Final-Project-Files\n",
      "Model Accuracy: 54.72% Precision: 0.5472 Recall: 0.5472 F1 Score: 0.5472\n"
     ]
    }
   ],
   "source": [
    "#Number of runs to complete after starting run\n",
    "runs = 4\n",
    "\n",
    "#Starting Values\n",
    "print(\"Starting Run 1:\")\n",
    "l2 = [.852,1.2,1.4,1.6]\n",
    "result = svm_script.runExperiments(filename,.5,l2,max_df,min_df)\n",
    "result = result['C']\n",
    "svm_script.runModel(filename,.5,result,max_df,min_df)\n",
    "\n",
    "\n",
    "for run in range(runs):\n",
    "    print(\"\\nStarting Run {0}:\".format(run+2))\n",
    "\n",
    "    l2 = [result,(result*1.2),(result - (result*.2))]\n",
    "    result = svm_script.runExperiments(filename,.5,l2,max_df,min_df)\n",
    "    result = result['C']\n",
    "    svm_script.runModel(filename,.5,result,max_df,min_df)"
   ]
  }
 ],
 "metadata": {
  "kernelspec": {
   "display_name": ".venv",
   "language": "python",
   "name": "python3"
  },
  "language_info": {
   "codemirror_mode": {
    "name": "ipython",
    "version": 3
   },
   "file_extension": ".py",
   "mimetype": "text/x-python",
   "name": "python",
   "nbconvert_exporter": "python",
   "pygments_lexer": "ipython3",
   "version": "3.11.0"
  }
 },
 "nbformat": 4,
 "nbformat_minor": 5
}
