{
 "cells": [
  {
   "cell_type": "code",
   "execution_count": 1,
   "id": "986fb82e",
   "metadata": {},
   "outputs": [],
   "source": [
    "import sys\n",
    "import os\n",
    "current_dir = os.getcwd()\n",
    "parent_dir = os.path.dirname(current_dir)\n",
    "sys.path.append(parent_dir + \"\\Scripts\")\n",
    "import rnn_scripts\n",
    "from gensim.models import KeyedVectors\n"
   ]
  },
  {
   "cell_type": "code",
   "execution_count": 2,
   "id": "8f452cbe",
   "metadata": {},
   "outputs": [],
   "source": [
    "filename = \"data_set_2.csv\"\n",
    "\n",
    "sample_size = 5000\n",
    "min_df = .001\n",
    "max_df = .97\n",
    "\n",
    "def newVal(val,delta):\n",
    "    \n",
    "    high = val * (1+delta)\n",
    "    low = val - (val * delta)\n",
    "   \n",
    "    return [high,val,low]"
   ]
  },
  {
   "cell_type": "code",
   "execution_count": 3,
   "id": "553d5c59",
   "metadata": {},
   "outputs": [],
   "source": [
    "#Read Embeddings\n",
    "current_dir = os.getcwd()\n",
    "parent_dir = os.path.dirname(current_dir)\n",
    "file = parent_dir + '//embeds//'\n",
    "embeddings = KeyedVectors.load_word2vec_format(file+'GoogleNews-vectors-negative300.bin.gz',binary=True)"
   ]
  },
  {
   "cell_type": "code",
   "execution_count": null,
   "id": "35771749",
   "metadata": {},
   "outputs": [
    {
     "name": "stdout",
     "output_type": "stream",
     "text": [
      "Starting Run 1:\n",
      "Fitting 5 folds for each of 1 candidates, totalling 5 fits\n",
      "Best Hyper paramaters:  {'optimizer__lr': 0.0001, 'optimizer__weight_decay': 0.5}\n",
      "Best Scores: 76.20%\n",
      "\n",
      "Starting Run 2:\n",
      "Fitting 5 folds for each of 9 candidates, totalling 45 fits\n",
      "Best Hyper paramaters:  {'optimizer__lr': 0.00014, 'optimizer__weight_decay': 0.7}\n",
      "Best Scores: 76.06%\n",
      "\n",
      "Starting Run 3:\n",
      "Fitting 5 folds for each of 9 candidates, totalling 45 fits\n",
      "Best Hyper paramaters:  {'optimizer__lr': 0.00019599999999999997, 'optimizer__weight_decay': 0.9799999999999999}\n",
      "Best Scores: 75.72%\n"
     ]
    }
   ],
   "source": [
    "#Number of runs to complete after starting run\n",
    "runs = 2\n",
    "\n",
    "#Starting Values\n",
    "lr = [.0001]\n",
    "weight_decay = [.5]\n",
    "\n",
    "factor = .40\n",
    "\n",
    "\n",
    "print(\"Starting Run 1:\")\n",
    "\n",
    "results = rnn_scripts.run_experiments(filename,sample_size,embeddings,min_df,max_df,lr,weight_decay)\n",
    "\n",
    "l_r = results[\"optimizer__lr\"]\n",
    "lam = results[\"optimizer__weight_decay\"]\n",
    "\n",
    "rnn_scripts.run_model(filename,sample_size,embeddings,min_df,max_df,l_r,lam)\n",
    "\n",
    "for run in range(runs):\n",
    "    print(\"\\nStarting Run {0}:\".format(run+2))\n",
    "    #Compare the current best against slightly higher and slightly smaller values\n",
    "  \n",
    "    lr = newVal(l_r,factor)\n",
    "    weight_decay = newVal(lam,factor)\n",
    "   \n",
    "    \n",
    "    results = rnn_scripts.run_experiments(filename,sample_size,embeddings,min_df,max_df,lr,weight_decay)\n",
    "  \n",
    "    l_r = results[\"optimizer__lr\"]\n",
    "    lam = results[\"optimizer__weight_decay\"]\n",
    "    rnn_scripts.run_model(filename,sample_size,embeddings,min_df,max_df,l_r,lam)\n"
   ]
  },
  {
   "cell_type": "code",
   "execution_count": 5,
   "id": "9f43c183",
   "metadata": {},
   "outputs": [
    {
     "name": "stdout",
     "output_type": "stream",
     "text": [
      "  epoch    train_loss    valid_acc    valid_loss     dur\n",
      "-------  ------------  -----------  ------------  ------\n",
      "      1        \u001b[36m1.3183\u001b[0m       \u001b[32m0.7525\u001b[0m        \u001b[35m1.2543\u001b[0m  2.3957\n",
      "      2        \u001b[36m1.2582\u001b[0m       0.7525        1.2668  2.4999\n",
      "      3        1.2824       0.7525        1.2953  2.4336\n",
      "      4        1.3102       0.7525        1.3183  2.4170\n",
      "      5        1.3274       0.7525        1.3302  2.3999\n",
      "  epoch    train_loss    valid_acc    valid_loss     dur\n",
      "-------  ------------  -----------  ------------  ------\n",
      "      1        \u001b[36m1.4872\u001b[0m       \u001b[32m0.6813\u001b[0m        \u001b[35m1.3277\u001b[0m  2.4334\n",
      "      2        \u001b[36m1.2101\u001b[0m       \u001b[32m0.7500\u001b[0m        \u001b[35m1.0893\u001b[0m  2.4332\n",
      "      3        \u001b[36m0.9585\u001b[0m       0.7500        \u001b[35m0.8837\u001b[0m  2.3805\n",
      "      4        \u001b[36m0.8816\u001b[0m       0.7500        \u001b[35m0.8711\u001b[0m  2.4001\n",
      "      5        \u001b[36m0.8763\u001b[0m       0.7500        0.8731  2.3784\n",
      "  epoch    train_loss    valid_acc    valid_loss     dur\n",
      "-------  ------------  -----------  ------------  ------\n",
      "      1        \u001b[36m1.5761\u001b[0m       \u001b[32m0.6062\u001b[0m        \u001b[35m1.4708\u001b[0m  2.3695\n",
      "      2        \u001b[36m1.4364\u001b[0m       \u001b[32m0.7500\u001b[0m        \u001b[35m1.4074\u001b[0m  2.4079\n",
      "      3        \u001b[36m1.3976\u001b[0m       \u001b[32m0.7550\u001b[0m        \u001b[35m1.3912\u001b[0m  2.3867\n",
      "      4        \u001b[36m1.3888\u001b[0m       0.7550        \u001b[35m1.3818\u001b[0m  2.3644\n",
      "      5        \u001b[36m1.3813\u001b[0m       0.7550        \u001b[35m1.3760\u001b[0m  2.3996\n",
      "  epoch    train_loss    valid_acc    valid_loss     dur\n",
      "-------  ------------  -----------  ------------  ------\n",
      "      1        \u001b[36m1.3251\u001b[0m       \u001b[32m0.7550\u001b[0m        \u001b[35m1.2566\u001b[0m  2.4275\n",
      "      2        \u001b[36m1.2563\u001b[0m       0.7550        \u001b[35m1.2540\u001b[0m  2.4668\n",
      "      3        1.2724       0.7550        1.2847  2.4579\n",
      "      4        1.2984       0.7550        1.3043  2.3638\n",
      "      5        1.3095       0.7550        1.3133  2.3650\n",
      "  epoch    train_loss    valid_acc    valid_loss     dur\n",
      "-------  ------------  -----------  ------------  ------\n",
      "      1        \u001b[36m1.3328\u001b[0m       \u001b[32m0.7550\u001b[0m        \u001b[35m1.2827\u001b[0m  2.4010\n",
      "      2        \u001b[36m1.2840\u001b[0m       0.7550        1.2941  2.3838\n",
      "      3        1.3005       0.7550        1.3084  2.4000\n",
      "      4        1.3124       0.7550        1.3148  2.4185\n",
      "      5        1.3165       0.7550        1.3185  2.3595\n",
      "Model Accuracy: 75.30% Precision: 0.1718 Recall: 0.1506 F1 Score: 0.2000\n"
     ]
    }
   ],
   "source": [
    "rnn_scripts.run_model(filename,sample_size,embeddings,min_df,max_df,l_r,lam)"
   ]
  },
  {
   "cell_type": "code",
   "execution_count": 6,
   "id": "a7d0dab6",
   "metadata": {},
   "outputs": [
    {
     "name": "stdout",
     "output_type": "stream",
     "text": [
      "  epoch    train_loss    valid_acc    valid_loss     dur\n",
      "-------  ------------  -----------  ------------  ------\n",
      "      1        \u001b[36m1.6453\u001b[0m       \u001b[32m0.0225\u001b[0m        \u001b[35m1.5738\u001b[0m  2.5651\n",
      "      2        \u001b[36m1.5345\u001b[0m       \u001b[32m0.6650\u001b[0m        \u001b[35m1.4982\u001b[0m  2.5501\n",
      "      3        \u001b[36m1.4737\u001b[0m       \u001b[32m0.7662\u001b[0m        \u001b[35m1.4493\u001b[0m  2.5744\n",
      "      4        \u001b[36m1.4341\u001b[0m       0.7662        \u001b[35m1.4175\u001b[0m  2.5423\n",
      "      5        \u001b[36m1.4063\u001b[0m       0.7662        \u001b[35m1.3943\u001b[0m  2.4669\n",
      "  epoch    train_loss    valid_acc    valid_loss     dur\n",
      "-------  ------------  -----------  ------------  ------\n",
      "      1        \u001b[36m1.5646\u001b[0m       \u001b[32m0.6375\u001b[0m        \u001b[35m1.4446\u001b[0m  2.5166\n",
      "      2        \u001b[36m1.3640\u001b[0m       \u001b[32m0.7575\u001b[0m        \u001b[35m1.2775\u001b[0m  2.5001\n",
      "      3        \u001b[36m1.1737\u001b[0m       \u001b[32m0.7662\u001b[0m        \u001b[35m1.0356\u001b[0m  2.4833\n",
      "      4        \u001b[36m0.9112\u001b[0m       0.7662        \u001b[35m0.8736\u001b[0m  2.4729\n",
      "      5        \u001b[36m0.8525\u001b[0m       0.7662        \u001b[35m0.8441\u001b[0m  2.4400\n",
      "  epoch    train_loss    valid_acc    valid_loss     dur\n",
      "-------  ------------  -----------  ------------  ------\n",
      "      1        \u001b[36m1.3824\u001b[0m       \u001b[32m0.7488\u001b[0m        \u001b[35m1.1727\u001b[0m  2.5441\n",
      "      2        \u001b[36m1.1171\u001b[0m       \u001b[32m0.7612\u001b[0m        \u001b[35m1.0535\u001b[0m  2.5016\n",
      "      3        \u001b[36m1.0036\u001b[0m       0.7612        \u001b[35m0.9425\u001b[0m  2.5001\n",
      "      4        \u001b[36m0.9103\u001b[0m       0.7612        \u001b[35m0.8876\u001b[0m  2.4837\n",
      "      5        \u001b[36m0.8758\u001b[0m       0.7612        \u001b[35m0.8717\u001b[0m  2.4667\n",
      "  epoch    train_loss    valid_acc    valid_loss     dur\n",
      "-------  ------------  -----------  ------------  ------\n",
      "      1        \u001b[36m1.3126\u001b[0m       \u001b[32m0.7488\u001b[0m        \u001b[35m1.1995\u001b[0m  2.5167\n",
      "      2        \u001b[36m1.1570\u001b[0m       \u001b[32m0.7662\u001b[0m        \u001b[35m1.1501\u001b[0m  2.5333\n",
      "      3        \u001b[36m1.1534\u001b[0m       0.7662        1.1560  2.5334\n",
      "      4        1.1732       0.7662        1.1841  2.5167\n",
      "      5        1.2007       0.7662        1.2146  2.4611\n",
      "  epoch    train_loss    valid_acc    valid_loss     dur\n",
      "-------  ------------  -----------  ------------  ------\n",
      "      1        \u001b[36m1.4497\u001b[0m       \u001b[32m0.7588\u001b[0m        \u001b[35m1.4064\u001b[0m  2.5069\n",
      "      2        \u001b[36m1.3851\u001b[0m       \u001b[32m0.7650\u001b[0m        \u001b[35m1.3666\u001b[0m  2.4848\n",
      "      3        \u001b[36m1.3569\u001b[0m       0.7650        \u001b[35m1.3458\u001b[0m  2.4834\n",
      "      4        \u001b[36m1.3399\u001b[0m       0.7650        \u001b[35m1.3339\u001b[0m  2.4500\n",
      "      5        \u001b[36m1.3298\u001b[0m       0.7650        \u001b[35m1.3255\u001b[0m  2.4834\n",
      "Model Accuracy: 76.44% Precision: 0.1733 Recall: 0.1529 F1 Score: 0.2000\n"
     ]
    }
   ],
   "source": [
    "rnn_scripts.run_model(filename,sample_size,embeddings,min_df,max_df,l_r,lam)"
   ]
  },
  {
   "cell_type": "code",
   "execution_count": 7,
   "id": "e243e962",
   "metadata": {},
   "outputs": [
    {
     "name": "stdout",
     "output_type": "stream",
     "text": [
      "  epoch    train_loss    valid_acc    valid_loss     dur\n",
      "-------  ------------  -----------  ------------  ------\n",
      "      1        \u001b[36m1.5118\u001b[0m       \u001b[32m0.7212\u001b[0m        \u001b[35m1.3846\u001b[0m  2.5163\n",
      "      2        \u001b[36m1.3296\u001b[0m       \u001b[32m0.7575\u001b[0m        \u001b[35m1.2862\u001b[0m  2.5652\n",
      "      3        \u001b[36m1.2745\u001b[0m       0.7575        \u001b[35m1.2649\u001b[0m  2.5114\n",
      "      4        \u001b[36m1.2625\u001b[0m       0.7575        \u001b[35m1.2637\u001b[0m  2.4884\n",
      "      5        1.2674       0.7575        1.2716  2.4166\n",
      "  epoch    train_loss    valid_acc    valid_loss     dur\n",
      "-------  ------------  -----------  ------------  ------\n",
      "      1        \u001b[36m1.1438\u001b[0m       \u001b[32m0.7562\u001b[0m        \u001b[35m1.0263\u001b[0m  2.5000\n",
      "      2        \u001b[36m1.0101\u001b[0m       0.7562        \u001b[35m1.0118\u001b[0m  2.4603\n",
      "      3        \u001b[36m1.0009\u001b[0m       0.7562        \u001b[35m0.9887\u001b[0m  2.5000\n",
      "      4        \u001b[36m0.9631\u001b[0m       0.7562        \u001b[35m0.9300\u001b[0m  2.4648\n",
      "      5        \u001b[36m0.9075\u001b[0m       0.7562        \u001b[35m0.9055\u001b[0m  2.4431\n",
      "  epoch    train_loss    valid_acc    valid_loss     dur\n",
      "-------  ------------  -----------  ------------  ------\n",
      "      1        \u001b[36m1.5044\u001b[0m       \u001b[32m0.6887\u001b[0m        \u001b[35m1.4122\u001b[0m  2.4999\n",
      "      2        \u001b[36m1.3825\u001b[0m       \u001b[32m0.7575\u001b[0m        \u001b[35m1.3700\u001b[0m  2.4766\n",
      "      3        \u001b[36m1.3691\u001b[0m       0.7575        \u001b[35m1.3691\u001b[0m  2.4970\n",
      "      4        1.3694       0.7575        1.3710  2.4667\n",
      "      5        1.3708       0.7575        \u001b[35m1.3687\u001b[0m  2.4667\n",
      "  epoch    train_loss    valid_acc    valid_loss     dur\n",
      "-------  ------------  -----------  ------------  ------\n",
      "      1        \u001b[36m1.2953\u001b[0m       \u001b[32m0.7512\u001b[0m        \u001b[35m1.2115\u001b[0m  2.4995\n",
      "      2        \u001b[36m1.1803\u001b[0m       \u001b[32m0.7550\u001b[0m        \u001b[35m1.1721\u001b[0m  2.4833\n",
      "      3        \u001b[36m1.1612\u001b[0m       0.7550        \u001b[35m1.1527\u001b[0m  2.4480\n",
      "      4        \u001b[36m1.1406\u001b[0m       0.7550        \u001b[35m1.1338\u001b[0m  2.4501\n",
      "      5        \u001b[36m1.1180\u001b[0m       0.7550        \u001b[35m1.1094\u001b[0m  2.4333\n",
      "  epoch    train_loss    valid_acc    valid_loss     dur\n",
      "-------  ------------  -----------  ------------  ------\n",
      "      1        \u001b[36m1.4265\u001b[0m       \u001b[32m0.7412\u001b[0m        \u001b[35m1.3674\u001b[0m  2.4834\n",
      "      2        \u001b[36m1.3518\u001b[0m       \u001b[32m0.7588\u001b[0m        \u001b[35m1.3428\u001b[0m  2.4832\n",
      "      3        \u001b[36m1.3404\u001b[0m       0.7588        \u001b[35m1.3406\u001b[0m  2.4502\n",
      "      4        \u001b[36m1.3400\u001b[0m       0.7588        \u001b[35m1.3359\u001b[0m  2.4288\n",
      "      5        \u001b[36m1.3327\u001b[0m       0.7588        \u001b[35m1.3304\u001b[0m  2.4167\n",
      "Model Accuracy: 75.66% Precision: 0.1723 Recall: 0.1513 F1 Score: 0.2000\n"
     ]
    }
   ],
   "source": [
    "rnn_scripts.run_model(filename,sample_size,embeddings,min_df,max_df,l_r,lam)"
   ]
  },
  {
   "cell_type": "code",
   "execution_count": 8,
   "id": "77566bac",
   "metadata": {},
   "outputs": [
    {
     "name": "stdout",
     "output_type": "stream",
     "text": [
      "  epoch    train_loss    valid_acc    valid_loss     dur\n",
      "-------  ------------  -----------  ------------  ------\n",
      "      1        \u001b[36m1.2982\u001b[0m       \u001b[32m0.7200\u001b[0m        \u001b[35m1.0381\u001b[0m  2.5467\n",
      "      2        \u001b[36m0.9640\u001b[0m       \u001b[32m0.7600\u001b[0m        \u001b[35m0.8978\u001b[0m  2.6152\n",
      "      3        \u001b[36m0.8747\u001b[0m       0.7600        \u001b[35m0.8552\u001b[0m  2.5540\n",
      "      4        \u001b[36m0.8551\u001b[0m       0.7600        \u001b[35m0.8530\u001b[0m  2.5461\n",
      "      5        0.8571       0.7600        0.8552  2.4167\n",
      "  epoch    train_loss    valid_acc    valid_loss     dur\n",
      "-------  ------------  -----------  ------------  ------\n",
      "      1        \u001b[36m1.2013\u001b[0m       \u001b[32m0.7600\u001b[0m        \u001b[35m1.0390\u001b[0m  2.4878\n",
      "      2        \u001b[36m0.9878\u001b[0m       0.7600        \u001b[35m0.9640\u001b[0m  2.4826\n",
      "      3        \u001b[36m0.9084\u001b[0m       0.7600        \u001b[35m0.8724\u001b[0m  2.4999\n",
      "      4        \u001b[36m0.8680\u001b[0m       0.7600        \u001b[35m0.8635\u001b[0m  2.4835\n",
      "      5        \u001b[36m0.8601\u001b[0m       0.7600        \u001b[35m0.8630\u001b[0m  2.4361\n",
      "  epoch    train_loss    valid_acc    valid_loss     dur\n",
      "-------  ------------  -----------  ------------  ------\n",
      "      1        \u001b[36m1.3956\u001b[0m       \u001b[32m0.7612\u001b[0m        \u001b[35m1.2970\u001b[0m  2.5184\n",
      "      2        \u001b[36m1.2590\u001b[0m       \u001b[32m0.7675\u001b[0m        \u001b[35m1.2556\u001b[0m  2.4999\n",
      "      3        \u001b[36m1.2559\u001b[0m       0.7675        1.2586  2.5169\n",
      "      4        1.2638       0.7675        1.2723  2.4629\n",
      "      5        1.2781       0.7675        1.2849  2.4513\n",
      "  epoch    train_loss    valid_acc    valid_loss     dur\n",
      "-------  ------------  -----------  ------------  ------\n",
      "      1        \u001b[36m1.6787\u001b[0m       \u001b[32m0.0250\u001b[0m        \u001b[35m1.5998\u001b[0m  2.5000\n",
      "      2        \u001b[36m1.5503\u001b[0m       \u001b[32m0.7512\u001b[0m        \u001b[35m1.5125\u001b[0m  2.5169\n",
      "      3        \u001b[36m1.4859\u001b[0m       \u001b[32m0.7638\u001b[0m        \u001b[35m1.4625\u001b[0m  2.4817\n",
      "      4        \u001b[36m1.4440\u001b[0m       0.7638        \u001b[35m1.4275\u001b[0m  2.4796\n",
      "      5        \u001b[36m1.4119\u001b[0m       0.7638        \u001b[35m1.4010\u001b[0m  2.4501\n",
      "  epoch    train_loss    valid_acc    valid_loss     dur\n",
      "-------  ------------  -----------  ------------  ------\n",
      "      1        \u001b[36m1.4640\u001b[0m       \u001b[32m0.6825\u001b[0m        \u001b[35m1.2386\u001b[0m  2.4999\n",
      "      2        \u001b[36m1.1126\u001b[0m       \u001b[32m0.7575\u001b[0m        \u001b[35m1.0176\u001b[0m  2.4834\n",
      "      3        \u001b[36m0.9432\u001b[0m       0.7575        \u001b[35m0.8969\u001b[0m  2.4834\n",
      "      4        \u001b[36m0.8776\u001b[0m       0.7575        0.9026  2.4833\n",
      "      5        \u001b[36m0.8743\u001b[0m       0.7575        \u001b[35m0.8589\u001b[0m  2.4501\n",
      "Model Accuracy: 76.14% Precision: 0.1729 Recall: 0.1523 F1 Score: 0.2000\n"
     ]
    }
   ],
   "source": [
    "rnn_scripts.run_model(filename,sample_size,embeddings,min_df,max_df,l_r,lam)"
   ]
  },
  {
   "cell_type": "code",
   "execution_count": 9,
   "id": "2c793e45",
   "metadata": {},
   "outputs": [
    {
     "name": "stdout",
     "output_type": "stream",
     "text": [
      "  epoch    train_loss    valid_acc    valid_loss     dur\n",
      "-------  ------------  -----------  ------------  ------\n",
      "      1        \u001b[36m1.3852\u001b[0m       \u001b[32m0.7625\u001b[0m        \u001b[35m1.2810\u001b[0m  2.4998\n",
      "      2        \u001b[36m1.2762\u001b[0m       0.7625        \u001b[35m1.2696\u001b[0m  2.4833\n",
      "      3        1.2808       0.7625        1.3011  2.4833\n",
      "      4        1.3151       0.7625        1.3189  2.4500\n",
      "      5        1.3242       0.7625        1.3230  2.3939\n",
      "  epoch    train_loss    valid_acc    valid_loss     dur\n",
      "-------  ------------  -----------  ------------  ------\n",
      "      1        \u001b[36m1.5101\u001b[0m       \u001b[32m0.6250\u001b[0m        \u001b[35m1.3331\u001b[0m  2.4666\n",
      "      2        \u001b[36m1.2544\u001b[0m       \u001b[32m0.7650\u001b[0m        \u001b[35m1.2144\u001b[0m  2.4815\n",
      "      3        \u001b[36m1.1747\u001b[0m       0.7650        \u001b[35m1.1426\u001b[0m  2.4337\n",
      "      4        \u001b[36m1.0948\u001b[0m       0.7650        \u001b[35m1.0350\u001b[0m  2.5168\n",
      "      5        \u001b[36m0.9798\u001b[0m       0.7650        \u001b[35m0.9135\u001b[0m  2.4833\n",
      "  epoch    train_loss    valid_acc    valid_loss     dur\n",
      "-------  ------------  -----------  ------------  ------\n",
      "      1        \u001b[36m1.2196\u001b[0m       \u001b[32m0.7562\u001b[0m        \u001b[35m1.1788\u001b[0m  2.4833\n",
      "      2        \u001b[36m1.1914\u001b[0m       0.7562        1.2028  2.4833\n",
      "      3        1.2306       0.7562        1.2482  2.4333\n",
      "      4        1.2640       0.7562        1.2814  2.4167\n",
      "      5        1.2933       0.7562        1.3014  2.4000\n",
      "  epoch    train_loss    valid_acc    valid_loss     dur\n",
      "-------  ------------  -----------  ------------  ------\n",
      "      1        \u001b[36m1.3414\u001b[0m       \u001b[32m0.7600\u001b[0m        \u001b[35m1.2204\u001b[0m  2.4471\n",
      "      2        \u001b[36m1.1783\u001b[0m       0.7600        \u001b[35m1.1675\u001b[0m  2.4578\n",
      "      3        \u001b[36m1.1577\u001b[0m       0.7600        \u001b[35m1.1610\u001b[0m  2.4204\n",
      "      4        \u001b[36m1.1544\u001b[0m       0.7600        1.1664  2.4501\n",
      "      5        1.1767       0.7600        1.1897  2.4000\n",
      "  epoch    train_loss    valid_acc    valid_loss     dur\n",
      "-------  ------------  -----------  ------------  ------\n",
      "      1        \u001b[36m1.3872\u001b[0m       \u001b[32m0.6388\u001b[0m        \u001b[35m1.2508\u001b[0m  2.4513\n",
      "      2        \u001b[36m1.1989\u001b[0m       \u001b[32m0.7575\u001b[0m        \u001b[35m1.1622\u001b[0m  2.4668\n",
      "      3        \u001b[36m1.1135\u001b[0m       0.7575        \u001b[35m1.0702\u001b[0m  2.4641\n",
      "      4        \u001b[36m0.9776\u001b[0m       0.7575        \u001b[35m0.9179\u001b[0m  2.4167\n",
      "      5        \u001b[36m0.8893\u001b[0m       0.7575        \u001b[35m0.8751\u001b[0m  2.4000\n",
      "Model Accuracy: 75.96% Precision: 0.1727 Recall: 0.1519 F1 Score: 0.2000\n"
     ]
    }
   ],
   "source": [
    "rnn_scripts.run_model(filename,sample_size,embeddings,min_df,max_df,l_r,lam)"
   ]
  }
 ],
 "metadata": {
  "kernelspec": {
   "display_name": ".venv",
   "language": "python",
   "name": "python3"
  },
  "language_info": {
   "codemirror_mode": {
    "name": "ipython",
    "version": 3
   },
   "file_extension": ".py",
   "mimetype": "text/x-python",
   "name": "python",
   "nbconvert_exporter": "python",
   "pygments_lexer": "ipython3",
   "version": "3.11.0"
  }
 },
 "nbformat": 4,
 "nbformat_minor": 5
}
