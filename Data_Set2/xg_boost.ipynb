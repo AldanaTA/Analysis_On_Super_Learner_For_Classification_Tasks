{
 "cells": [
  {
   "cell_type": "code",
   "execution_count": 1,
   "id": "d562e83b",
   "metadata": {},
   "outputs": [],
   "source": [
    "import sys\n",
    "import os\n",
    "current_dir = os.getcwd()\n",
    "parent_dir = os.path.dirname(current_dir)\n",
    "sys.path.append(parent_dir + \"\\Scripts\")\n",
    "import xg_boost_script"
   ]
  },
  {
   "cell_type": "code",
   "execution_count": 2,
   "id": "591c851a",
   "metadata": {},
   "outputs": [],
   "source": [
    "filename = 'data_set_2.csv'\n",
    "max_df = .97\n",
    "min_df = .001\n",
    "samp_size = 5000\n",
    "\n",
    "factor = .4\n",
    "\n",
    "def newVal(val,delta):\n",
    "    \n",
    "    high = val * (1+delta)\n",
    "    low = val - (val * delta)\n",
    "    return [high,val,low]"
   ]
  },
  {
   "cell_type": "code",
   "execution_count": 3,
   "id": "d17b3dad",
   "metadata": {},
   "outputs": [
    {
     "name": "stdout",
     "output_type": "stream",
     "text": [
      "Starting Run 1:\n",
      "Fitting 5 folds for each of 1 candidates, totalling 5 fits\n",
      "Best Hyper paramaters:  {'learning_rate': 0.0001, 'reg_lambda': 0.3}\n",
      "Best Scores: 76.68%\n",
      "Model Accuracy: 76.20% Precision: 0.1730 Recall: 0.1524 F1 Score: 0.2000\n",
      "\n",
      "Starting Run 2:\n",
      "Fitting 5 folds for each of 9 candidates, totalling 45 fits\n",
      "Best Hyper paramaters:  {'learning_rate': 0.00014, 'reg_lambda': 0.42}\n",
      "Best Scores: 75.86%\n",
      "Model Accuracy: 76.30% Precision: 0.1731 Recall: 0.1526 F1 Score: 0.2000\n",
      "\n",
      "Starting Run 3:\n",
      "Fitting 5 folds for each of 9 candidates, totalling 45 fits\n",
      "Best Hyper paramaters:  {'learning_rate': 0.00019599999999999997, 'reg_lambda': 0.588}\n",
      "Best Scores: 76.60%\n",
      "Model Accuracy: 77.46% Precision: 0.1746 Recall: 0.1549 F1 Score: 0.2000\n",
      "\n",
      "Starting Run 4:\n",
      "Fitting 5 folds for each of 9 candidates, totalling 45 fits\n",
      "Best Hyper paramaters:  {'learning_rate': 0.00027439999999999995, 'reg_lambda': 0.8231999999999999}\n",
      "Best Scores: 77.74%\n",
      "Model Accuracy: 77.08% Precision: 0.1741 Recall: 0.1542 F1 Score: 0.2000\n",
      "\n",
      "Starting Run 5:\n",
      "Fitting 5 folds for each of 9 candidates, totalling 45 fits\n",
      "Best Hyper paramaters:  {'learning_rate': 0.0003841599999999999, 'reg_lambda': 1.1524799999999997}\n",
      "Best Scores: 77.14%\n",
      "Model Accuracy: 76.16% Precision: 0.1729 Recall: 0.1523 F1 Score: 0.2000\n"
     ]
    }
   ],
   "source": [
    "#Number of runs to complete after starting run\n",
    "runs = 4\n",
    "\n",
    "#Starting Values\n",
    "l2 = [.3]\n",
    "lr = [.0001]\n",
    "\n",
    "\n",
    "\n",
    "\n",
    "print(\"Starting Run 1:\")\n",
    "\n",
    "results = xg_boost_script.run_Experiment(filename,samp_size,max_df,min_df,l2,lr)\n",
    "\n",
    "lam = results[\"reg_lambda\"]\n",
    "l_r = results[\"learning_rate\"]\n",
    "\n",
    "xg_boost_script.run_model(filename,samp_size,max_df,min_df,lam,l_r)\n",
    "\n",
    "for run in range(runs):\n",
    "    print(\"\\nStarting Run {0}:\".format(run+2))\n",
    "    #Compare the current best against slightly higher and slightly smaller values\n",
    "  \n",
    "    l2 = newVal(lam,factor)\n",
    "    lr = newVal(l_r,factor)\n",
    "    \n",
    "    results = xg_boost_script.run_Experiment(filename,samp_size,max_df,min_df,l2,lr)\n",
    "  \n",
    "    lam = results[\"reg_lambda\"]\n",
    "    l_r = results[\"learning_rate\"]\n",
    "    xg_boost_script.run_model(filename,samp_size,max_df,min_df,lam,l_r)"
   ]
  },
  {
   "cell_type": "code",
   "execution_count": 4,
   "id": "8f552aab",
   "metadata": {},
   "outputs": [
    {
     "name": "stdout",
     "output_type": "stream",
     "text": [
      "Model Accuracy: 76.00% Precision: 0.1727 Recall: 0.1520 F1 Score: 0.2000\n"
     ]
    }
   ],
   "source": [
    "xg_boost_script.run_model(filename,samp_size,max_df,min_df,lam,l_r)"
   ]
  },
  {
   "cell_type": "code",
   "execution_count": 5,
   "id": "ba996934",
   "metadata": {},
   "outputs": [
    {
     "name": "stdout",
     "output_type": "stream",
     "text": [
      "Model Accuracy: 76.28% Precision: 0.1731 Recall: 0.1526 F1 Score: 0.2000\n"
     ]
    }
   ],
   "source": [
    "xg_boost_script.run_model(filename,samp_size,max_df,min_df,lam,l_r)"
   ]
  },
  {
   "cell_type": "code",
   "execution_count": 6,
   "id": "0634659b",
   "metadata": {},
   "outputs": [
    {
     "name": "stdout",
     "output_type": "stream",
     "text": [
      "Model Accuracy: 75.90% Precision: 0.1726 Recall: 0.1518 F1 Score: 0.2000\n"
     ]
    }
   ],
   "source": [
    "xg_boost_script.run_model(filename,samp_size,max_df,min_df,lam,l_r)"
   ]
  },
  {
   "cell_type": "code",
   "execution_count": 7,
   "id": "7ae9da58",
   "metadata": {},
   "outputs": [
    {
     "name": "stdout",
     "output_type": "stream",
     "text": [
      "Model Accuracy: 76.20% Precision: 0.1730 Recall: 0.1524 F1 Score: 0.2000\n"
     ]
    }
   ],
   "source": [
    "xg_boost_script.run_model(filename,samp_size,max_df,min_df,lam,l_r)"
   ]
  },
  {
   "cell_type": "code",
   "execution_count": 8,
   "id": "2c051434",
   "metadata": {},
   "outputs": [
    {
     "name": "stdout",
     "output_type": "stream",
     "text": [
      "Model Accuracy: 76.40% Precision: 0.1732 Recall: 0.1528 F1 Score: 0.2000\n"
     ]
    }
   ],
   "source": [
    "xg_boost_script.run_model(filename,samp_size,max_df,min_df,lam,l_r)"
   ]
  }
 ],
 "metadata": {
  "kernelspec": {
   "display_name": ".venv",
   "language": "python",
   "name": "python3"
  },
  "language_info": {
   "codemirror_mode": {
    "name": "ipython",
    "version": 3
   },
   "file_extension": ".py",
   "mimetype": "text/x-python",
   "name": "python",
   "nbconvert_exporter": "python",
   "pygments_lexer": "ipython3",
   "version": "3.11.0"
  }
 },
 "nbformat": 4,
 "nbformat_minor": 5
}
