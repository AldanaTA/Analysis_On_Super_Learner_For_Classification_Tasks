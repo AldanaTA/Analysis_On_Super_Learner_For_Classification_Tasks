{
 "cells": [
  {
   "cell_type": "code",
   "execution_count": null,
   "id": "32e6bce6",
   "metadata": {},
   "outputs": [],
   "source": [
    "import sys\n",
    "import os\n",
    "current_dir = os.getcwd()\n",
    "parent_dir = os.path.dirname(current_dir)\n",
    "sys.path.append(parent_dir + \"\\Scripts\")\n",
    "from tqdm import tqdm\n",
    "import roberta_script\n"
   ]
  },
  {
   "cell_type": "code",
   "execution_count": null,
   "id": "e679192f",
   "metadata": {},
   "outputs": [],
   "source": [
    "samp_size = 10000\n",
    "#hyperParmaters\n",
    "lr = .00001\n",
    "epochs = 5\n",
    "w_decay = .7\n",
    "\n",
    "\n",
    "filename = \"data_set_2.csv\"\n",
    "trainer = roberta_script.run_model(filename,samp_size,lr,epochs,w_decay)"
   ]
  },
  {
   "cell_type": "code",
   "execution_count": null,
   "id": "2d005480",
   "metadata": {},
   "outputs": [],
   "source": [
    "trainer.save_model(\"SavedModel\")"
   ]
  }
 ],
 "metadata": {
  "kernelspec": {
   "display_name": ".venv",
   "language": "python",
   "name": "python3"
  },
  "language_info": {
   "codemirror_mode": {
    "name": "ipython",
    "version": 3
   },
   "file_extension": ".py",
   "mimetype": "text/x-python",
   "name": "python",
   "nbconvert_exporter": "python",
   "pygments_lexer": "ipython3",
   "version": "3.11.0"
  }
 },
 "nbformat": 4,
 "nbformat_minor": 5
}
