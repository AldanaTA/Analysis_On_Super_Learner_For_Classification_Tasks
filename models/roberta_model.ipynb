{
 "cells": [
  {
   "cell_type": "code",
   "execution_count": 1,
   "id": "9878f9ee",
   "metadata": {},
   "outputs": [
    {
     "name": "stderr",
     "output_type": "stream",
     "text": [
      "c:\\Users\\tonya\\OneDrive\\Desktop\\ML_Final\\MachineLearning-Final-Project-Files\\.venv\\Lib\\site-packages\\tqdm\\auto.py:21: TqdmWarning: IProgress not found. Please update jupyter and ipywidgets. See https://ipywidgets.readthedocs.io/en/stable/user_install.html\n",
      "  from .autonotebook import tqdm as notebook_tqdm\n"
     ]
    }
   ],
   "source": [
    "from transformers import AutoModelForSequenceClassification,RobertaTokenizer, Trainer, TrainingArguments\n",
    "import pandas as pd\n",
    "import torch\n",
    "from sklearn.model_selection import train_test_split\n",
    "from torch.utils.data import Dataset\n",
    "from sklearn.metrics import precision_recall_fscore_support,accuracy_score\n",
    "import numpy as np\n",
    "import os"
   ]
  },
  {
   "cell_type": "code",
   "execution_count": 2,
   "id": "9489f20b",
   "metadata": {},
   "outputs": [],
   "source": [
    "class SentimentData(Dataset):\n",
    "    def __init__(self, dataframe, tokenizer, max_len):\n",
    "        self.tokenizer = tokenizer\n",
    "        self.data = dataframe\n",
    "        self.text = dataframe.text\n",
    "        self.label = self.data.label\n",
    "        self.max_len = max_len\n",
    "\n",
    "    def __len__(self):\n",
    "        return len(self.text)\n",
    "\n",
    "    def __getitem__(self, index):\n",
    "        text = str(self.text[index])\n",
    "        text = \" \".join(text.split())\n",
    "       \n",
    "        inputs = self.tokenizer.encode_plus(\n",
    "            text,\n",
    "            None,\n",
    "            truncation = True,\n",
    "            add_special_tokens=True,\n",
    "            max_length=self.max_len,\n",
    "            padding =  'max_length',\n",
    "            return_token_type_ids=True\n",
    "        )\n",
    "        ids = inputs['input_ids']\n",
    "        mask = inputs['attention_mask']\n",
    "   \n",
    "\n",
    "\n",
    "        return {\n",
    "            'input_ids': torch.tensor(ids, dtype=torch.long),\n",
    "            'mask': torch.tensor(mask, dtype=torch.long),\n",
    "            'label': torch.tensor(self.label[index], dtype=torch.float)\n",
    "        }"
   ]
  },
  {
   "cell_type": "code",
   "execution_count": 3,
   "id": "4714963d",
   "metadata": {},
   "outputs": [],
   "source": [
    "\n",
    "def encode_Lables(label):\n",
    "    temp = np.zeros(5)\n",
    "    temp[label-1] = 1\n",
    "    return temp\n",
    "\n",
    "\n",
    "    \n",
    "def split_data(filename,samp_size):\n",
    "    current_dir = os.getcwd()\n",
    "    parent_dir = os.path.dirname(current_dir)\n",
    "    path = parent_dir +\"/model_data/\" + filename\n",
    "    #Sampling data\n",
    "    if samp_size > 1:\n",
    "        samp_size = 1\n",
    "    if samp_size <=0:\n",
    "      samp_size = .1\n",
    "\n",
    "    df = pd.read_csv(path)  \n",
    "    df = df.sample(n=int(len(df) * samp_size))\n",
    "    df.reset_index(inplace=True)\n",
    "    df = pd.read_csv(path)\n",
    "    df = df.sample(n=int(len(df) * .50), replace=True)\n",
    "\n",
    "    #Renaming for Model\n",
    "    df.rename(columns={\"Rating\":\"label\"},inplace=True)\n",
    "    df.rename(columns={\"Review_text\":\"text\"},inplace=True)\n",
    "    df[\"label\"] = df[\"label\"].apply(encode_Lables)\n",
    "    train_data,test_data = train_test_split(df,test_size=.20,random_state=64)\n",
    "    train_data = train_data.reset_index(drop=True)\n",
    "    test_data = test_data.reset_index(drop=True)\n",
    "    max_length = int(df[\"text\"].str.split().str.len().mean())\n",
    "    return train_data,test_data,max_length\n",
    "\n"
   ]
  },
  {
   "cell_type": "code",
   "execution_count": 4,
   "id": "f9966337",
   "metadata": {},
   "outputs": [],
   "source": [
    "#hyperParmaters\n",
    "samp_size = .3\n",
    "lr = 2e-5\n",
    "epochs = 5\n",
    "train_batch_size = 32\n",
    "test_batch_size = 32\n",
    "w_decay = .001"
   ]
  },
  {
   "cell_type": "code",
   "execution_count": 5,
   "id": "c730c4aa",
   "metadata": {},
   "outputs": [],
   "source": [
    "\n",
    "filename = \"data_set_1.csv\"\n",
    "\n",
    "train,test,max_length= split_data(filename,samp_size)"
   ]
  },
  {
   "cell_type": "code",
   "execution_count": 6,
   "id": "e4990579",
   "metadata": {},
   "outputs": [
    {
     "name": "stderr",
     "output_type": "stream",
     "text": [
      "Some weights of RobertaForSequenceClassification were not initialized from the model checkpoint at roberta-base and are newly initialized: ['classifier.dense.bias', 'classifier.dense.weight', 'classifier.out_proj.bias', 'classifier.out_proj.weight']\n",
      "You should probably TRAIN this model on a down-stream task to be able to use it for predictions and inference.\n"
     ]
    }
   ],
   "source": [
    "model = AutoModelForSequenceClassification.from_pretrained(\"roberta-base\", num_labels=5)\n",
    "tokenizer = RobertaTokenizer.from_pretrained(\"roberta-base\")"
   ]
  },
  {
   "cell_type": "code",
   "execution_count": 7,
   "id": "44133ab2",
   "metadata": {},
   "outputs": [],
   "source": [
    "training_set = SentimentData(train, tokenizer, max_len=max_length)\n",
    "testing_set = SentimentData(test, tokenizer, max_len=max_length)"
   ]
  },
  {
   "cell_type": "code",
   "execution_count": 8,
   "id": "18fbc31d",
   "metadata": {},
   "outputs": [
    {
     "data": {
      "text/plain": [
       "{'input_ids': tensor([   0, 5715, 2369, 1318,    2,    1,    1,    1,    1,    1,    1,    1,\n",
       "            1,    1]),\n",
       " 'mask': tensor([1, 1, 1, 1, 1, 0, 0, 0, 0, 0, 0, 0, 0, 0]),\n",
       " 'label': tensor([0., 0., 0., 0., 1.])}"
      ]
     },
     "execution_count": 8,
     "metadata": {},
     "output_type": "execute_result"
    }
   ],
   "source": [
    "training_set.__getitem__(5)"
   ]
  },
  {
   "cell_type": "code",
   "execution_count": 9,
   "id": "a28e21eb",
   "metadata": {},
   "outputs": [],
   "source": [
    "def compute_metrics(pred):\n",
    "    \n",
    "    label = torch.argmax(torch.tensor(pred.label_ids),dim=1).numpy()\n",
    "    preds = torch.argmax(torch.tensor(pred.predictions),dim=1).numpy()\n",
    "    precision, recall, f1, _ = precision_recall_fscore_support(label, preds, average='macro')\n",
    "    acc = accuracy_score(label, preds)\n",
    "    return {\n",
    "        'accuracy': acc,\n",
    "        'f1': f1,\n",
    "        'precision': precision,\n",
    "        'recall': recall\n",
    "    }"
   ]
  },
  {
   "cell_type": "code",
   "execution_count": 10,
   "id": "be95594f",
   "metadata": {},
   "outputs": [
    {
     "data": {
      "text/plain": [
       "RobertaForSequenceClassification(\n",
       "  (roberta): RobertaModel(\n",
       "    (embeddings): RobertaEmbeddings(\n",
       "      (word_embeddings): Embedding(50265, 768, padding_idx=1)\n",
       "      (position_embeddings): Embedding(514, 768, padding_idx=1)\n",
       "      (token_type_embeddings): Embedding(1, 768)\n",
       "      (LayerNorm): LayerNorm((768,), eps=1e-05, elementwise_affine=True)\n",
       "      (dropout): Dropout(p=0.1, inplace=False)\n",
       "    )\n",
       "    (encoder): RobertaEncoder(\n",
       "      (layer): ModuleList(\n",
       "        (0-11): 12 x RobertaLayer(\n",
       "          (attention): RobertaAttention(\n",
       "            (self): RobertaSdpaSelfAttention(\n",
       "              (query): Linear(in_features=768, out_features=768, bias=True)\n",
       "              (key): Linear(in_features=768, out_features=768, bias=True)\n",
       "              (value): Linear(in_features=768, out_features=768, bias=True)\n",
       "              (dropout): Dropout(p=0.1, inplace=False)\n",
       "            )\n",
       "            (output): RobertaSelfOutput(\n",
       "              (dense): Linear(in_features=768, out_features=768, bias=True)\n",
       "              (LayerNorm): LayerNorm((768,), eps=1e-05, elementwise_affine=True)\n",
       "              (dropout): Dropout(p=0.1, inplace=False)\n",
       "            )\n",
       "          )\n",
       "          (intermediate): RobertaIntermediate(\n",
       "            (dense): Linear(in_features=768, out_features=3072, bias=True)\n",
       "            (intermediate_act_fn): GELUActivation()\n",
       "          )\n",
       "          (output): RobertaOutput(\n",
       "            (dense): Linear(in_features=3072, out_features=768, bias=True)\n",
       "            (LayerNorm): LayerNorm((768,), eps=1e-05, elementwise_affine=True)\n",
       "            (dropout): Dropout(p=0.1, inplace=False)\n",
       "          )\n",
       "        )\n",
       "      )\n",
       "    )\n",
       "  )\n",
       "  (classifier): RobertaClassificationHead(\n",
       "    (dense): Linear(in_features=768, out_features=768, bias=True)\n",
       "    (dropout): Dropout(p=0.1, inplace=False)\n",
       "    (out_proj): Linear(in_features=768, out_features=5, bias=True)\n",
       "  )\n",
       ")"
      ]
     },
     "execution_count": 10,
     "metadata": {},
     "output_type": "execute_result"
    }
   ],
   "source": [
    "training_args = TrainingArguments(\n",
    "\n",
    "    learning_rate=lr,\n",
    "    fp16=True,\n",
    "    per_device_train_batch_size=train_batch_size,\n",
    "    per_device_eval_batch_size=test_batch_size,\n",
    "    num_train_epochs=epochs,\n",
    "    weight_decay=w_decay,\n",
    "    eval_strategy=\"epoch\",\n",
    "    save_strategy=\"epoch\",\n",
    "    load_best_model_at_end=True,\n",
    "    push_to_hub=False,\n",
    ")\n",
    "\n",
    "trainer = Trainer(\n",
    "    model=model,\n",
    "    args=training_args,\n",
    "    train_dataset=training_set,\n",
    "    eval_dataset=testing_set,\n",
    "    processing_class=tokenizer,\n",
    "    compute_metrics=compute_metrics,\n",
    ")\n",
    "device = torch.device(\"cuda\" if torch.cuda.is_available() else \"cpu\")\n",
    "model.to(device)\n"
   ]
  },
  {
   "cell_type": "code",
   "execution_count": 11,
   "id": "07264dc1",
   "metadata": {},
   "outputs": [
    {
     "data": {
      "text/html": [
       "\n",
       "    <div>\n",
       "      \n",
       "      <progress value='3770' max='3770' style='width:300px; height:20px; vertical-align: middle;'></progress>\n",
       "      [3770/3770 09:05, Epoch 5/5]\n",
       "    </div>\n",
       "    <table border=\"1\" class=\"dataframe\">\n",
       "  <thead>\n",
       " <tr style=\"text-align: left;\">\n",
       "      <th>Epoch</th>\n",
       "      <th>Training Loss</th>\n",
       "      <th>Validation Loss</th>\n",
       "      <th>Accuracy</th>\n",
       "      <th>F1</th>\n",
       "      <th>Precision</th>\n",
       "      <th>Recall</th>\n",
       "    </tr>\n",
       "  </thead>\n",
       "  <tbody>\n",
       "    <tr>\n",
       "      <td>1</td>\n",
       "      <td>0.355600</td>\n",
       "      <td>0.310786</td>\n",
       "      <td>0.646552</td>\n",
       "      <td>0.312974</td>\n",
       "      <td>0.355019</td>\n",
       "      <td>0.362655</td>\n",
       "    </tr>\n",
       "    <tr>\n",
       "      <td>2</td>\n",
       "      <td>0.308100</td>\n",
       "      <td>0.301704</td>\n",
       "      <td>0.655172</td>\n",
       "      <td>0.368049</td>\n",
       "      <td>0.387143</td>\n",
       "      <td>0.394118</td>\n",
       "    </tr>\n",
       "    <tr>\n",
       "      <td>3</td>\n",
       "      <td>0.289900</td>\n",
       "      <td>0.301195</td>\n",
       "      <td>0.651525</td>\n",
       "      <td>0.397269</td>\n",
       "      <td>0.398883</td>\n",
       "      <td>0.412480</td>\n",
       "    </tr>\n",
       "    <tr>\n",
       "      <td>4</td>\n",
       "      <td>0.269000</td>\n",
       "      <td>0.299741</td>\n",
       "      <td>0.656001</td>\n",
       "      <td>0.417397</td>\n",
       "      <td>0.416876</td>\n",
       "      <td>0.424576</td>\n",
       "    </tr>\n",
       "    <tr>\n",
       "      <td>5</td>\n",
       "      <td>0.257000</td>\n",
       "      <td>0.302143</td>\n",
       "      <td>0.658488</td>\n",
       "      <td>0.436206</td>\n",
       "      <td>0.505987</td>\n",
       "      <td>0.434711</td>\n",
       "    </tr>\n",
       "  </tbody>\n",
       "</table><p>"
      ],
      "text/plain": [
       "<IPython.core.display.HTML object>"
      ]
     },
     "metadata": {},
     "output_type": "display_data"
    },
    {
     "name": "stderr",
     "output_type": "stream",
     "text": [
      "c:\\Users\\tonya\\OneDrive\\Desktop\\ML_Final\\MachineLearning-Final-Project-Files\\.venv\\Lib\\site-packages\\sklearn\\metrics\\_classification.py:1565: UndefinedMetricWarning: Precision is ill-defined and being set to 0.0 in labels with no predicted samples. Use `zero_division` parameter to control this behavior.\n",
      "  _warn_prf(average, modifier, f\"{metric.capitalize()} is\", len(result))\n",
      "c:\\Users\\tonya\\OneDrive\\Desktop\\ML_Final\\MachineLearning-Final-Project-Files\\.venv\\Lib\\site-packages\\sklearn\\metrics\\_classification.py:1565: UndefinedMetricWarning: Precision is ill-defined and being set to 0.0 in labels with no predicted samples. Use `zero_division` parameter to control this behavior.\n",
      "  _warn_prf(average, modifier, f\"{metric.capitalize()} is\", len(result))\n",
      "c:\\Users\\tonya\\OneDrive\\Desktop\\ML_Final\\MachineLearning-Final-Project-Files\\.venv\\Lib\\site-packages\\sklearn\\metrics\\_classification.py:1565: UndefinedMetricWarning: Precision is ill-defined and being set to 0.0 in labels with no predicted samples. Use `zero_division` parameter to control this behavior.\n",
      "  _warn_prf(average, modifier, f\"{metric.capitalize()} is\", len(result))\n",
      "c:\\Users\\tonya\\OneDrive\\Desktop\\ML_Final\\MachineLearning-Final-Project-Files\\.venv\\Lib\\site-packages\\sklearn\\metrics\\_classification.py:1565: UndefinedMetricWarning: Precision is ill-defined and being set to 0.0 in labels with no predicted samples. Use `zero_division` parameter to control this behavior.\n",
      "  _warn_prf(average, modifier, f\"{metric.capitalize()} is\", len(result))\n"
     ]
    },
    {
     "data": {
      "text/plain": [
       "TrainOutput(global_step=3770, training_loss=0.2933345703610691, metrics={'train_runtime': 546.1784, 'train_samples_per_second': 220.853, 'train_steps_per_second': 6.903, 'total_flos': 867853052902500.0, 'train_loss': 0.2933345703610691, 'epoch': 5.0})"
      ]
     },
     "execution_count": 11,
     "metadata": {},
     "output_type": "execute_result"
    }
   ],
   "source": [
    "trainer.train()"
   ]
  }
 ],
 "metadata": {
  "kernelspec": {
   "display_name": ".venv",
   "language": "python",
   "name": "python3"
  },
  "language_info": {
   "codemirror_mode": {
    "name": "ipython",
    "version": 3
   },
   "file_extension": ".py",
   "mimetype": "text/x-python",
   "name": "python",
   "nbconvert_exporter": "python",
   "pygments_lexer": "ipython3",
   "version": "3.11.0"
  }
 },
 "nbformat": 4,
 "nbformat_minor": 5
}
