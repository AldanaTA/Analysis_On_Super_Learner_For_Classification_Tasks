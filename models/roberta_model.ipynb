{
 "cells": [
  {
   "cell_type": "code",
   "execution_count": null,
   "id": "9878f9ee",
   "metadata": {},
   "outputs": [],
   "source": [
    "from transformers import AutoModelForSequenceClassification,RobertaTokenizer, Trainer, TrainingArguments\n",
    "import pandas as pd\n",
    "import torch\n",
    "from sklearn.model_selection import train_test_split\n",
    "from torch.utils.data import Dataset\n",
    "from sklearn.metrics import precision_recall_fscore_support,accuracy_score\n",
    "import numpy as np\n",
    "import os"
   ]
  },
  {
   "cell_type": "code",
   "execution_count": null,
   "id": "9489f20b",
   "metadata": {},
   "outputs": [],
   "source": [
    "class SentimentData(Dataset):\n",
    "    def __init__(self, dataframe, tokenizer, max_len):\n",
    "        self.tokenizer = tokenizer\n",
    "        self.data = dataframe\n",
    "        self.text = dataframe.text\n",
    "        self.label = self.data.label\n",
    "        self.max_len = max_len\n",
    "\n",
    "    def __len__(self):\n",
    "        return len(self.text)\n",
    "\n",
    "    def __getitem__(self, index):\n",
    "        text = str(self.text[index])\n",
    "        text = \" \".join(text.split())\n",
    "       \n",
    "        inputs = self.tokenizer.encode_plus(\n",
    "            text,\n",
    "            None,\n",
    "            truncation = True,\n",
    "            add_special_tokens=True,\n",
    "            max_length=self.max_len,\n",
    "            padding =  'max_length',\n",
    "            return_token_type_ids=True\n",
    "        )\n",
    "        ids = inputs['input_ids']\n",
    "        mask = inputs['attention_mask']\n",
    "   \n",
    "\n",
    "\n",
    "        return {\n",
    "            'input_ids': torch.tensor(ids, dtype=torch.long),\n",
    "            'mask': torch.tensor(mask, dtype=torch.long),\n",
    "            'label': torch.tensor(self.label[index], dtype=torch.float)\n",
    "        }"
   ]
  },
  {
   "cell_type": "code",
   "execution_count": null,
   "id": "4714963d",
   "metadata": {},
   "outputs": [],
   "source": [
    "\n",
    "def encode_Lables(label):\n",
    "    temp = np.zeros(5)\n",
    "    temp[label-1] = 1\n",
    "    return temp\n",
    "\n",
    "\n",
    "    \n",
    "def split_data(filename,samp_size):\n",
    "    current_dir = os.getcwd()\n",
    "    parent_dir = os.path.dirname(current_dir)\n",
    "    path = parent_dir +\"/model_data/\" + filename\n",
    "    #Sampling data\n",
    "    if samp_size > 1:\n",
    "        samp_size = 1\n",
    "    if samp_size <=0:\n",
    "      samp_size = .1\n",
    "\n",
    "    df = pd.read_csv(path)  \n",
    "    df = df.sample(n=int(len(df) * samp_size))\n",
    "    df.reset_index(inplace=True)\n",
    "    df = pd.read_csv(path)\n",
    "    df = df.sample(n=int(len(df) * .50), replace=True)\n",
    "\n",
    "    #Renaming for Model\n",
    "    df.rename(columns={\"Rating\":\"label\"},inplace=True)\n",
    "    df.rename(columns={\"Review_text\":\"text\"},inplace=True)\n",
    "    df[\"label\"] = df[\"label\"].apply(encode_Lables)\n",
    "    train_data,test_data = train_test_split(df,test_size=.20,random_state=64)\n",
    "    train_data = train_data.reset_index(drop=True)\n",
    "    test_data = test_data.reset_index(drop=True)\n",
    "    max_length = int(df[\"text\"].str.split().str.len().mean())\n",
    "    return train_data,test_data,max_length\n",
    "\n"
   ]
  },
  {
   "cell_type": "code",
   "execution_count": null,
   "id": "2f905b14",
   "metadata": {},
   "outputs": [],
   "source": [
    "def compute_metrics(pred):\n",
    "    \n",
    "    label = torch.argmax(torch.tensor(pred.label_ids),dim=1).numpy()\n",
    "    preds = torch.argmax(torch.tensor(pred.predictions),dim=1).numpy()\n",
    "    precision, recall, f1, _ = precision_recall_fscore_support(label, preds, average='micro')\n",
    "    acc = accuracy_score(label, preds)\n",
    "    return {\n",
    "        'accuracy': acc,\n",
    "        'f1': f1,\n",
    "        'precision': precision,\n",
    "        'recall': recall\n",
    "    }"
   ]
  },
  {
   "cell_type": "code",
   "execution_count": null,
   "id": "420f3d04",
   "metadata": {},
   "outputs": [],
   "source": [
    "def runModel(filename,samp_size,lr,epochs,train_batch_size,test_batch_size,w_decay):\n",
    "    train,test,max_length= split_data(filename,samp_size)\n",
    "    model = AutoModelForSequenceClassification.from_pretrained(\"roberta-base\", num_labels=5)\n",
    "    tokenizer = RobertaTokenizer.from_pretrained(\"roberta-base\")\n",
    "\n",
    "    training_set = SentimentData(train, tokenizer, max_len=max_length)\n",
    "    testing_set = SentimentData(test, tokenizer, max_len=max_length)\n",
    "\n",
    "    training_args = TrainingArguments(\n",
    "\n",
    "    learning_rate=lr,\n",
    "    fp16=True,\n",
    "    per_device_train_batch_size=train_batch_size,\n",
    "    per_device_eval_batch_size=test_batch_size,\n",
    "    num_train_epochs=epochs,\n",
    "    weight_decay=w_decay,\n",
    "    eval_strategy=\"epoch\",\n",
    "    save_strategy=\"epoch\",\n",
    "    load_best_model_at_end=True,\n",
    "    push_to_hub=False,\n",
    "    )\n",
    "    trainer = Trainer(\n",
    "    model=model,\n",
    "    args=training_args,\n",
    "    train_dataset=training_set,\n",
    "    eval_dataset=testing_set,\n",
    "    processing_class=tokenizer,\n",
    "    compute_metrics=compute_metrics,\n",
    "    )\n",
    "    device = torch.device(\"cuda\" if torch.cuda.is_available() else \"cpu\")\n",
    "    model.to(device)\n",
    "    trainer.train()"
   ]
  },
  {
   "cell_type": "code",
   "execution_count": null,
   "id": "e95c23fd",
   "metadata": {},
   "outputs": [],
   "source": [
    "def tuneModel():"
   ]
  },
  {
   "cell_type": "code",
   "execution_count": null,
   "id": "f9966337",
   "metadata": {},
   "outputs": [],
   "source": [
    "#hyperParmaters\n",
    "samp_size = .3\n",
    "lr = 2e-5\n",
    "epochs = 5\n",
    "train_batch_size = 32\n",
    "test_batch_size = 32\n",
    "w_decay = .001"
   ]
  },
  {
   "cell_type": "code",
   "execution_count": null,
   "id": "c730c4aa",
   "metadata": {},
   "outputs": [],
   "source": [
    "\n",
    "filename = \"data_set_1.csv\"\n",
    "\n",
    "train,test,max_length= split_data(filename,samp_size)"
   ]
  },
  {
   "cell_type": "code",
   "execution_count": null,
   "id": "e4990579",
   "metadata": {},
   "outputs": [],
   "source": [
    "model = AutoModelForSequenceClassification.from_pretrained(\"roberta-base\", num_labels=5)\n",
    "tokenizer = RobertaTokenizer.from_pretrained(\"roberta-base\")"
   ]
  },
  {
   "cell_type": "code",
   "execution_count": null,
   "id": "44133ab2",
   "metadata": {},
   "outputs": [],
   "source": [
    "training_set = SentimentData(train, tokenizer, max_len=max_length)\n",
    "testing_set = SentimentData(test, tokenizer, max_len=max_length)"
   ]
  }
 ],
 "metadata": {
  "kernelspec": {
   "display_name": ".venv",
   "language": "python",
   "name": "python3"
  },
  "language_info": {
   "codemirror_mode": {
    "name": "ipython",
    "version": 3
   },
   "file_extension": ".py",
   "mimetype": "text/x-python",
   "name": "python",
   "nbconvert_exporter": "python",
   "pygments_lexer": "ipython3",
   "version": "3.11.0"
  }
 },
 "nbformat": 4,
 "nbformat_minor": 5
}
