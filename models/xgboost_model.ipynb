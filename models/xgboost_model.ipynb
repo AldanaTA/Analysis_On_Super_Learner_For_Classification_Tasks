{
 "cells": [
  {
   "cell_type": "code",
   "execution_count": 6,
   "id": "4917b0c9",
   "metadata": {},
   "outputs": [],
   "source": [
    "from xgboost import XGBClassifier\n",
    "import pandas as pd\n",
    "import torch\n",
    "from sklearn.model_selection import KFold,cross_validate\n",
    "from sklearn.feature_extraction.text import TfidfVectorizer\n",
    "from sklearn.metrics import make_scorer,accuracy_score, precision_score, recall_score, f1_score\n",
    "import os\n",
    "import numpy as np\n",
    "import tuning_script"
   ]
  },
  {
   "cell_type": "code",
   "execution_count": 7,
   "id": "370cb90d",
   "metadata": {},
   "outputs": [],
   "source": [
    "def read_data(filename,samp_size):\n",
    "    current_dir = os.getcwd()\n",
    "    parent_dir = os.path.dirname(current_dir)\n",
    "    path = parent_dir +\"/model_data/\" + filename\n",
    "    #Sampling data\n",
    "    if samp_size > 1:\n",
    "        samp_size = 1\n",
    "    if samp_size <=0:\n",
    "      samp_size = .1\n",
    "\n",
    "    df = pd.read_csv(path)\n",
    "    if int(len(df) * samp_size) <= 5000:\n",
    "        df = df.sample(n=int(len(df) * samp_size))\n",
    "    else:\n",
    "        df = df.sample(n=5000)  \n",
    "   \n",
    "    df.reset_index(inplace=True,drop=True)\n",
    "\n",
    "    return df\n",
    "\n",
    "def encode_Test_Lables(label):\n",
    "    return int(label-1)"
   ]
  },
  {
   "cell_type": "code",
   "execution_count": 8,
   "id": "deceb10d",
   "metadata": {},
   "outputs": [],
   "source": [
    "def runModel(filename,samp_size,estimators,lr,l2):\n",
    "    df = read_data(filename,samp_size)\n",
    "\n",
    "    device = \"cpu\"\n",
    "    gpu_available = torch.cuda.is_available()\n",
    "    if gpu_available:\n",
    "        device = 'cuda'\n",
    "\n",
    "    # Convert text data into numerical features using TF-IDF\n",
    "    vectorizer = TfidfVectorizer(max_df=.95,min_df=.0125)\n",
    "    x = vectorizer.fit_transform(df[\"Review_text\"])\n",
    "    y = df[\"Rating\"].apply(encode_Test_Lables)\n",
    "\n",
    "    # create model instance\n",
    "    bst = XGBClassifier(n_estimators = estimators,learing_rate = lr, reg_delta = l2,booster='gblinear',objective='multi:softmax',device = device)\n",
    "\n",
    "    #Set folds and Scoring\n",
    "    kf = KFold(n_splits=5, shuffle=True, random_state=42)\n",
    "    scoring = {\n",
    "    'accuracy': make_scorer(accuracy_score),\n",
    "    'precision': make_scorer(precision_score,average=\"micro\",zero_division=0.0),\n",
    "    'recall': make_scorer(recall_score,average=\"micro\",zero_division=0.0),\n",
    "    'f1_score': make_scorer(f1_score,average=\"micro\",zero_division=0.0)\n",
    "    }\n",
    "    \n",
    "    #run model\n",
    "    cv_results = cross_validate(bst, x, y, cv=kf, scoring=scoring)\n",
    "\n",
    "    #print results\n",
    "    print(\"Model Accuracy: {0:.2%} Precision: {1:.4f} Recall: {2:.4f} F1 Score: {3:.4f}\".format(np.mean(cv_results['test_accuracy']),np.mean(cv_results['test_f1_score']),np.mean(cv_results['test_precision']),np.mean(cv_results['test_recall'])))\n"
   ]
  },
  {
   "cell_type": "code",
   "execution_count": 9,
   "id": "6ea259bd",
   "metadata": {},
   "outputs": [],
   "source": [
    "def run_Experiment(filename,samp_size,estimators,lr,l2,max_df,min_df):\n",
    "    df = read_data(filename,samp_size)\n",
    "\n",
    "    device = \"cpu\"\n",
    "    gpu_available = torch.cuda.is_available()\n",
    "    if gpu_available:\n",
    "        device = 'cuda'\n",
    "\n",
    "    # Convert text data into numerical features using TF-IDF\n",
    "    vectorizer = TfidfVectorizer(max_df = max_df,min_df=min_df)\n",
    "    x = vectorizer.fit_transform(df[\"Review_text\"])\n",
    "    y = df[\"Rating\"].apply(encode_Test_Lables)\n",
    "\n",
    "    # create model instance\n",
    "    bst = XGBClassifier(n_estimators = 5,reg_lambda = .01, learning_rate = .003,booster='gblinear',objective='multi:softmax',device = device)\n",
    "    paramaters = {\n",
    "        \"n_estimators\" : estimators,\n",
    "        \"learning_rate\": lr,\n",
    "        \"reg_lambda\": l2,\n",
    "    }\n",
    "\n",
    "    tuning_script.grid_search(bst,paramaters,x,y)"
   ]
  },
  {
   "cell_type": "code",
   "execution_count": null,
   "id": "7663d168",
   "metadata": {},
   "outputs": [
    {
     "name": "stdout",
     "output_type": "stream",
     "text": [
      "Best Hyper paramaters:  {'learning_rate': 0.001, 'n_estimators': 5, 'reg_lambda': 0.852}\n",
      "Best Scores: 76.60%\n"
     ]
    }
   ],
   "source": [
    "lr = [.0001,.0005,.001]\n",
    "estimators = [5,10,15,20]\n",
    "l2 = [.552,.652,.753,.852]\n",
    "max_df = .97\n",
    "min_df = .001\n",
    "run_Experiment('data_set_2.csv',.5,estimators,lr,l2,max_df,min_df)"
   ]
  }
 ],
 "metadata": {
  "kernelspec": {
   "display_name": ".venv",
   "language": "python",
   "name": "python3"
  },
  "language_info": {
   "codemirror_mode": {
    "name": "ipython",
    "version": 3
   },
   "file_extension": ".py",
   "mimetype": "text/x-python",
   "name": "python",
   "nbconvert_exporter": "python",
   "pygments_lexer": "ipython3",
   "version": "3.11.0"
  }
 },
 "nbformat": 4,
 "nbformat_minor": 5
}
