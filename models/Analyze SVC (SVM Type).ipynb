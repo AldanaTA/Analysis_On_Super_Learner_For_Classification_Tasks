{
 "cells": [
  {
   "cell_type": "code",
   "execution_count": null,
   "id": "bc8b9f4e",
   "metadata": {},
   "outputs": [],
   "source": [
    "from sklearn.svm import SVC\n",
    "import pandas as pd\n",
    "import os"
   ]
  },
  {
   "cell_type": "code",
   "execution_count": null,
   "id": "516c4f80",
   "metadata": {},
   "outputs": [],
   "source": [
    "def read_data(filename,samp_size):\n",
    "    current_dir = os.getcwd()\n",
    "    parent_dir = os.path.dirname(current_dir)\n",
    "    path = parent_dir +\"/model_data/\" + filename\n",
    "    #Sampling data\n",
    "    if samp_size > 1:\n",
    "        samp_size = 1\n",
    "    if samp_size <=0:\n",
    "      samp_size = .1\n",
    "\n",
    "    df = pd.read_csv(path)  \n",
    "    df = df.sample(n=int(len(df) * samp_size))\n",
    "    df.reset_index(inplace=True)\n",
    "    df = pd.read_csv(path)\n",
    "    df = df.sample(n=int(len(df) * .50), replace=True)\n",
    "\n",
    "    return df\n"
   ]
  },
  {
   "cell_type": "code",
   "execution_count": null,
   "id": "875efebc",
   "metadata": {},
   "outputs": [],
   "source": [
    "#Hyper paramaters"
   ]
  },
  {
   "cell_type": "code",
   "execution_count": null,
   "id": "28dd75ef",
   "metadata": {},
   "outputs": [],
   "source": [
    "classifier_svc = SVC()\n",
    "classifier_svc.fit(X_train, y_train)\n",
    "score = classifier_svc.score(X_test, y_test)\n",
    "score_train = classifier_svc.score(X_train, y_train)"
   ]
  }
 ],
 "metadata": {
  "kernelspec": {
   "display_name": "pytorch_env",
   "language": "python",
   "name": "python3"
  },
  "language_info": {
   "codemirror_mode": {
    "name": "ipython",
    "version": 3
   },
   "file_extension": ".py",
   "mimetype": "text/x-python",
   "name": "python",
   "nbconvert_exporter": "python",
   "pygments_lexer": "ipython3",
   "version": "3.11.4"
  }
 },
 "nbformat": 4,
 "nbformat_minor": 5
}
