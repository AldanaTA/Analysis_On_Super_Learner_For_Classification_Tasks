{
 "cells": [
  {
   "cell_type": "code",
   "execution_count": null,
   "id": "4917b0c9",
   "metadata": {},
   "outputs": [],
   "source": [
    "import xgboost as xgb\n",
    "from sklearn.model_selection import KFold\n",
    "from sklearn.model_selection import model_selection.cross_validate\n",
    "from sklearn.metrics import precision_recall_fscore_support,accuracy_score"
   ]
  },
  {
   "cell_type": "code",
   "execution_count": null,
   "id": "14dd2265",
   "metadata": {},
   "outputs": [],
   "source": [
    "\n",
    "\n",
    "#Create Tree\n",
    "tree = XGBClassifier(n_estimators=5, max_depth=2, learning_rate=1, objective='multi')\n",
    "\n",
    "#Train model\n",
    "tree.fit(train[\"text\"],train[\"label\"])\n",
    "\n",
    "pred_XGBoost = tree.predict(train[\"label\"])"
   ]
  },
  {
   "cell_type": "code",
   "execution_count": null,
   "id": "bee0c45f",
   "metadata": {},
   "outputs": [],
   "source": [
    "num_folds = 5\n",
    "kf = KFold(n_splits=num_folds, shuffle=True, random_state=42)"
   ]
  },
  {
   "cell_type": "code",
   "execution_count": null,
   "id": "4aa4820e",
   "metadata": {},
   "outputs": [],
   "source": [
    "cross_val_results = cross_val_score(tree, X, y, cv=kf)"
   ]
  }
 ],
 "metadata": {
  "kernelspec": {
   "display_name": "pytorch_env",
   "language": "python",
   "name": "python3"
  },
  "language_info": {
   "codemirror_mode": {
    "name": "ipython",
    "version": 3
   },
   "file_extension": ".py",
   "mimetype": "text/x-python",
   "name": "python",
   "nbconvert_exporter": "python",
   "pygments_lexer": "ipython3",
   "version": "3.11.4"
  }
 },
 "nbformat": 4,
 "nbformat_minor": 5
}
