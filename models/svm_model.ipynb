{
 "cells": [
  {
   "cell_type": "code",
   "execution_count": 1,
   "id": "bc8b9f4e",
   "metadata": {},
   "outputs": [],
   "source": [
    "from sklearn.svm import SVC\n",
    "from sklearn.metrics import make_scorer,accuracy_score, precision_score, recall_score, f1_score\n",
    "from sklearn.feature_extraction.text import TfidfVectorizer\n",
    "from sklearn.model_selection import KFold,cross_validate\n",
    "import pandas as pd\n",
    "import numpy as np\n",
    "import os\n",
    "import tuning_script"
   ]
  },
  {
   "cell_type": "code",
   "execution_count": null,
   "id": "516c4f80",
   "metadata": {},
   "outputs": [],
   "source": [
    "def read_data(filename,samp_size):\n",
    "     #reading Data\n",
    "    current_dir = os.getcwd()\n",
    "    parent_dir = os.path.dirname(current_dir)\n",
    "    path = parent_dir +\"/model_data/\" + filename\n",
    "    df = pd.read_csv(path)\n",
    "  #Sampling data\n",
    "    if type(samp_size) is float:\n",
    "        if samp_size <=0:\n",
    "            samp_size = .1 \n",
    "        n = int(len(df) * samp_size)\n",
    "        if n > len(df):\n",
    "            print('sample size must be less than or equal to input size set sample to 4000')\n",
    "            n = 4000\n",
    "    else:\n",
    "        if samp_size > 1 and len(df) >= samp_size:\n",
    "            n = samp_size\n",
    "        else:\n",
    "            print('sample size must be less than or equal to input size set sample to 4000')\n",
    "            n = 4000\n",
    "        \n",
    "    df = df.sample(n = n)\n",
    "    df.reset_index(inplace=True, drop= True)\n",
    "    return df\n",
    "\n",
    "def encode_Test_Lables(label):\n",
    "    return int(label-1)"
   ]
  },
  {
   "cell_type": "code",
   "execution_count": null,
   "id": "4754d36d",
   "metadata": {},
   "outputs": [],
   "source": [
    "def runModel(filename,samp_size,l2,max_df,min_df):\n",
    "    df = read_data(filename,samp_size)\n",
    "    vectorizer = TfidfVectorizer(max_df= max_df,min_df= min_df)\n",
    "    x = vectorizer.fit_transform(df[\"Review_text\"])\n",
    "    df[\"Rating\"] = df[\"Rating\"].apply(encode_Test_Lables)\n",
    "    classifier_svc = SVC(C=l2,class_weight='balanced')\n",
    "\n",
    "    kf = KFold(n_splits=5, shuffle=True, random_state=42)\n",
    "    \n",
    "    scoring = {\n",
    "    'accuracy': make_scorer(accuracy_score),\n",
    "    'precision': make_scorer(precision_score,average=\"macro\",zero_division=0.0),\n",
    "    'recall': make_scorer(recall_score,average=\"macro\",zero_division=0.0),\n",
    "    'f1_score': make_scorer(f1_score,average=\"macro\",zero_division=0.0)\n",
    "    }\n",
    "    cv_results = cross_validate(classifier_svc, x, df[\"Rating\"].astype(int), cv=kf, scoring=scoring)\n",
    "\n",
    "    print(\"Model Accuracy: {0:.2%} Precision: {1:.4f} Recall: {2:.4f} F1 Score: {3:.4f}\".format(np.mean(cv_results['test_accuracy']),np.mean(cv_results['test_f1_score']),np.mean(cv_results['test_precision']),np.mean(cv_results['test_recall'])))\n"
   ]
  },
  {
   "cell_type": "code",
   "execution_count": null,
   "id": "6d663fe6",
   "metadata": {},
   "outputs": [],
   "source": [
    "def runExperiments(filename,samp_size,l2,max_df,min_df):\n",
    "    \n",
    "    df = read_data(filename,samp_size)\n",
    "    vectorizer = TfidfVectorizer(max_df= max_df,min_df= min_df)\n",
    "    x = vectorizer.fit_transform(df[\"Review_text\"])\n",
    "    df[\"Rating\"] = df[\"Rating\"].apply(encode_Test_Lables)\n",
    "    classifier_svc = SVC(C=l2,class_weight='balanced')\n",
    "    paramaters = {\n",
    "        'C' : l2\n",
    "    }\n",
    "    params = tuning_script.grid_search(classifier_svc,paramaters,x,df[\"Rating\"])\n",
    "    return params\n",
    "    \n",
    "    "
   ]
  },
  {
   "cell_type": "code",
   "execution_count": null,
   "id": "398380c7",
   "metadata": {},
   "outputs": [
    {
     "name": "stdout",
     "output_type": "stream",
     "text": [
      "Best Hyper paramaters:  {'C': 0.852}\n",
      "Best Scores: 68.22%\n"
     ]
    }
   ],
   "source": [
    "l2 = [.852,1.2,1.4,1.6]\n",
    "max_df = .97\n",
    "min_df = .001\n",
    "runExperiments('data_set_2.csv',.5,l2,max_df,min_df)"
   ]
  }
 ],
 "metadata": {
  "kernelspec": {
   "display_name": ".venv",
   "language": "python",
   "name": "python3"
  },
  "language_info": {
   "codemirror_mode": {
    "name": "ipython",
    "version": 3
   },
   "file_extension": ".py",
   "mimetype": "text/x-python",
   "name": "python",
   "nbconvert_exporter": "python",
   "pygments_lexer": "ipython3",
   "version": "3.11.0"
  }
 },
 "nbformat": 4,
 "nbformat_minor": 5
}
