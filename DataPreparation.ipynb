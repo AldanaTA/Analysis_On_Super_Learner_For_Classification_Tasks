{
 "cells": [
  {
   "cell_type": "markdown",
   "id": "3fe23137",
   "metadata": {},
   "source": [
    "# DataSet1 Preperation"
   ]
  },
  {
   "cell_type": "code",
   "execution_count": 4,
   "id": "8f1e306c",
   "metadata": {},
   "outputs": [],
   "source": [
    "import pandas as pd\n",
    "import gc\n",
    "import nltk\n",
    "from nltk.corpus import stopwords\n",
    "\n",
    "data_dir = \"C:/Users/taldan00\\Documents/MLFP_DataAnalysis_and_DataPrep/RawData/\"\n",
    "\n",
    "def remove_stop_words(text):\n",
    "    stop_words = set(stopwords.words('english'))\n",
    "    tokens = text.split()\n",
    "    filtered_tokens = [word for word in tokens if word.lower() not in stop_words]\n",
    "    return ' '.join(filtered_tokens)\n",
    "    \n",
    "def clean_data(df):\n",
    "    df[\"Review_text\"] = df[\"Review_text\"].astype(str).apply(remove_stop_words)\n",
    "    df[\"Review_text\"] = df[\"Review_text\"].str.replace(\"[^a-z^']\", \" \", regex= True)\n",
    "    df = df[df['Review_text'] != \"NAN\"]\n",
    "    df = df[df['Review_text'] != \"\"]\n",
    "    return df"
   ]
  },
  {
   "cell_type": "code",
   "execution_count": 5,
   "id": "c78f36fe",
   "metadata": {},
   "outputs": [],
   "source": [
    "df = pd.read_csv(data_dir + \"Amazon Review Data Web Scrapping - Amazon Review Data Web Scrapping.csv\")"
   ]
  },
  {
   "cell_type": "code",
   "execution_count": 6,
   "id": "eab2b3a1",
   "metadata": {},
   "outputs": [
    {
     "data": {
      "text/plain": [
       "573"
      ]
     },
     "execution_count": 6,
     "metadata": {},
     "output_type": "execute_result"
    }
   ],
   "source": [
    "data = df.drop(df.columns[[0,1,2,5]], axis = 1)\n",
    "data = clean_data(data)\n",
    "del df\n",
    "gc.collect()"
   ]
  },
  {
   "cell_type": "code",
   "execution_count": 7,
   "id": "11ded44f",
   "metadata": {},
   "outputs": [
    {
     "data": {
      "text/plain": [
       "0"
      ]
     },
     "execution_count": 7,
     "metadata": {},
     "output_type": "execute_result"
    }
   ],
   "source": [
    "filename = \"data_set_1.csv\"\n",
    "\n",
    "data.to_csv(filename,index = False)\n",
    "\n",
    "del data\n",
    "del filename\n",
    "\n",
    "gc.collect()"
   ]
  },
  {
   "cell_type": "markdown",
   "id": "9a4cd22f",
   "metadata": {},
   "source": [
    "# DataSet2 Preperation"
   ]
  },
  {
   "cell_type": "code",
   "execution_count": 8,
   "id": "f3ed3e11",
   "metadata": {},
   "outputs": [],
   "source": [
    "df1 = pd.read_json(data_dir + \"DataSet2/Arts_Crafts_and_Sewing_5.json\", lines = True)\n",
    "df2 = pd.read_json(data_dir +\"DataSet2/Appliances_5.json\", lines = True)\n",
    "df3 = pd.read_json(data_dir +\"DataSet2/AMAZON_FASHION_5.json\", lines = True)\n",
    "df4 = pd.read_json(data_dir +\"DataSet2/All_Beauty_5.json\", lines = True)"
   ]
  },
  {
   "cell_type": "code",
   "execution_count": 9,
   "id": "95509efb",
   "metadata": {},
   "outputs": [
    {
     "data": {
      "text/plain": [
       "0"
      ]
     },
     "execution_count": 9,
     "metadata": {},
     "output_type": "execute_result"
    }
   ],
   "source": [
    "df = pd.concat([df1,df2,df3,df4], axis = 0, ignore_index= True)\n",
    "\n",
    "del df1,df2,df3,df4\n",
    "\n",
    "gc.collect()\n"
   ]
  },
  {
   "cell_type": "code",
   "execution_count": 10,
   "id": "5c0ad7ac",
   "metadata": {},
   "outputs": [
    {
     "data": {
      "text/plain": [
       "0"
      ]
     },
     "execution_count": 10,
     "metadata": {},
     "output_type": "execute_result"
    }
   ],
   "source": [
    "data = df.drop(df.columns[[1,2,3,4,5,6,8,9,10,11]], axis = 1)\n",
    "\n",
    "del df\n",
    "gc.collect()"
   ]
  },
  {
   "cell_type": "code",
   "execution_count": 11,
   "id": "b4b3b1ed",
   "metadata": {},
   "outputs": [],
   "source": [
    "data.rename(columns={'reviewText' : 'Review_text'}, inplace= True)\n",
    "data.rename(columns={'overall' : 'Rating'}, inplace= True)"
   ]
  },
  {
   "cell_type": "code",
   "execution_count": 12,
   "id": "0a2ee50b",
   "metadata": {},
   "outputs": [],
   "source": [
    "data = data.iloc[:,[1,0]]\n",
    "data = clean_data(data)"
   ]
  },
  {
   "cell_type": "code",
   "execution_count": 13,
   "id": "4a9425fa",
   "metadata": {},
   "outputs": [
    {
     "data": {
      "text/plain": [
       "19"
      ]
     },
     "execution_count": 13,
     "metadata": {},
     "output_type": "execute_result"
    }
   ],
   "source": [
    "filename = \"data_set_2.csv\"\n",
    "\n",
    "data.to_csv(filename,index = False)\n",
    "\n",
    "del data\n",
    "del filename\n",
    "\n",
    "gc.collect()"
   ]
  },
  {
   "cell_type": "markdown",
   "id": "4941247e",
   "metadata": {},
   "source": [
    "# DataSet3 Preperation\n"
   ]
  },
  {
   "cell_type": "code",
   "execution_count": 14,
   "id": "8d8ebeed",
   "metadata": {},
   "outputs": [],
   "source": [
    "df = pd.read_csv(data_dir +\"amazon_review.csv\")"
   ]
  },
  {
   "cell_type": "code",
   "execution_count": 15,
   "id": "2187aff9",
   "metadata": {},
   "outputs": [
    {
     "data": {
      "text/plain": [
       "0"
      ]
     },
     "execution_count": 15,
     "metadata": {},
     "output_type": "execute_result"
    }
   ],
   "source": [
    "data = df.drop(df.columns[[0,1,2,3,6,7,8,9,10,11]], axis = 1)\n",
    "\n",
    "del df\n",
    "gc.collect()"
   ]
  },
  {
   "cell_type": "code",
   "execution_count": 16,
   "id": "9cf498d9",
   "metadata": {},
   "outputs": [],
   "source": [
    "data.rename(columns={'reviewText' : 'Review_text'}, inplace= True)\n",
    "data.rename(columns={'overall' : 'Rating'}, inplace= True)\n",
    "data = clean_data(data)"
   ]
  },
  {
   "cell_type": "code",
   "execution_count": 17,
   "id": "9ed8aebf",
   "metadata": {},
   "outputs": [
    {
     "data": {
      "text/plain": [
       "19"
      ]
     },
     "execution_count": 17,
     "metadata": {},
     "output_type": "execute_result"
    }
   ],
   "source": [
    "filename = \"data_set_3.csv\"\n",
    "\n",
    "data.to_csv(filename,index = False)\n",
    "\n",
    "del data\n",
    "del filename\n",
    "\n",
    "gc.collect()"
   ]
  },
  {
   "cell_type": "markdown",
   "id": "b8b892a3",
   "metadata": {},
   "source": [
    "# DataSet4 Preperation"
   ]
  },
  {
   "cell_type": "code",
   "execution_count": 18,
   "id": "f6295162",
   "metadata": {},
   "outputs": [],
   "source": [
    "df = pd.read_csv(data_dir +\"Amazon_reviews_2023.csv\")"
   ]
  },
  {
   "cell_type": "code",
   "execution_count": 19,
   "id": "e691fbea",
   "metadata": {},
   "outputs": [
    {
     "data": {
      "text/plain": [
       "0"
      ]
     },
     "execution_count": 19,
     "metadata": {},
     "output_type": "execute_result"
    }
   ],
   "source": [
    "data = df.drop(df.columns[[1,3,4,5,6,7,8,9]], axis = 1)\n",
    "\n",
    "del df\n",
    "gc.collect()"
   ]
  },
  {
   "cell_type": "code",
   "execution_count": 20,
   "id": "fb57ad8f",
   "metadata": {},
   "outputs": [],
   "source": [
    "data = data.iloc[:,[1,0]]"
   ]
  },
  {
   "cell_type": "code",
   "execution_count": 21,
   "id": "33c9bf6b",
   "metadata": {},
   "outputs": [],
   "source": [
    "data.rename(columns={'text' : 'Review_text'}, inplace= True)\n",
    "data.rename(columns={'rating' : 'Rating'}, inplace= True)\n",
    "data = clean_data(data)"
   ]
  },
  {
   "cell_type": "code",
   "execution_count": 22,
   "id": "e9a6a616",
   "metadata": {},
   "outputs": [
    {
     "data": {
      "text/plain": [
       "19"
      ]
     },
     "execution_count": 22,
     "metadata": {},
     "output_type": "execute_result"
    }
   ],
   "source": [
    "filename = \"data_set_4.csv\"\n",
    "\n",
    "data.to_csv(filename,index = False)\n",
    "\n",
    "del data\n",
    "del filename\n",
    "\n",
    "gc.collect()"
   ]
  }
 ],
 "metadata": {
  "kernelspec": {
   "display_name": "env",
   "language": "python",
   "name": "python3"
  },
  "language_info": {
   "codemirror_mode": {
    "name": "ipython",
    "version": 3
   },
   "file_extension": ".py",
   "mimetype": "text/x-python",
   "name": "python",
   "nbconvert_exporter": "python",
   "pygments_lexer": "ipython3",
   "version": "3.11.4"
  }
 },
 "nbformat": 4,
 "nbformat_minor": 5
}
