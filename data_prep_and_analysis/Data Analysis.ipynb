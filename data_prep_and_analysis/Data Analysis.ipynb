{
 "cells": [
  {
   "cell_type": "code",
   "execution_count": null,
   "id": "4853241b",
   "metadata": {},
   "outputs": [],
   "source": [
    "import pandas as pd\n",
    "import os\n",
    "\n",
    "#nltk.download('stopwords')\n",
    "def getMost(df,rating):\n",
    "    temp = df.loc[df['Rating'] == rating]\n",
    "    words = dict()\n",
    "    for index, row in temp.iterrows():\n",
    "        tokens = row[\"Review_text\"]\n",
    "        tokens = tokens.split()\n",
    "        for word in range(len(tokens)):\n",
    "            if tokens[word] in words:\n",
    "                words[tokens[word]] +=1\n",
    "            else:\n",
    "                words[tokens[word]] =1\n",
    "\n",
    "    res = max(words, key=words.get)\n",
    "    return res\n",
    "\n",
    "\n",
    "\n",
    "def getAnalysis(filename):\n",
    "    df = pd.read_csv(filename)\n",
    "    mean_txt_Length = str(int(df[\"Review_text\"].str.split().str.len().mean()))\n",
    "    std_txt_Length = str(int(df[\"Review_text\"].str.split().str.len().std()))\n",
    "    numberofRows = str(len(df))\n",
    "    most_one = str(getMost(df,1))\n",
    "    most_two = str(getMost(df,2))\n",
    "    most_three = str(getMost(df,3))\n",
    "    most_four = str(getMost(df,4))\n",
    "    most_five = str(getMost(df,5))\n",
    "\n",
    "    records_one = str(len(df.loc[df['Rating'] == 1]))\n",
    "    records_two = str(len(df.loc[df['Rating'] == 2]))\n",
    "    records_three = str(len(df.loc[df['Rating'] == 3]))\n",
    "    records_four =  str(len(df.loc[df['Rating'] == 4]))\n",
    "    records_five =  str(len(df.loc[df['Rating'] == 5]))\n",
    "    \n",
    "\n",
    "    analysis = \"File: \" + filename + \"\\n**************\\nMean txt Length: \" + mean_txt_Length + \"\\nStandard Deviation txt Length: \" + std_txt_Length + \"\\nTotal Records: \" + numberofRows  + \"\\nWord Most Used in 1: \" + most_one + \"\\nWord Most Used in 2: \" + most_two + \"\\nWord Most Used in 3: \" + most_three + \"\\nWord Most Used in 4: \" + most_four + \"\\nWord Most Used in 5: \" + most_five +\"\\nRecords for 1: \" + records_one +\"\\nRecords for 2: \" + records_two +\"\\nRecords for 3: \" + records_three +\"\\nRecords for 4: \" + records_four +\"\\nRecords for 5: \" + records_five\n",
    "    return analysis\n",
    "current_dir = os.getcwd()\n",
    "parent_dir = os.path.dirname(current_dir)\n",
    "data_dir = os.path.join(parent_dir, \"model_data\") + \"\\\\\"\n",
    "  \n",
    "\n",
    "    "
   ]
  },
  {
   "cell_type": "markdown",
   "id": "d28a1a93",
   "metadata": {},
   "source": [
    "# DataSet1 Analysis"
   ]
  },
  {
   "cell_type": "code",
   "execution_count": 2,
   "id": "ca34cfbc",
   "metadata": {},
   "outputs": [
    {
     "ename": "AttributeError",
     "evalue": "'float' object has no attribute 'split'",
     "output_type": "error",
     "traceback": [
      "\u001b[31m---------------------------------------------------------------------------\u001b[39m",
      "\u001b[31mAttributeError\u001b[39m                            Traceback (most recent call last)",
      "\u001b[36mCell\u001b[39m\u001b[36m \u001b[39m\u001b[32mIn[2]\u001b[39m\u001b[32m, line 1\u001b[39m\n\u001b[32m----> \u001b[39m\u001b[32m1\u001b[39m analysis = \u001b[43mgetAnalysis\u001b[49m\u001b[43m(\u001b[49m\u001b[43mdata_dir\u001b[49m\u001b[43m \u001b[49m\u001b[43m+\u001b[49m\u001b[43m \u001b[49m\u001b[33;43m\"\u001b[39;49m\u001b[33;43mdata_set_1.csv\u001b[39;49m\u001b[33;43m\"\u001b[39;49m\u001b[43m)\u001b[49m\n\u001b[32m      2\u001b[39m \u001b[38;5;28mprint\u001b[39m(analysis)\n",
      "\u001b[36mCell\u001b[39m\u001b[36m \u001b[39m\u001b[32mIn[1]\u001b[39m\u001b[32m, line 28\u001b[39m, in \u001b[36mgetAnalysis\u001b[39m\u001b[34m(filename)\u001b[39m\n\u001b[32m     26\u001b[39m numberofRows = \u001b[38;5;28mstr\u001b[39m(\u001b[38;5;28mlen\u001b[39m(df))\n\u001b[32m     27\u001b[39m most_one = \u001b[38;5;28mstr\u001b[39m(getMost(df,\u001b[32m1\u001b[39m))\n\u001b[32m---> \u001b[39m\u001b[32m28\u001b[39m most_two = \u001b[38;5;28mstr\u001b[39m(\u001b[43mgetMost\u001b[49m\u001b[43m(\u001b[49m\u001b[43mdf\u001b[49m\u001b[43m,\u001b[49m\u001b[32;43m2\u001b[39;49m\u001b[43m)\u001b[49m)\n\u001b[32m     29\u001b[39m most_three = \u001b[38;5;28mstr\u001b[39m(getMost(df,\u001b[32m3\u001b[39m))\n\u001b[32m     30\u001b[39m most_four = \u001b[38;5;28mstr\u001b[39m(getMost(df,\u001b[32m4\u001b[39m))\n",
      "\u001b[36mCell\u001b[39m\u001b[36m \u001b[39m\u001b[32mIn[1]\u001b[39m\u001b[32m, line 10\u001b[39m, in \u001b[36mgetMost\u001b[39m\u001b[34m(df, rating)\u001b[39m\n\u001b[32m      8\u001b[39m \u001b[38;5;28;01mfor\u001b[39;00m index, row \u001b[38;5;129;01min\u001b[39;00m temp.iterrows():\n\u001b[32m      9\u001b[39m     tokens = row[\u001b[33m\"\u001b[39m\u001b[33mReview_text\u001b[39m\u001b[33m\"\u001b[39m]\n\u001b[32m---> \u001b[39m\u001b[32m10\u001b[39m     tokens = \u001b[43mtokens\u001b[49m\u001b[43m.\u001b[49m\u001b[43msplit\u001b[49m()\n\u001b[32m     11\u001b[39m     \u001b[38;5;28;01mfor\u001b[39;00m word \u001b[38;5;129;01min\u001b[39;00m \u001b[38;5;28mrange\u001b[39m(\u001b[38;5;28mlen\u001b[39m(tokens)):\n\u001b[32m     12\u001b[39m         \u001b[38;5;28;01mif\u001b[39;00m tokens[word] \u001b[38;5;129;01min\u001b[39;00m words:\n",
      "\u001b[31mAttributeError\u001b[39m: 'float' object has no attribute 'split'"
     ]
    }
   ],
   "source": [
    "analysis = getAnalysis(data_dir + \"data_set_1.csv\")\n",
    "print(analysis)\n",
    "\n"
   ]
  },
  {
   "cell_type": "markdown",
   "id": "6d494555",
   "metadata": {},
   "source": [
    "# DataSet2 Analysis"
   ]
  },
  {
   "cell_type": "code",
   "execution_count": null,
   "id": "0d5dada1",
   "metadata": {},
   "outputs": [],
   "source": [
    "analysis = analysis + \"\\n\\n\" + getAnalysis(data_dir + \"data_set_2.csv\")\n",
    "print(analysis)\n"
   ]
  },
  {
   "cell_type": "markdown",
   "id": "0fcb79a4",
   "metadata": {},
   "source": [
    "# DataSet3 Analysis"
   ]
  },
  {
   "cell_type": "code",
   "execution_count": null,
   "id": "f47d8670",
   "metadata": {},
   "outputs": [],
   "source": [
    "analysis = analysis + \"\\n\\n\" + getAnalysis(data_dir + \"data_set_3.csv\")\n",
    "print(analysis)"
   ]
  },
  {
   "cell_type": "markdown",
   "id": "1fb12be6",
   "metadata": {},
   "source": [
    "# DataSet4 Analysis"
   ]
  },
  {
   "cell_type": "code",
   "execution_count": null,
   "id": "0f341955",
   "metadata": {},
   "outputs": [],
   "source": [
    "analysis = analysis + \"\\n\\n\" + getAnalysis(data_dir + \"data_set_4.csv\")\n",
    "print(analysis)"
   ]
  },
  {
   "cell_type": "code",
   "execution_count": null,
   "id": "6bdc14c7",
   "metadata": {},
   "outputs": [],
   "source": [
    "with open(\"Analysis.txt\", mode = \"w\") as f:\n",
    "    f.write(analysis)"
   ]
  }
 ],
 "metadata": {
  "kernelspec": {
   "display_name": ".venv",
   "language": "python",
   "name": "python3"
  },
  "language_info": {
   "codemirror_mode": {
    "name": "ipython",
    "version": 3
   },
   "file_extension": ".py",
   "mimetype": "text/x-python",
   "name": "python",
   "nbconvert_exporter": "python",
   "pygments_lexer": "ipython3",
   "version": "3.11.0"
  }
 },
 "nbformat": 4,
 "nbformat_minor": 5
}
