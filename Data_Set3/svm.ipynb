{
 "cells": [
  {
   "cell_type": "code",
   "execution_count": 1,
   "id": "5a16f776",
   "metadata": {},
   "outputs": [],
   "source": [
    "import sys\n",
    "import os\n",
    "current_dir = os.getcwd()\n",
    "parent_dir = os.path.dirname(current_dir)\n",
    "sys.path.append(parent_dir + \"\\Scripts\")\n",
    "import svm_script"
   ]
  },
  {
   "cell_type": "code",
   "execution_count": 2,
   "id": "284e8aa7",
   "metadata": {},
   "outputs": [],
   "source": [
    "filename = \"data_set_3.csv\"\n",
    "sample_size = 2000\n",
    "\n",
    "max_df = .97\n",
    "min_df = .001\n",
    "\n"
   ]
  },
  {
   "cell_type": "code",
   "execution_count": 3,
   "id": "b13074ed",
   "metadata": {},
   "outputs": [
    {
     "name": "stdout",
     "output_type": "stream",
     "text": [
      "Starting Run 1:\n",
      "Fitting 5 folds for each of 1 candidates, totalling 5 fits\n",
      "Best Hyper paramaters:  {'C': 0.7}\n",
      "Best Scores: 79.65%\n",
      "Model Accuracy: 77.35% Precision: 0.2520 Recall: 0.2917 F1 Score: 0.2460\n",
      "\n",
      "Starting Run 2:\n",
      "Fitting 5 folds for each of 3 candidates, totalling 15 fits\n",
      "Best Hyper paramaters:  {'C': 0.35}\n",
      "Best Scores: 80.50%\n",
      "Model Accuracy: 70.50% Precision: 0.2624 Recall: 0.2977 F1 Score: 0.2814\n",
      "\n",
      "Starting Run 3:\n",
      "Fitting 5 folds for each of 3 candidates, totalling 15 fits\n",
      "Best Hyper paramaters:  {'C': 0.5249999999999999}\n",
      "Best Scores: 80.20%\n",
      "Model Accuracy: 78.50% Precision: 0.2702 Recall: 0.3053 F1 Score: 0.2609\n",
      "\n",
      "Starting Run 4:\n",
      "Fitting 5 folds for each of 3 candidates, totalling 15 fits\n",
      "Best Hyper paramaters:  {'C': 0.7874999999999999}\n",
      "Best Scores: 78.15%\n",
      "Model Accuracy: 79.00% Precision: 0.2353 Recall: 0.3084 F1 Score: 0.2318\n",
      "\n",
      "Starting Run 5:\n",
      "Fitting 5 folds for each of 3 candidates, totalling 15 fits\n",
      "Best Hyper paramaters:  {'C': 1.18125}\n",
      "Best Scores: 79.35%\n",
      "Model Accuracy: 79.10% Precision: 0.2623 Recall: 0.4193 F1 Score: 0.2551\n"
     ]
    }
   ],
   "source": [
    "#Number of runs to complete after starting run\n",
    "runs = 4\n",
    "\n",
    "#Starting Values\n",
    "print(\"Starting Run 1:\")\n",
    "l2 = [.7]\n",
    "result = svm_script.run_experiments(filename,sample_size,l2,max_df,min_df)\n",
    "result = result['C']\n",
    "svm_script.run_model(filename,sample_size,result,max_df,min_df)\n",
    "\n",
    "\n",
    "for run in range(runs):\n",
    "    print(\"\\nStarting Run {0}:\".format(run+2))\n",
    "    high = (result*1.5)\n",
    "    same = result\n",
    "    low =  (result - (result*.5))\n",
    "    l2 = [high,same,low]\n",
    "    result = svm_script.run_experiments(filename,sample_size,l2,max_df,min_df)\n",
    "    result = result['C']\n",
    "    svm_script.run_model(filename,sample_size,result,max_df,min_df)"
   ]
  },
  {
   "cell_type": "code",
   "execution_count": 4,
   "id": "81001d61",
   "metadata": {},
   "outputs": [
    {
     "name": "stdout",
     "output_type": "stream",
     "text": [
      "Model Accuracy: 78.30% Precision: 0.2383 Recall: 0.3176 F1 Score: 0.2357\n"
     ]
    }
   ],
   "source": [
    "svm_script.run_model(filename,sample_size,result,max_df,min_df)"
   ]
  },
  {
   "cell_type": "code",
   "execution_count": 5,
   "id": "803d3e11",
   "metadata": {},
   "outputs": [
    {
     "name": "stdout",
     "output_type": "stream",
     "text": [
      "Model Accuracy: 80.40% Precision: 0.2036 Recall: 0.2626 F1 Score: 0.2122\n"
     ]
    }
   ],
   "source": [
    "svm_script.run_model(filename,sample_size,result,max_df,min_df)"
   ]
  },
  {
   "cell_type": "code",
   "execution_count": 6,
   "id": "eec17a40",
   "metadata": {},
   "outputs": [
    {
     "name": "stdout",
     "output_type": "stream",
     "text": [
      "Model Accuracy: 80.70% Precision: 0.2447 Recall: 0.3249 F1 Score: 0.2408\n"
     ]
    }
   ],
   "source": [
    "svm_script.run_model(filename,sample_size,result,max_df,min_df)"
   ]
  },
  {
   "cell_type": "code",
   "execution_count": 7,
   "id": "b95c4411",
   "metadata": {},
   "outputs": [
    {
     "name": "stdout",
     "output_type": "stream",
     "text": [
      "Model Accuracy: 80.25% Precision: 0.2280 Recall: 0.3113 F1 Score: 0.2333\n"
     ]
    }
   ],
   "source": [
    "svm_script.run_model(filename,sample_size,result,max_df,min_df)"
   ]
  },
  {
   "cell_type": "code",
   "execution_count": 8,
   "id": "12b6edc5",
   "metadata": {},
   "outputs": [
    {
     "name": "stdout",
     "output_type": "stream",
     "text": [
      "Model Accuracy: 79.30% Precision: 0.2412 Recall: 0.3417 F1 Score: 0.2353\n"
     ]
    }
   ],
   "source": [
    "svm_script.run_model(filename,sample_size,result,max_df,min_df)"
   ]
  }
 ],
 "metadata": {
  "kernelspec": {
   "display_name": ".venv",
   "language": "python",
   "name": "python3"
  },
  "language_info": {
   "codemirror_mode": {
    "name": "ipython",
    "version": 3
   },
   "file_extension": ".py",
   "mimetype": "text/x-python",
   "name": "python",
   "nbconvert_exporter": "python",
   "pygments_lexer": "ipython3",
   "version": "3.11.0"
  }
 },
 "nbformat": 4,
 "nbformat_minor": 5
}
