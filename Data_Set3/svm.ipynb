{
 "cells": [
  {
   "cell_type": "code",
   "execution_count": 1,
   "id": "5a16f776",
   "metadata": {},
   "outputs": [],
   "source": [
    "import sys\n",
    "import os\n",
    "current_dir = os.getcwd()\n",
    "parent_dir = os.path.dirname(current_dir)\n",
    "sys.path.append(parent_dir + \"\\Scripts\")\n",
    "import svm_script"
   ]
  },
  {
   "cell_type": "code",
   "execution_count": 2,
   "id": "284e8aa7",
   "metadata": {},
   "outputs": [],
   "source": [
    "filename = \"data_set_3.csv\"\n",
    "sample_size = 5000\n",
    "\n",
    "max_df = .97\n",
    "min_df = .001\n",
    "\n"
   ]
  },
  {
   "cell_type": "code",
   "execution_count": 3,
   "id": "b13074ed",
   "metadata": {},
   "outputs": [
    {
     "name": "stdout",
     "output_type": "stream",
     "text": [
      "Starting Run 1:\n",
      "sample size must be less than or equal to input size set sample to 4000\n",
      "Fitting 5 folds for each of 1 candidates, totalling 5 fits\n",
      "Best Hyper paramaters:  {'C': 0.7}\n",
      "Best Scores: 75.33%\n",
      "sample size must be less than or equal to input size set sample to 4000\n",
      "Model Accuracy: 75.17% Precision: 0.3136 Recall: 0.3525 F1 Score: 0.3132\n",
      "\n",
      "Starting Run 2:\n",
      "sample size must be less than or equal to input size set sample to 4000\n",
      "Fitting 5 folds for each of 3 candidates, totalling 15 fits\n",
      "Best Hyper paramaters:  {'C': 1.0499999999999998}\n",
      "Best Scores: 78.72%\n",
      "sample size must be less than or equal to input size set sample to 4000\n",
      "Model Accuracy: 78.42% Precision: 0.3057 Recall: 0.3631 F1 Score: 0.2958\n",
      "\n",
      "Starting Run 3:\n",
      "sample size must be less than or equal to input size set sample to 4000\n",
      "Fitting 5 folds for each of 3 candidates, totalling 15 fits\n",
      "Best Hyper paramaters:  {'C': 1.5749999999999997}\n",
      "Best Scores: 80.20%\n",
      "sample size must be less than or equal to input size set sample to 4000\n",
      "Model Accuracy: 80.08% Precision: 0.2883 Recall: 0.4020 F1 Score: 0.2774\n",
      "\n",
      "Starting Run 4:\n",
      "sample size must be less than or equal to input size set sample to 4000\n",
      "Fitting 5 folds for each of 3 candidates, totalling 15 fits\n",
      "Best Hyper paramaters:  {'C': 2.3625}\n",
      "Best Scores: 81.25%\n",
      "sample size must be less than or equal to input size set sample to 4000\n",
      "Model Accuracy: 80.38% Precision: 0.2607 Recall: 0.3149 F1 Score: 0.2577\n",
      "\n",
      "Starting Run 5:\n",
      "sample size must be less than or equal to input size set sample to 4000\n",
      "Fitting 5 folds for each of 3 candidates, totalling 15 fits\n",
      "Best Hyper paramaters:  {'C': 3.5437499999999997}\n",
      "Best Scores: 80.80%\n",
      "sample size must be less than or equal to input size set sample to 4000\n",
      "Model Accuracy: 80.53% Precision: 0.2628 Recall: 0.3213 F1 Score: 0.2604\n"
     ]
    }
   ],
   "source": [
    "#Number of runs to complete after starting run\n",
    "runs = 4\n",
    "\n",
    "#Starting Values\n",
    "print(\"Starting Run 1:\")\n",
    "l2 = [.7]\n",
    "result = svm_script.run_experiments(filename,sample_size,l2,max_df,min_df)\n",
    "result = result['C']\n",
    "svm_script.run_model(filename,sample_size,result,max_df,min_df)\n",
    "\n",
    "\n",
    "for run in range(runs):\n",
    "    print(\"\\nStarting Run {0}:\".format(run+2))\n",
    "    high = (result*1.5)\n",
    "    same = result\n",
    "    low =  (result - (result*.5))\n",
    "    l2 = [high,same,low]\n",
    "    result = svm_script.run_experiments(filename,sample_size,l2,max_df,min_df)\n",
    "    result = result['C']\n",
    "    svm_script.run_model(filename,sample_size,result,max_df,min_df)"
   ]
  },
  {
   "cell_type": "code",
   "execution_count": 4,
   "id": "81001d61",
   "metadata": {},
   "outputs": [
    {
     "name": "stdout",
     "output_type": "stream",
     "text": [
      "sample size must be less than or equal to input size set sample to 4000\n",
      "Model Accuracy: 81.08% Precision: 0.2538 Recall: 0.3056 F1 Score: 0.2530\n"
     ]
    }
   ],
   "source": [
    "svm_script.run_model(filename,sample_size,result,max_df,min_df)"
   ]
  },
  {
   "cell_type": "code",
   "execution_count": 5,
   "id": "803d3e11",
   "metadata": {},
   "outputs": [
    {
     "name": "stdout",
     "output_type": "stream",
     "text": [
      "sample size must be less than or equal to input size set sample to 4000\n",
      "Model Accuracy: 81.15% Precision: 0.2622 Recall: 0.3878 F1 Score: 0.2577\n"
     ]
    }
   ],
   "source": [
    "svm_script.run_model(filename,sample_size,result,max_df,min_df)"
   ]
  },
  {
   "cell_type": "code",
   "execution_count": 6,
   "id": "eec17a40",
   "metadata": {},
   "outputs": [
    {
     "name": "stdout",
     "output_type": "stream",
     "text": [
      "sample size must be less than or equal to input size set sample to 4000\n",
      "Model Accuracy: 80.70% Precision: 0.2518 Recall: 0.3131 F1 Score: 0.2522\n"
     ]
    }
   ],
   "source": [
    "svm_script.run_model(filename,sample_size,result,max_df,min_df)"
   ]
  },
  {
   "cell_type": "code",
   "execution_count": 7,
   "id": "b95c4411",
   "metadata": {},
   "outputs": [
    {
     "name": "stdout",
     "output_type": "stream",
     "text": [
      "sample size must be less than or equal to input size set sample to 4000\n",
      "Model Accuracy: 81.08% Precision: 0.2605 Recall: 0.3212 F1 Score: 0.2584\n"
     ]
    }
   ],
   "source": [
    "svm_script.run_model(filename,sample_size,result,max_df,min_df)"
   ]
  },
  {
   "cell_type": "code",
   "execution_count": 8,
   "id": "12b6edc5",
   "metadata": {},
   "outputs": [
    {
     "name": "stdout",
     "output_type": "stream",
     "text": [
      "sample size must be less than or equal to input size set sample to 4000\n",
      "Model Accuracy: 81.38% Precision: 0.2701 Recall: 0.3614 F1 Score: 0.2673\n"
     ]
    }
   ],
   "source": [
    "svm_script.run_model(filename,sample_size,result,max_df,min_df)"
   ]
  }
 ],
 "metadata": {
  "kernelspec": {
   "display_name": ".venv",
   "language": "python",
   "name": "python3"
  },
  "language_info": {
   "codemirror_mode": {
    "name": "ipython",
    "version": 3
   },
   "file_extension": ".py",
   "mimetype": "text/x-python",
   "name": "python",
   "nbconvert_exporter": "python",
   "pygments_lexer": "ipython3",
   "version": "3.11.0"
  }
 },
 "nbformat": 4,
 "nbformat_minor": 5
}
