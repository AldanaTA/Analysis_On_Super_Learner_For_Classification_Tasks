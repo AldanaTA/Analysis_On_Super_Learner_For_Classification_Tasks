{
 "cells": [
  {
   "cell_type": "code",
   "execution_count": 1,
   "id": "986fb82e",
   "metadata": {},
   "outputs": [],
   "source": [
    "import sys\n",
    "import os\n",
    "current_dir = os.getcwd()\n",
    "parent_dir = os.path.dirname(current_dir)\n",
    "sys.path.append(parent_dir + \"\\Scripts\")\n",
    "import rnn_scripts\n",
    "from gensim.models import KeyedVectors\n"
   ]
  },
  {
   "cell_type": "code",
   "execution_count": 2,
   "id": "8f452cbe",
   "metadata": {},
   "outputs": [],
   "source": [
    "filename = \"data_set_3.csv\"\n",
    "\n",
    "sample_size = 5000\n",
    "min_df = .001\n",
    "max_df = .97\n",
    "\n",
    "def newVal(val,delta):\n",
    "    \n",
    "    high = val * (1+delta)\n",
    "    low = val - (val * delta)\n",
    "   \n",
    "    return [high,val,low]"
   ]
  },
  {
   "cell_type": "code",
   "execution_count": 3,
   "id": "553d5c59",
   "metadata": {},
   "outputs": [],
   "source": [
    "#Read Embeddings\n",
    "current_dir = os.getcwd()\n",
    "parent_dir = os.path.dirname(current_dir)\n",
    "file = parent_dir + '//embeds//'\n",
    "embeddings = KeyedVectors.load_word2vec_format(file+'GoogleNews-vectors-negative300.bin.gz',binary=True)"
   ]
  },
  {
   "cell_type": "code",
   "execution_count": 4,
   "id": "35771749",
   "metadata": {},
   "outputs": [
    {
     "name": "stdout",
     "output_type": "stream",
     "text": [
      "Starting Run 1:\n",
      "sample size must be less than or equal to input size set sample to 4000\n",
      "Fitting 5 folds for each of 1 candidates, totalling 5 fits\n",
      "Best Hyper paramaters:  {'optimizer__lr': 0.0001, 'optimizer__weight_decay': 0.5}\n",
      "Best Scores: 79.43%\n",
      "\n",
      "Starting Run 2:\n",
      "sample size must be less than or equal to input size set sample to 4000\n",
      "Fitting 5 folds for each of 9 candidates, totalling 45 fits\n",
      "Best Hyper paramaters:  {'optimizer__lr': 0.00014, 'optimizer__weight_decay': 0.7}\n",
      "Best Scores: 79.68%\n",
      "\n",
      "Starting Run 3:\n",
      "sample size must be less than or equal to input size set sample to 4000\n",
      "Fitting 5 folds for each of 9 candidates, totalling 45 fits\n",
      "Best Hyper paramaters:  {'optimizer__lr': 0.00019599999999999997, 'optimizer__weight_decay': 0.9799999999999999}\n",
      "Best Scores: 79.75%\n"
     ]
    }
   ],
   "source": [
    "#Number of runs to complete after starting run\n",
    "runs = 2\n",
    "\n",
    "#Starting Values\n",
    "lr = [.0001]\n",
    "weight_decay = [.5]\n",
    "\n",
    "factor = .40\n",
    "\n",
    "\n",
    "print(\"Starting Run 1:\")\n",
    "\n",
    "results = rnn_scripts.run_experiments(filename,sample_size,embeddings,min_df,max_df,lr,weight_decay)\n",
    "\n",
    "l_r = results[\"optimizer__lr\"]\n",
    "lam = results[\"optimizer__weight_decay\"]\n",
    "\n",
    "\n",
    "for run in range(runs):\n",
    "    print(\"\\nStarting Run {0}:\".format(run+2))\n",
    "    #Compare the current best against slightly higher and slightly smaller values\n",
    "  \n",
    "    lr = newVal(l_r,factor)\n",
    "    weight_decay = newVal(lam,factor)\n",
    "   \n",
    "    \n",
    "    results = rnn_scripts.run_experiments(filename,sample_size,embeddings,min_df,max_df,lr,weight_decay)\n",
    "  \n",
    "    l_r = results[\"optimizer__lr\"]\n",
    "    lam = results[\"optimizer__weight_decay\"]\n"
   ]
  },
  {
   "cell_type": "code",
   "execution_count": 5,
   "id": "9f43c183",
   "metadata": {},
   "outputs": [
    {
     "name": "stdout",
     "output_type": "stream",
     "text": [
      "sample size must be less than or equal to input size set sample to 4000\n",
      "  epoch    train_loss    valid_acc    valid_loss     dur\n",
      "-------  ------------  -----------  ------------  ------\n",
      "      1        \u001b[36m1.1496\u001b[0m       \u001b[32m0.7969\u001b[0m        \u001b[35m0.9624\u001b[0m  2.3006\n",
      "      2        \u001b[36m0.9066\u001b[0m       \u001b[32m0.7984\u001b[0m        \u001b[35m0.8675\u001b[0m  2.3025\n",
      "      3        \u001b[36m0.8067\u001b[0m       0.7984        \u001b[35m0.7548\u001b[0m  2.2807\n",
      "      4        \u001b[36m0.7455\u001b[0m       0.7984        \u001b[35m0.7344\u001b[0m  2.3334\n",
      "      5        \u001b[36m0.7427\u001b[0m       0.7984        0.7485  2.2689\n",
      "  epoch    train_loss    valid_acc    valid_loss     dur\n",
      "-------  ------------  -----------  ------------  ------\n",
      "      1        \u001b[36m1.2202\u001b[0m       \u001b[32m0.7859\u001b[0m        \u001b[35m1.1153\u001b[0m  2.2667\n",
      "      2        \u001b[36m1.0731\u001b[0m       \u001b[32m0.7937\u001b[0m        \u001b[35m1.0678\u001b[0m  2.2673\n",
      "      3        \u001b[36m1.0504\u001b[0m       0.7937        \u001b[35m1.0482\u001b[0m  2.2141\n",
      "      4        \u001b[36m1.0226\u001b[0m       0.7937        \u001b[35m1.0179\u001b[0m  2.2501\n",
      "      5        \u001b[36m0.9837\u001b[0m       0.7937        \u001b[35m0.9407\u001b[0m  2.2179\n",
      "  epoch    train_loss    valid_acc    valid_loss     dur\n",
      "-------  ------------  -----------  ------------  ------\n",
      "      1        \u001b[36m1.7076\u001b[0m       \u001b[32m0.0125\u001b[0m        \u001b[35m1.6491\u001b[0m  2.3171\n",
      "      2        \u001b[36m1.6078\u001b[0m       0.0125        \u001b[35m1.5839\u001b[0m  2.2667\n",
      "      3        \u001b[36m1.5622\u001b[0m       \u001b[32m0.0141\u001b[0m        \u001b[35m1.5503\u001b[0m  2.2173\n",
      "      4        \u001b[36m1.5350\u001b[0m       \u001b[32m0.7922\u001b[0m        \u001b[35m1.5213\u001b[0m  2.2493\n",
      "      5        \u001b[36m1.5074\u001b[0m       \u001b[32m0.8016\u001b[0m        \u001b[35m1.4924\u001b[0m  2.2469\n",
      "  epoch    train_loss    valid_acc    valid_loss     dur\n",
      "-------  ------------  -----------  ------------  ------\n",
      "      1        \u001b[36m1.4360\u001b[0m       \u001b[32m0.6969\u001b[0m        \u001b[35m1.2421\u001b[0m  2.3087\n",
      "      2        \u001b[36m1.1386\u001b[0m       \u001b[32m0.7953\u001b[0m        \u001b[35m1.0786\u001b[0m  2.2350\n",
      "      3        \u001b[36m1.0251\u001b[0m       0.7953        \u001b[35m0.9757\u001b[0m  2.2402\n",
      "      4        \u001b[36m0.9212\u001b[0m       0.7953        \u001b[35m0.8779\u001b[0m  2.2885\n",
      "      5        \u001b[36m0.8340\u001b[0m       0.7953        \u001b[35m0.8113\u001b[0m  2.2618\n",
      "  epoch    train_loss    valid_acc    valid_loss     dur\n",
      "-------  ------------  -----------  ------------  ------\n",
      "      1        \u001b[36m1.2135\u001b[0m       \u001b[32m0.7922\u001b[0m        \u001b[35m1.1360\u001b[0m  2.2706\n",
      "      2        \u001b[36m1.1129\u001b[0m       0.7922        \u001b[35m1.1184\u001b[0m  2.2960\n",
      "      3        1.1213       0.7922        1.1289  2.2693\n",
      "      4        1.1347       0.7922        1.1477  2.2497\n",
      "      5        1.1559       0.7922        1.1697  2.2498\n",
      "Model Accuracy: 79.55% Precision: 0.1772 Recall: 0.1591 F1 Score: 0.2000\n"
     ]
    }
   ],
   "source": [
    "rnn_scripts.run_model(filename,sample_size,embeddings,min_df,max_df,l_r,lam)"
   ]
  },
  {
   "cell_type": "code",
   "execution_count": 6,
   "id": "a7d0dab6",
   "metadata": {},
   "outputs": [
    {
     "name": "stdout",
     "output_type": "stream",
     "text": [
      "sample size must be less than or equal to input size set sample to 4000\n",
      "  epoch    train_loss    valid_acc    valid_loss     dur\n",
      "-------  ------------  -----------  ------------  ------\n",
      "      1        \u001b[36m1.8322\u001b[0m       \u001b[32m0.0938\u001b[0m        \u001b[35m1.7815\u001b[0m  2.2007\n",
      "      2        \u001b[36m1.7484\u001b[0m       \u001b[32m0.0969\u001b[0m        \u001b[35m1.7149\u001b[0m  2.2154\n",
      "      3        \u001b[36m1.6871\u001b[0m       \u001b[32m0.1078\u001b[0m        \u001b[35m1.6596\u001b[0m  2.2001\n",
      "      4        \u001b[36m1.6347\u001b[0m       0.1062        \u001b[35m1.6103\u001b[0m  2.2167\n",
      "      5        \u001b[36m1.5874\u001b[0m       \u001b[32m0.7969\u001b[0m        \u001b[35m1.5652\u001b[0m  2.2166\n",
      "  epoch    train_loss    valid_acc    valid_loss     dur\n",
      "-------  ------------  -----------  ------------  ------\n",
      "      1        \u001b[36m1.4623\u001b[0m       \u001b[32m0.7109\u001b[0m        \u001b[35m1.3687\u001b[0m  2.1860\n",
      "      2        \u001b[36m1.3506\u001b[0m       \u001b[32m0.8000\u001b[0m        \u001b[35m1.3388\u001b[0m  2.1999\n",
      "      3        \u001b[36m1.3422\u001b[0m       \u001b[32m0.8016\u001b[0m        1.3397  2.1786\n",
      "      4        \u001b[36m1.3407\u001b[0m       0.8016        \u001b[35m1.3374\u001b[0m  2.2001\n",
      "      5        \u001b[36m1.3335\u001b[0m       0.8016        \u001b[35m1.3286\u001b[0m  2.1834\n",
      "  epoch    train_loss    valid_acc    valid_loss     dur\n",
      "-------  ------------  -----------  ------------  ------\n",
      "      1        \u001b[36m1.7985\u001b[0m       \u001b[32m0.0484\u001b[0m        \u001b[35m1.7424\u001b[0m  2.1681\n",
      "      2        \u001b[36m1.7048\u001b[0m       0.0484        \u001b[35m1.6670\u001b[0m  2.1798\n",
      "      3        \u001b[36m1.6354\u001b[0m       0.0484        \u001b[35m1.6035\u001b[0m  2.1904\n",
      "      4        \u001b[36m1.5769\u001b[0m       0.0484        \u001b[35m1.5515\u001b[0m  2.1723\n",
      "      5        \u001b[36m1.5306\u001b[0m       \u001b[32m0.7984\u001b[0m        \u001b[35m1.5114\u001b[0m  2.2285\n",
      "  epoch    train_loss    valid_acc    valid_loss     dur\n",
      "-------  ------------  -----------  ------------  ------\n",
      "      1        \u001b[36m1.5601\u001b[0m       \u001b[32m0.6703\u001b[0m        \u001b[35m1.4971\u001b[0m  2.1935\n",
      "      2        \u001b[36m1.4694\u001b[0m       \u001b[32m0.8016\u001b[0m        \u001b[35m1.4444\u001b[0m  2.2031\n",
      "      3        \u001b[36m1.4286\u001b[0m       0.8000        \u001b[35m1.4110\u001b[0m  2.1973\n",
      "      4        \u001b[36m1.3987\u001b[0m       0.8000        \u001b[35m1.3842\u001b[0m  2.2822\n",
      "      5        \u001b[36m1.3734\u001b[0m       0.8000        \u001b[35m1.3612\u001b[0m  2.2001\n",
      "  epoch    train_loss    valid_acc    valid_loss     dur\n",
      "-------  ------------  -----------  ------------  ------\n",
      "      1        \u001b[36m1.5300\u001b[0m       \u001b[32m0.6906\u001b[0m        \u001b[35m1.4059\u001b[0m  2.1667\n",
      "      2        \u001b[36m1.3370\u001b[0m       \u001b[32m0.7906\u001b[0m        \u001b[35m1.2722\u001b[0m  2.2037\n",
      "      3        \u001b[36m1.2287\u001b[0m       \u001b[32m0.7937\u001b[0m        \u001b[35m1.1833\u001b[0m  2.1775\n",
      "      4        \u001b[36m1.1326\u001b[0m       0.7937        \u001b[35m1.0675\u001b[0m  2.1662\n",
      "      5        \u001b[36m0.9687\u001b[0m       0.7937        \u001b[35m0.8623\u001b[0m  2.1499\n",
      "Model Accuracy: 79.75% Precision: 0.1775 Recall: 0.1595 F1 Score: 0.2000\n"
     ]
    }
   ],
   "source": [
    "rnn_scripts.run_model(filename,sample_size,embeddings,min_df,max_df,l_r,lam)"
   ]
  },
  {
   "cell_type": "code",
   "execution_count": 7,
   "id": "e243e962",
   "metadata": {},
   "outputs": [
    {
     "name": "stdout",
     "output_type": "stream",
     "text": [
      "sample size must be less than or equal to input size set sample to 4000\n",
      "  epoch    train_loss    valid_acc    valid_loss     dur\n",
      "-------  ------------  -----------  ------------  ------\n",
      "      1        \u001b[36m1.4752\u001b[0m       \u001b[32m0.6656\u001b[0m        \u001b[35m1.3982\u001b[0m  2.2168\n",
      "      2        \u001b[36m1.3507\u001b[0m       \u001b[32m0.7812\u001b[0m        \u001b[35m1.3009\u001b[0m  2.2167\n",
      "      3        \u001b[36m1.2823\u001b[0m       \u001b[32m0.7937\u001b[0m        \u001b[35m1.2513\u001b[0m  2.2166\n",
      "      4        \u001b[36m1.2362\u001b[0m       0.7937        \u001b[35m1.2154\u001b[0m  2.2333\n",
      "      5        \u001b[36m1.2013\u001b[0m       0.7937        \u001b[35m1.1864\u001b[0m  2.2000\n",
      "  epoch    train_loss    valid_acc    valid_loss     dur\n",
      "-------  ------------  -----------  ------------  ------\n",
      "      1        \u001b[36m1.5090\u001b[0m       \u001b[32m0.7109\u001b[0m        \u001b[35m1.4546\u001b[0m  2.2005\n",
      "      2        \u001b[36m1.4305\u001b[0m       \u001b[32m0.7984\u001b[0m        \u001b[35m1.4090\u001b[0m  2.1996\n",
      "      3        \u001b[36m1.3927\u001b[0m       0.7984        \u001b[35m1.3762\u001b[0m  2.1834\n",
      "      4        \u001b[36m1.3643\u001b[0m       0.7984        \u001b[35m1.3525\u001b[0m  2.1834\n",
      "      5        \u001b[36m1.3426\u001b[0m       0.7984        \u001b[35m1.3334\u001b[0m  2.1668\n",
      "  epoch    train_loss    valid_acc    valid_loss     dur\n",
      "-------  ------------  -----------  ------------  ------\n",
      "      1        \u001b[36m1.1979\u001b[0m       \u001b[32m0.8031\u001b[0m        \u001b[35m1.0808\u001b[0m  2.1667\n",
      "      2        \u001b[36m1.0731\u001b[0m       0.8031        \u001b[35m1.0479\u001b[0m  2.1667\n",
      "      3        \u001b[36m1.0547\u001b[0m       0.8031        1.0582  2.1999\n",
      "      4        1.0696       0.8031        1.0675  2.1834\n",
      "      5        1.0755       0.8031        1.0668  2.2000\n",
      "  epoch    train_loss    valid_acc    valid_loss     dur\n",
      "-------  ------------  -----------  ------------  ------\n",
      "      1        \u001b[36m1.5728\u001b[0m       \u001b[32m0.6703\u001b[0m        \u001b[35m1.4163\u001b[0m  2.2001\n",
      "      2        \u001b[36m1.3458\u001b[0m       \u001b[32m0.7766\u001b[0m        \u001b[35m1.2600\u001b[0m  2.1832\n",
      "      3        \u001b[36m1.2284\u001b[0m       \u001b[32m0.7922\u001b[0m        \u001b[35m1.1733\u001b[0m  2.1833\n",
      "      4        \u001b[36m1.1332\u001b[0m       0.7922        \u001b[35m1.0641\u001b[0m  2.2002\n",
      "      5        \u001b[36m0.9883\u001b[0m       0.7922        \u001b[35m0.8678\u001b[0m  2.1823\n",
      "  epoch    train_loss    valid_acc    valid_loss     dur\n",
      "-------  ------------  -----------  ------------  ------\n",
      "      1        \u001b[36m1.2584\u001b[0m       \u001b[32m0.7453\u001b[0m        \u001b[35m1.1483\u001b[0m  2.1782\n",
      "      2        \u001b[36m1.1155\u001b[0m       \u001b[32m0.7953\u001b[0m        \u001b[35m1.0913\u001b[0m  2.2169\n",
      "      3        \u001b[36m1.0807\u001b[0m       0.7953        \u001b[35m1.0709\u001b[0m  2.1832\n",
      "      4        \u001b[36m1.0694\u001b[0m       0.7953        \u001b[35m1.0498\u001b[0m  2.1999\n",
      "      5        \u001b[36m1.0357\u001b[0m       0.7953        \u001b[35m1.0180\u001b[0m  2.1844\n",
      "Model Accuracy: 79.60% Precision: 0.1773 Recall: 0.1592 F1 Score: 0.2000\n"
     ]
    }
   ],
   "source": [
    "rnn_scripts.run_model(filename,sample_size,embeddings,min_df,max_df,l_r,lam)"
   ]
  },
  {
   "cell_type": "code",
   "execution_count": 8,
   "id": "77566bac",
   "metadata": {},
   "outputs": [
    {
     "name": "stdout",
     "output_type": "stream",
     "text": [
      "sample size must be less than or equal to input size set sample to 4000\n",
      "  epoch    train_loss    valid_acc    valid_loss     dur\n",
      "-------  ------------  -----------  ------------  ------\n",
      "      1        \u001b[36m1.2505\u001b[0m       \u001b[32m0.8031\u001b[0m        \u001b[35m1.1711\u001b[0m  2.2158\n",
      "      2        \u001b[36m1.1735\u001b[0m       0.8031        1.1815  2.2167\n",
      "      3        1.2020       0.8031        1.2186  2.2167\n",
      "      4        1.2343       0.8031        1.2451  2.2166\n",
      "      5        1.2518       0.8031        1.2552  2.1834\n",
      "  epoch    train_loss    valid_acc    valid_loss     dur\n",
      "-------  ------------  -----------  ------------  ------\n",
      "      1        \u001b[36m1.2440\u001b[0m       \u001b[32m0.8047\u001b[0m        \u001b[35m1.1899\u001b[0m  2.1666\n",
      "      2        \u001b[36m1.1805\u001b[0m       0.8047        \u001b[35m1.1804\u001b[0m  2.1844\n",
      "      3        1.1885       0.8047        1.2048  2.1833\n",
      "      4        1.2161       0.8047        1.2257  2.1842\n",
      "      5        1.2325       0.8047        1.2423  2.1489\n",
      "  epoch    train_loss    valid_acc    valid_loss     dur\n",
      "-------  ------------  -----------  ------------  ------\n",
      "      1        \u001b[36m1.2234\u001b[0m       \u001b[32m0.8000\u001b[0m        \u001b[35m1.0584\u001b[0m  2.1666\n",
      "      2        \u001b[36m1.0013\u001b[0m       0.8000        \u001b[35m0.9430\u001b[0m  2.1607\n",
      "      3        \u001b[36m0.9138\u001b[0m       0.8000        \u001b[35m0.8592\u001b[0m  2.1689\n",
      "      4        \u001b[36m0.8123\u001b[0m       0.8000        \u001b[35m0.7665\u001b[0m  2.1834\n",
      "      5        \u001b[36m0.7600\u001b[0m       0.8000        \u001b[35m0.7604\u001b[0m  2.2833\n",
      "  epoch    train_loss    valid_acc    valid_loss     dur\n",
      "-------  ------------  -----------  ------------  ------\n",
      "      1        \u001b[36m1.2101\u001b[0m       \u001b[32m0.7984\u001b[0m        \u001b[35m1.1139\u001b[0m  2.2665\n",
      "      2        \u001b[36m1.0919\u001b[0m       0.7984        \u001b[35m1.0833\u001b[0m  2.2565\n",
      "      3        \u001b[36m1.0866\u001b[0m       0.7984        1.0887  2.2225\n",
      "      4        1.0967       0.7984        1.1050  2.1672\n",
      "      5        1.1187       0.7984        1.1222  2.1644\n",
      "  epoch    train_loss    valid_acc    valid_loss     dur\n",
      "-------  ------------  -----------  ------------  ------\n",
      "      1        \u001b[36m1.2150\u001b[0m       \u001b[32m0.7953\u001b[0m        \u001b[35m1.0644\u001b[0m  2.1833\n",
      "      2        \u001b[36m1.0560\u001b[0m       0.7953        \u001b[35m1.0386\u001b[0m  2.1834\n",
      "      3        \u001b[36m1.0462\u001b[0m       0.7953        1.0426  2.1996\n",
      "      4        \u001b[36m1.0384\u001b[0m       0.7953        1.0417  2.1666\n",
      "      5        \u001b[36m1.0341\u001b[0m       0.7953        \u001b[35m1.0170\u001b[0m  2.1830\n",
      "Model Accuracy: 80.00% Precision: 0.1778 Recall: 0.1600 F1 Score: 0.2000\n"
     ]
    }
   ],
   "source": [
    "rnn_scripts.run_model(filename,sample_size,embeddings,min_df,max_df,l_r,lam)"
   ]
  },
  {
   "cell_type": "code",
   "execution_count": 9,
   "id": "2c793e45",
   "metadata": {},
   "outputs": [
    {
     "name": "stdout",
     "output_type": "stream",
     "text": [
      "sample size must be less than or equal to input size set sample to 4000\n",
      "  epoch    train_loss    valid_acc    valid_loss     dur\n",
      "-------  ------------  -----------  ------------  ------\n",
      "      1        \u001b[36m1.5322\u001b[0m       \u001b[32m0.6672\u001b[0m        \u001b[35m1.3539\u001b[0m  2.2343\n",
      "      2        \u001b[36m1.2974\u001b[0m       \u001b[32m0.7922\u001b[0m        \u001b[35m1.2356\u001b[0m  2.2216\n",
      "      3        \u001b[36m1.2052\u001b[0m       \u001b[32m0.7937\u001b[0m        \u001b[35m1.1634\u001b[0m  2.2231\n",
      "      4        \u001b[36m1.1313\u001b[0m       0.7937        \u001b[35m1.0933\u001b[0m  2.2158\n",
      "      5        \u001b[36m1.0442\u001b[0m       0.7937        \u001b[35m0.9932\u001b[0m  2.2117\n",
      "  epoch    train_loss    valid_acc    valid_loss     dur\n",
      "-------  ------------  -----------  ------------  ------\n",
      "      1        \u001b[36m1.5867\u001b[0m       \u001b[32m0.0328\u001b[0m        \u001b[35m1.5522\u001b[0m  2.2499\n",
      "      2        \u001b[36m1.5245\u001b[0m       \u001b[32m0.7656\u001b[0m        \u001b[35m1.4976\u001b[0m  2.2332\n",
      "      3        \u001b[36m1.4717\u001b[0m       \u001b[32m0.7922\u001b[0m        \u001b[35m1.4488\u001b[0m  2.1900\n",
      "      4        \u001b[36m1.4298\u001b[0m       0.7922        \u001b[35m1.4145\u001b[0m  2.1716\n",
      "      5        \u001b[36m1.4005\u001b[0m       0.7922        \u001b[35m1.3878\u001b[0m  2.1656\n",
      "  epoch    train_loss    valid_acc    valid_loss     dur\n",
      "-------  ------------  -----------  ------------  ------\n",
      "      1        \u001b[36m1.1378\u001b[0m       \u001b[32m0.8016\u001b[0m        \u001b[35m0.9597\u001b[0m  2.1839\n",
      "      2        \u001b[36m0.9008\u001b[0m       0.8016        \u001b[35m0.8585\u001b[0m  2.2128\n",
      "      3        \u001b[36m0.8323\u001b[0m       0.8016        \u001b[35m0.8164\u001b[0m  2.2003\n",
      "      4        \u001b[36m0.7945\u001b[0m       0.8016        \u001b[35m0.7823\u001b[0m  2.1999\n",
      "      5        \u001b[36m0.7723\u001b[0m       0.8016        \u001b[35m0.7527\u001b[0m  2.1667\n",
      "  epoch    train_loss    valid_acc    valid_loss     dur\n",
      "-------  ------------  -----------  ------------  ------\n",
      "      1        \u001b[36m1.1789\u001b[0m       \u001b[32m0.7859\u001b[0m        \u001b[35m1.0390\u001b[0m  2.2000\n",
      "      2        \u001b[36m1.0236\u001b[0m       \u001b[32m0.7937\u001b[0m        \u001b[35m0.9863\u001b[0m  2.2000\n",
      "      3        \u001b[36m0.9841\u001b[0m       0.7937        \u001b[35m0.9452\u001b[0m  2.1668\n",
      "      4        \u001b[36m0.9246\u001b[0m       0.7937        \u001b[35m0.8883\u001b[0m  2.1834\n",
      "      5        \u001b[36m0.8539\u001b[0m       0.7937        \u001b[35m0.8082\u001b[0m  2.1832\n",
      "  epoch    train_loss    valid_acc    valid_loss     dur\n",
      "-------  ------------  -----------  ------------  ------\n",
      "      1        \u001b[36m1.4985\u001b[0m       \u001b[32m0.6828\u001b[0m        \u001b[35m1.3167\u001b[0m  2.2064\n",
      "      2        \u001b[36m1.2059\u001b[0m       \u001b[32m0.7891\u001b[0m        \u001b[35m1.0882\u001b[0m  2.1834\n",
      "      3        \u001b[36m0.9986\u001b[0m       \u001b[32m0.7969\u001b[0m        \u001b[35m0.8792\u001b[0m  2.1833\n",
      "      4        \u001b[36m0.8185\u001b[0m       0.7969        \u001b[35m0.7620\u001b[0m  2.1668\n",
      "      5        \u001b[36m0.7685\u001b[0m       0.7969        \u001b[35m0.7608\u001b[0m  2.1998\n",
      "Model Accuracy: 79.52% Precision: 0.1772 Recall: 0.1590 F1 Score: 0.2000\n"
     ]
    }
   ],
   "source": [
    "rnn_scripts.run_model(filename,sample_size,embeddings,min_df,max_df,l_r,lam)"
   ]
  }
 ],
 "metadata": {
  "kernelspec": {
   "display_name": ".venv",
   "language": "python",
   "name": "python3"
  },
  "language_info": {
   "codemirror_mode": {
    "name": "ipython",
    "version": 3
   },
   "file_extension": ".py",
   "mimetype": "text/x-python",
   "name": "python",
   "nbconvert_exporter": "python",
   "pygments_lexer": "ipython3",
   "version": "3.11.0"
  }
 },
 "nbformat": 4,
 "nbformat_minor": 5
}
