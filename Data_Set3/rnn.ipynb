{
 "cells": [
  {
   "cell_type": "code",
   "execution_count": 1,
   "id": "986fb82e",
   "metadata": {},
   "outputs": [],
   "source": [
    "import sys\n",
    "import os\n",
    "current_dir = os.getcwd()\n",
    "parent_dir = os.path.dirname(current_dir)\n",
    "sys.path.append(parent_dir + \"\\Scripts\")\n",
    "import rnn_scripts\n",
    "from gensim.models import KeyedVectors\n"
   ]
  },
  {
   "cell_type": "code",
   "execution_count": 2,
   "id": "8f452cbe",
   "metadata": {},
   "outputs": [],
   "source": [
    "filename = \"data_set_3.csv\"\n",
    "\n",
    "sample_size = 2000\n",
    "min_df = .001\n",
    "max_df = .97\n",
    "\n",
    "def newVal(val,delta):\n",
    "    \n",
    "    high = val * (1+delta)\n",
    "    low = val - (val * delta)\n",
    "   \n",
    "    return [high,val,low]"
   ]
  },
  {
   "cell_type": "code",
   "execution_count": 3,
   "id": "553d5c59",
   "metadata": {},
   "outputs": [],
   "source": [
    "#Read Embeddings\n",
    "current_dir = os.getcwd()\n",
    "parent_dir = os.path.dirname(current_dir)\n",
    "file = parent_dir + '//embeds//'\n",
    "embeddings = KeyedVectors.load_word2vec_format(file+'GoogleNews-vectors-negative300.bin.gz',binary=True)"
   ]
  },
  {
   "cell_type": "code",
   "execution_count": 4,
   "id": "35771749",
   "metadata": {},
   "outputs": [
    {
     "name": "stdout",
     "output_type": "stream",
     "text": [
      "Starting Run 1:\n",
      "Fitting 5 folds for each of 1 candidates, totalling 5 fits\n",
      "Best Hyper paramaters:  {'optimizer__lr': 0.0001, 'optimizer__weight_decay': 0.5}\n",
      "Best Scores: 80.20%\n",
      "\n",
      "Starting Run 2:\n",
      "Fitting 5 folds for each of 9 candidates, totalling 45 fits\n",
      "Best Hyper paramaters:  {'optimizer__lr': 0.00014, 'optimizer__weight_decay': 0.7}\n",
      "Best Scores: 79.55%\n",
      "\n",
      "Starting Run 3:\n",
      "Fitting 5 folds for each of 9 candidates, totalling 45 fits\n",
      "Best Hyper paramaters:  {'optimizer__lr': 0.00019599999999999997, 'optimizer__weight_decay': 0.9799999999999999}\n",
      "Best Scores: 79.75%\n"
     ]
    }
   ],
   "source": [
    "#Number of runs to complete after starting run\n",
    "runs = 2\n",
    "\n",
    "#Starting Values\n",
    "lr = [.0001]\n",
    "weight_decay = [.5]\n",
    "\n",
    "factor = .40\n",
    "\n",
    "\n",
    "print(\"Starting Run 1:\")\n",
    "\n",
    "results = rnn_scripts.run_experiments(filename,sample_size,embeddings,min_df,max_df,lr,weight_decay)\n",
    "\n",
    "l_r = results[\"optimizer__lr\"]\n",
    "lam = results[\"optimizer__weight_decay\"]\n",
    "\n",
    "\n",
    "for run in range(runs):\n",
    "    print(\"\\nStarting Run {0}:\".format(run+2))\n",
    "    #Compare the current best against slightly higher and slightly smaller values\n",
    "  \n",
    "    lr = newVal(l_r,factor)\n",
    "    weight_decay = newVal(lam,factor)\n",
    "   \n",
    "    \n",
    "    results = rnn_scripts.run_experiments(filename,sample_size,embeddings,min_df,max_df,lr,weight_decay)\n",
    "  \n",
    "    l_r = results[\"optimizer__lr\"]\n",
    "    lam = results[\"optimizer__weight_decay\"]\n"
   ]
  },
  {
   "cell_type": "code",
   "execution_count": 5,
   "id": "9f43c183",
   "metadata": {},
   "outputs": [
    {
     "name": "stdout",
     "output_type": "stream",
     "text": [
      "  epoch    train_loss    valid_acc    valid_loss     dur\n",
      "-------  ------------  -----------  ------------  ------\n",
      "      1        \u001b[36m1.4635\u001b[0m       \u001b[32m0.7375\u001b[0m        \u001b[35m1.4283\u001b[0m  1.4338\n",
      "      2        \u001b[36m1.4223\u001b[0m       \u001b[32m0.7750\u001b[0m        \u001b[35m1.4053\u001b[0m  1.5080\n",
      "      3        \u001b[36m1.3990\u001b[0m       \u001b[32m0.7937\u001b[0m        \u001b[35m1.3857\u001b[0m  1.5370\n",
      "      4        \u001b[36m1.3798\u001b[0m       0.7937        \u001b[35m1.3701\u001b[0m  1.4930\n",
      "      5        \u001b[36m1.3640\u001b[0m       0.7937        \u001b[35m1.3553\u001b[0m  1.5762\n",
      "  epoch    train_loss    valid_acc    valid_loss     dur\n",
      "-------  ------------  -----------  ------------  ------\n",
      "      1        \u001b[36m1.4987\u001b[0m       \u001b[32m0.6625\u001b[0m        \u001b[35m1.4583\u001b[0m  1.3421\n",
      "      2        \u001b[36m1.4476\u001b[0m       \u001b[32m0.6906\u001b[0m        \u001b[35m1.4291\u001b[0m  1.2676\n",
      "      3        \u001b[36m1.4219\u001b[0m       \u001b[32m0.7812\u001b[0m        \u001b[35m1.4058\u001b[0m  1.2334\n",
      "      4        \u001b[36m1.3967\u001b[0m       \u001b[32m0.8000\u001b[0m        \u001b[35m1.3858\u001b[0m  1.2416\n",
      "      5        \u001b[36m1.3777\u001b[0m       0.8000        \u001b[35m1.3658\u001b[0m  1.3074\n",
      "  epoch    train_loss    valid_acc    valid_loss     dur\n",
      "-------  ------------  -----------  ------------  ------\n",
      "      1        \u001b[36m1.6496\u001b[0m       \u001b[32m0.0500\u001b[0m        \u001b[35m1.5924\u001b[0m  1.3290\n",
      "      2        \u001b[36m1.5757\u001b[0m       \u001b[32m0.6844\u001b[0m        \u001b[35m1.5419\u001b[0m  1.3723\n",
      "      3        \u001b[36m1.5303\u001b[0m       \u001b[32m0.7438\u001b[0m        \u001b[35m1.5049\u001b[0m  1.2531\n",
      "      4        \u001b[36m1.4972\u001b[0m       \u001b[32m0.8031\u001b[0m        \u001b[35m1.4770\u001b[0m  1.3470\n",
      "      5        \u001b[36m1.4689\u001b[0m       \u001b[32m0.8063\u001b[0m        \u001b[35m1.4514\u001b[0m  1.3461\n",
      "  epoch    train_loss    valid_acc    valid_loss     dur\n",
      "-------  ------------  -----------  ------------  ------\n",
      "      1        \u001b[36m1.5215\u001b[0m       \u001b[32m0.6969\u001b[0m        \u001b[35m1.4156\u001b[0m  1.2198\n",
      "      2        \u001b[36m1.3608\u001b[0m       \u001b[32m0.7250\u001b[0m        \u001b[35m1.2750\u001b[0m  1.2315\n",
      "      3        \u001b[36m1.2184\u001b[0m       \u001b[32m0.7781\u001b[0m        \u001b[35m1.1635\u001b[0m  1.2369\n",
      "      4        \u001b[36m1.1540\u001b[0m       \u001b[32m0.7969\u001b[0m        \u001b[35m1.1122\u001b[0m  1.2087\n",
      "      5        \u001b[36m1.1029\u001b[0m       0.7969        \u001b[35m1.0680\u001b[0m  1.2161\n",
      "  epoch    train_loss    valid_acc    valid_loss     dur\n",
      "-------  ------------  -----------  ------------  ------\n",
      "      1        \u001b[36m1.6040\u001b[0m       \u001b[32m0.0594\u001b[0m        \u001b[35m1.5019\u001b[0m  1.1968\n",
      "      2        \u001b[36m1.4354\u001b[0m       \u001b[32m0.6750\u001b[0m        \u001b[35m1.3577\u001b[0m  1.2170\n",
      "      3        \u001b[36m1.3131\u001b[0m       \u001b[32m0.7594\u001b[0m        \u001b[35m1.2470\u001b[0m  1.2310\n",
      "      4        \u001b[36m1.2086\u001b[0m       \u001b[32m0.7969\u001b[0m        \u001b[35m1.1517\u001b[0m  1.2035\n",
      "      5        \u001b[36m1.1185\u001b[0m       0.7969        \u001b[35m1.0487\u001b[0m  1.2178\n",
      "Model Accuracy: 79.80% Precision: 0.1775 Recall: 0.1596 F1 Score: 0.2000\n"
     ]
    }
   ],
   "source": [
    "rnn_scripts.run_model(filename,sample_size,embeddings,min_df,max_df,l_r,lam)"
   ]
  },
  {
   "cell_type": "code",
   "execution_count": 6,
   "id": "a7d0dab6",
   "metadata": {},
   "outputs": [
    {
     "name": "stdout",
     "output_type": "stream",
     "text": [
      "  epoch    train_loss    valid_acc    valid_loss     dur\n",
      "-------  ------------  -----------  ------------  ------\n",
      "      1        \u001b[36m1.5216\u001b[0m       \u001b[32m0.6594\u001b[0m        \u001b[35m1.4981\u001b[0m  1.1877\n",
      "      2        \u001b[36m1.4794\u001b[0m       \u001b[32m0.7094\u001b[0m        \u001b[35m1.4664\u001b[0m  1.2194\n",
      "      3        \u001b[36m1.4512\u001b[0m       \u001b[32m0.7625\u001b[0m        \u001b[35m1.4398\u001b[0m  1.2009\n",
      "      4        \u001b[36m1.4273\u001b[0m       \u001b[32m0.7969\u001b[0m        \u001b[35m1.4168\u001b[0m  1.1919\n",
      "      5        \u001b[36m1.4070\u001b[0m       0.7969        \u001b[35m1.3974\u001b[0m  1.1970\n",
      "  epoch    train_loss    valid_acc    valid_loss     dur\n",
      "-------  ------------  -----------  ------------  ------\n",
      "      1        \u001b[36m1.4325\u001b[0m       \u001b[32m0.7438\u001b[0m        \u001b[35m1.3516\u001b[0m  1.2069\n",
      "      2        \u001b[36m1.3043\u001b[0m       \u001b[32m0.7812\u001b[0m        \u001b[35m1.2601\u001b[0m  1.2206\n",
      "      3        \u001b[36m1.2349\u001b[0m       \u001b[32m0.7906\u001b[0m        \u001b[35m1.2077\u001b[0m  1.2130\n",
      "      4        \u001b[36m1.2028\u001b[0m       \u001b[32m0.7937\u001b[0m        \u001b[35m1.1835\u001b[0m  1.2377\n",
      "      5        \u001b[36m1.1811\u001b[0m       0.7937        \u001b[35m1.1634\u001b[0m  1.2037\n",
      "  epoch    train_loss    valid_acc    valid_loss     dur\n",
      "-------  ------------  -----------  ------------  ------\n",
      "      1        \u001b[36m1.2700\u001b[0m       \u001b[32m0.7937\u001b[0m        \u001b[35m1.1644\u001b[0m  1.2020\n",
      "      2        \u001b[36m1.1200\u001b[0m       \u001b[32m0.8063\u001b[0m        \u001b[35m1.0757\u001b[0m  1.1988\n",
      "      3        \u001b[36m1.0660\u001b[0m       0.8063        \u001b[35m1.0384\u001b[0m  1.1976\n",
      "      4        \u001b[36m1.0409\u001b[0m       0.8063        \u001b[35m1.0338\u001b[0m  1.2172\n",
      "      5        \u001b[36m1.0321\u001b[0m       0.8063        \u001b[35m1.0214\u001b[0m  1.2629\n",
      "  epoch    train_loss    valid_acc    valid_loss     dur\n",
      "-------  ------------  -----------  ------------  ------\n",
      "      1        \u001b[36m1.6509\u001b[0m       \u001b[32m0.6219\u001b[0m        \u001b[35m1.5288\u001b[0m  1.1905\n",
      "      2        \u001b[36m1.4832\u001b[0m       \u001b[32m0.6562\u001b[0m        \u001b[35m1.4232\u001b[0m  1.2162\n",
      "      3        \u001b[36m1.3832\u001b[0m       \u001b[32m0.7406\u001b[0m        \u001b[35m1.3345\u001b[0m  1.1980\n",
      "      4        \u001b[36m1.3043\u001b[0m       \u001b[32m0.8000\u001b[0m        \u001b[35m1.2635\u001b[0m  1.2000\n",
      "      5        \u001b[36m1.2417\u001b[0m       0.7969        \u001b[35m1.2099\u001b[0m  1.1833\n",
      "  epoch    train_loss    valid_acc    valid_loss     dur\n",
      "-------  ------------  -----------  ------------  ------\n",
      "      1        \u001b[36m1.5015\u001b[0m       \u001b[32m0.6469\u001b[0m        \u001b[35m1.4068\u001b[0m  1.2131\n",
      "      2        \u001b[36m1.3563\u001b[0m       \u001b[32m0.6500\u001b[0m        \u001b[35m1.3195\u001b[0m  1.1931\n",
      "      3        \u001b[36m1.2984\u001b[0m       \u001b[32m0.6750\u001b[0m        \u001b[35m1.2870\u001b[0m  1.1569\n",
      "      4        \u001b[36m1.2749\u001b[0m       \u001b[32m0.7250\u001b[0m        \u001b[35m1.2771\u001b[0m  1.1858\n",
      "      5        1.2826       \u001b[32m0.7969\u001b[0m        \u001b[35m1.2736\u001b[0m  1.1939\n",
      "Model Accuracy: 79.50% Precision: 0.1773 Recall: 0.1596 F1 Score: 0.1994\n"
     ]
    }
   ],
   "source": [
    "rnn_scripts.run_model(filename,sample_size,embeddings,min_df,max_df,l_r,lam)"
   ]
  },
  {
   "cell_type": "code",
   "execution_count": 7,
   "id": "e243e962",
   "metadata": {},
   "outputs": [
    {
     "name": "stdout",
     "output_type": "stream",
     "text": [
      "  epoch    train_loss    valid_acc    valid_loss     dur\n",
      "-------  ------------  -----------  ------------  ------\n",
      "      1        \u001b[36m1.2749\u001b[0m       \u001b[32m0.7531\u001b[0m        \u001b[35m1.1688\u001b[0m  1.2493\n",
      "      2        \u001b[36m1.1028\u001b[0m       \u001b[32m0.7875\u001b[0m        \u001b[35m1.0715\u001b[0m  1.1998\n",
      "      3        \u001b[36m1.0518\u001b[0m       \u001b[32m0.7937\u001b[0m        \u001b[35m1.0423\u001b[0m  1.1828\n",
      "      4        \u001b[36m1.0346\u001b[0m       0.7937        \u001b[35m1.0370\u001b[0m  1.2003\n",
      "      5        1.0373       0.7937        1.0397  1.1804\n",
      "  epoch    train_loss    valid_acc    valid_loss     dur\n",
      "-------  ------------  -----------  ------------  ------\n",
      "      1        \u001b[36m1.3157\u001b[0m       \u001b[32m0.7906\u001b[0m        \u001b[35m1.1864\u001b[0m  1.1925\n",
      "      2        \u001b[36m1.1186\u001b[0m       0.7906        \u001b[35m1.0792\u001b[0m  1.2045\n",
      "      3        \u001b[36m1.0726\u001b[0m       0.7906        \u001b[35m1.0501\u001b[0m  1.2113\n",
      "      4        \u001b[36m1.0595\u001b[0m       0.7906        \u001b[35m1.0482\u001b[0m  1.1992\n",
      "      5        1.0603       0.7906        1.0608  1.1786\n",
      "  epoch    train_loss    valid_acc    valid_loss     dur\n",
      "-------  ------------  -----------  ------------  ------\n",
      "      1        \u001b[36m1.4426\u001b[0m       \u001b[32m0.7781\u001b[0m        \u001b[35m1.3763\u001b[0m  1.1635\n",
      "      2        \u001b[36m1.3491\u001b[0m       \u001b[32m0.7937\u001b[0m        \u001b[35m1.3240\u001b[0m  1.2003\n",
      "      3        \u001b[36m1.3143\u001b[0m       \u001b[32m0.7969\u001b[0m        \u001b[35m1.2929\u001b[0m  1.2196\n",
      "      4        \u001b[36m1.2927\u001b[0m       0.7969        \u001b[35m1.2827\u001b[0m  1.2108\n",
      "      5        \u001b[36m1.2875\u001b[0m       0.7969        \u001b[35m1.2776\u001b[0m  1.1666\n",
      "  epoch    train_loss    valid_acc    valid_loss     dur\n",
      "-------  ------------  -----------  ------------  ------\n",
      "      1        \u001b[36m1.6534\u001b[0m       \u001b[32m0.0531\u001b[0m        \u001b[35m1.5706\u001b[0m  1.1808\n",
      "      2        \u001b[36m1.5002\u001b[0m       \u001b[32m0.6469\u001b[0m        \u001b[35m1.4329\u001b[0m  1.2027\n",
      "      3        \u001b[36m1.3891\u001b[0m       \u001b[32m0.6656\u001b[0m        \u001b[35m1.3374\u001b[0m  1.1811\n",
      "      4        \u001b[36m1.3088\u001b[0m       \u001b[32m0.7000\u001b[0m        \u001b[35m1.2698\u001b[0m  1.1827\n",
      "      5        \u001b[36m1.2529\u001b[0m       \u001b[32m0.7844\u001b[0m        \u001b[35m1.2166\u001b[0m  1.1746\n",
      "  epoch    train_loss    valid_acc    valid_loss     dur\n",
      "-------  ------------  -----------  ------------  ------\n",
      "      1        \u001b[36m1.7582\u001b[0m       \u001b[32m0.0156\u001b[0m        \u001b[35m1.7301\u001b[0m  1.1822\n",
      "      2        \u001b[36m1.6923\u001b[0m       0.0156        \u001b[35m1.6641\u001b[0m  1.1930\n",
      "      3        \u001b[36m1.6298\u001b[0m       0.0156        \u001b[35m1.6024\u001b[0m  1.1941\n",
      "      4        \u001b[36m1.5729\u001b[0m       \u001b[32m0.6094\u001b[0m        \u001b[35m1.5499\u001b[0m  1.1752\n",
      "      5        \u001b[36m1.5267\u001b[0m       \u001b[32m0.7406\u001b[0m        \u001b[35m1.5071\u001b[0m  1.1838\n",
      "Model Accuracy: 77.90% Precision: 0.1777 Recall: 0.1602 F1 Score: 0.2010\n"
     ]
    }
   ],
   "source": [
    "rnn_scripts.run_model(filename,sample_size,embeddings,min_df,max_df,l_r,lam)"
   ]
  },
  {
   "cell_type": "code",
   "execution_count": 8,
   "id": "77566bac",
   "metadata": {},
   "outputs": [
    {
     "name": "stdout",
     "output_type": "stream",
     "text": [
      "  epoch    train_loss    valid_acc    valid_loss     dur\n",
      "-------  ------------  -----------  ------------  ------\n",
      "      1        \u001b[36m1.5306\u001b[0m       \u001b[32m0.7125\u001b[0m        \u001b[35m1.4206\u001b[0m  1.1811\n",
      "      2        \u001b[36m1.3632\u001b[0m       \u001b[32m0.7750\u001b[0m        \u001b[35m1.2806\u001b[0m  1.1903\n",
      "      3        \u001b[36m1.2489\u001b[0m       \u001b[32m0.8031\u001b[0m        \u001b[35m1.1870\u001b[0m  1.1942\n",
      "      4        \u001b[36m1.1663\u001b[0m       \u001b[32m0.8063\u001b[0m        \u001b[35m1.1108\u001b[0m  1.1890\n",
      "      5        \u001b[36m1.0944\u001b[0m       0.8063        \u001b[35m1.0397\u001b[0m  1.2003\n",
      "  epoch    train_loss    valid_acc    valid_loss     dur\n",
      "-------  ------------  -----------  ------------  ------\n",
      "      1        \u001b[36m1.6562\u001b[0m       \u001b[32m0.1125\u001b[0m        \u001b[35m1.5586\u001b[0m  1.1890\n",
      "      2        \u001b[36m1.5188\u001b[0m       0.1125        \u001b[35m1.4590\u001b[0m  1.1868\n",
      "      3        \u001b[36m1.4330\u001b[0m       \u001b[32m0.6625\u001b[0m        \u001b[35m1.3833\u001b[0m  1.2009\n",
      "      4        \u001b[36m1.3688\u001b[0m       \u001b[32m0.7094\u001b[0m        \u001b[35m1.3191\u001b[0m  1.2114\n",
      "      5        \u001b[36m1.3056\u001b[0m       \u001b[32m0.8000\u001b[0m        \u001b[35m1.2634\u001b[0m  1.1833\n",
      "  epoch    train_loss    valid_acc    valid_loss     dur\n",
      "-------  ------------  -----------  ------------  ------\n",
      "      1        \u001b[36m1.7387\u001b[0m       \u001b[32m0.0281\u001b[0m        \u001b[35m1.6472\u001b[0m  1.1760\n",
      "      2        \u001b[36m1.5885\u001b[0m       \u001b[32m0.6094\u001b[0m        \u001b[35m1.5430\u001b[0m  1.2001\n",
      "      3        \u001b[36m1.5128\u001b[0m       \u001b[32m0.6531\u001b[0m        \u001b[35m1.4869\u001b[0m  1.1834\n",
      "      4        \u001b[36m1.4689\u001b[0m       \u001b[32m0.6656\u001b[0m        \u001b[35m1.4566\u001b[0m  1.2162\n",
      "      5        \u001b[36m1.4474\u001b[0m       \u001b[32m0.7031\u001b[0m        \u001b[35m1.4386\u001b[0m  1.1735\n",
      "  epoch    train_loss    valid_acc    valid_loss     dur\n",
      "-------  ------------  -----------  ------------  ------\n",
      "      1        \u001b[36m1.7219\u001b[0m       \u001b[32m0.0437\u001b[0m        \u001b[35m1.6046\u001b[0m  1.1709\n",
      "      2        \u001b[36m1.5456\u001b[0m       \u001b[32m0.6188\u001b[0m        \u001b[35m1.4656\u001b[0m  1.1963\n",
      "      3        \u001b[36m1.4256\u001b[0m       \u001b[32m0.6875\u001b[0m        \u001b[35m1.3491\u001b[0m  1.2006\n",
      "      4        \u001b[36m1.3151\u001b[0m       \u001b[32m0.7188\u001b[0m        \u001b[35m1.2501\u001b[0m  1.1955\n",
      "      5        \u001b[36m1.2127\u001b[0m       \u001b[32m0.8094\u001b[0m        \u001b[35m1.1349\u001b[0m  1.1667\n",
      "  epoch    train_loss    valid_acc    valid_loss     dur\n",
      "-------  ------------  -----------  ------------  ------\n",
      "      1        \u001b[36m1.6432\u001b[0m       \u001b[32m0.0187\u001b[0m        \u001b[35m1.5458\u001b[0m  1.2238\n",
      "      2        \u001b[36m1.4527\u001b[0m       \u001b[32m0.7031\u001b[0m        \u001b[35m1.3280\u001b[0m  1.1877\n",
      "      3        \u001b[36m1.2327\u001b[0m       \u001b[32m0.7875\u001b[0m        \u001b[35m1.0919\u001b[0m  1.1843\n",
      "      4        \u001b[36m1.0123\u001b[0m       \u001b[32m0.8000\u001b[0m        \u001b[35m0.8974\u001b[0m  1.1839\n",
      "      5        \u001b[36m0.8633\u001b[0m       0.8000        \u001b[35m0.7756\u001b[0m  1.1688\n",
      "Model Accuracy: 78.40% Precision: 0.1819 Recall: 0.1648 F1 Score: 0.2052\n"
     ]
    }
   ],
   "source": [
    "rnn_scripts.run_model(filename,sample_size,embeddings,min_df,max_df,l_r,lam)"
   ]
  },
  {
   "cell_type": "code",
   "execution_count": 9,
   "id": "2c793e45",
   "metadata": {},
   "outputs": [
    {
     "name": "stdout",
     "output_type": "stream",
     "text": [
      "  epoch    train_loss    valid_acc    valid_loss     dur\n",
      "-------  ------------  -----------  ------------  ------\n",
      "      1        \u001b[36m1.5066\u001b[0m       \u001b[32m0.6969\u001b[0m        \u001b[35m1.4105\u001b[0m  1.1963\n",
      "      2        \u001b[36m1.3389\u001b[0m       \u001b[32m0.7875\u001b[0m        \u001b[35m1.2637\u001b[0m  1.2720\n",
      "      3        \u001b[36m1.2273\u001b[0m       \u001b[32m0.8125\u001b[0m        \u001b[35m1.1781\u001b[0m  1.2296\n",
      "      4        \u001b[36m1.1509\u001b[0m       \u001b[32m0.8156\u001b[0m        \u001b[35m1.1175\u001b[0m  1.2645\n",
      "      5        \u001b[36m1.0996\u001b[0m       0.8156        \u001b[35m1.0662\u001b[0m  1.2380\n",
      "  epoch    train_loss    valid_acc    valid_loss     dur\n",
      "-------  ------------  -----------  ------------  ------\n",
      "      1        \u001b[36m1.3944\u001b[0m       \u001b[32m0.7469\u001b[0m        \u001b[35m1.2672\u001b[0m  1.2187\n",
      "      2        \u001b[36m1.1906\u001b[0m       \u001b[32m0.7688\u001b[0m        \u001b[35m1.1263\u001b[0m  1.2475\n",
      "      3        \u001b[36m1.0931\u001b[0m       \u001b[32m0.8156\u001b[0m        \u001b[35m1.0494\u001b[0m  1.2455\n",
      "      4        \u001b[36m1.0297\u001b[0m       \u001b[32m0.8187\u001b[0m        \u001b[35m1.0014\u001b[0m  1.2166\n",
      "      5        \u001b[36m0.9924\u001b[0m       0.8187        \u001b[35m0.9553\u001b[0m  1.2250\n",
      "  epoch    train_loss    valid_acc    valid_loss     dur\n",
      "-------  ------------  -----------  ------------  ------\n",
      "      1        \u001b[36m1.8676\u001b[0m       \u001b[32m0.0969\u001b[0m        \u001b[35m1.7706\u001b[0m  1.2032\n",
      "      2        \u001b[36m1.7390\u001b[0m       0.0969        \u001b[35m1.7033\u001b[0m  1.2100\n",
      "      3        \u001b[36m1.6784\u001b[0m       0.0969        \u001b[35m1.6468\u001b[0m  1.2334\n",
      "      4        \u001b[36m1.6251\u001b[0m       0.0969        \u001b[35m1.5983\u001b[0m  1.2000\n",
      "      5        \u001b[36m1.5771\u001b[0m       0.0969        \u001b[35m1.5545\u001b[0m  1.1833\n",
      "  epoch    train_loss    valid_acc    valid_loss     dur\n",
      "-------  ------------  -----------  ------------  ------\n",
      "      1        \u001b[36m1.5419\u001b[0m       \u001b[32m0.6969\u001b[0m        \u001b[35m1.4364\u001b[0m  1.2049\n",
      "      2        \u001b[36m1.3819\u001b[0m       \u001b[32m0.7594\u001b[0m        \u001b[35m1.3056\u001b[0m  1.1936\n",
      "      3        \u001b[36m1.2720\u001b[0m       \u001b[32m0.8125\u001b[0m        \u001b[35m1.1975\u001b[0m  1.2334\n",
      "      4        \u001b[36m1.1744\u001b[0m       \u001b[32m0.8156\u001b[0m        \u001b[35m1.1037\u001b[0m  1.2353\n",
      "      5        \u001b[36m1.0780\u001b[0m       0.8156        \u001b[35m1.0139\u001b[0m  1.2271\n",
      "  epoch    train_loss    valid_acc    valid_loss     dur\n",
      "-------  ------------  -----------  ------------  ------\n",
      "      1        \u001b[36m1.6957\u001b[0m       \u001b[32m0.0563\u001b[0m        \u001b[35m1.6124\u001b[0m  1.1885\n",
      "      2        \u001b[36m1.5667\u001b[0m       \u001b[32m0.6687\u001b[0m        \u001b[35m1.5172\u001b[0m  1.1883\n",
      "      3        \u001b[36m1.4875\u001b[0m       \u001b[32m0.6781\u001b[0m        \u001b[35m1.4487\u001b[0m  1.2156\n",
      "      4        \u001b[36m1.4304\u001b[0m       \u001b[32m0.7625\u001b[0m        \u001b[35m1.3976\u001b[0m  1.2075\n",
      "      5        \u001b[36m1.3757\u001b[0m       \u001b[32m0.8094\u001b[0m        \u001b[35m1.3536\u001b[0m  1.1875\n",
      "Model Accuracy: 67.35% Precision: 0.1509 Recall: 0.1347 F1 Score: 0.2000\n"
     ]
    }
   ],
   "source": [
    "rnn_scripts.run_model(filename,sample_size,embeddings,min_df,max_df,l_r,lam)"
   ]
  }
 ],
 "metadata": {
  "kernelspec": {
   "display_name": ".venv",
   "language": "python",
   "name": "python3"
  },
  "language_info": {
   "codemirror_mode": {
    "name": "ipython",
    "version": 3
   },
   "file_extension": ".py",
   "mimetype": "text/x-python",
   "name": "python",
   "nbconvert_exporter": "python",
   "pygments_lexer": "ipython3",
   "version": "3.11.0"
  }
 },
 "nbformat": 4,
 "nbformat_minor": 5
}
