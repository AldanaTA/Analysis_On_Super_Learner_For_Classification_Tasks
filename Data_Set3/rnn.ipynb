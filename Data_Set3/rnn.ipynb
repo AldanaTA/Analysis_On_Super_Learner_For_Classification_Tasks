{
 "cells": [
  {
   "cell_type": "code",
   "execution_count": 6,
   "id": "986fb82e",
   "metadata": {},
   "outputs": [],
   "source": [
    "import sys\n",
    "sys.path.append('C:\\\\Users\\\\tonya\\\\OneDrive\\\\Desktop\\\\MachineLearning Final Project Files\\\\MachineLearning-Final-Project-Files\\\\experiments\\\\Scripts')\n",
    "import Scripts\n"
   ]
  },
  {
   "cell_type": "code",
   "execution_count": null,
   "id": "8f452cbe",
   "metadata": {},
   "outputs": [],
   "source": [
    "filename = \"data_set_1.csv\"\n",
    "\n",
    "sample_size = 5000\n",
    "min_df = .001\n",
    "max_df = .97\n"
   ]
  },
  {
   "cell_type": "code",
   "execution_count": null,
   "id": "04f64ce2",
   "metadata": {},
   "outputs": [],
   "source": [
    "#experiment 1\n",
    "lr = [.01,.05]\n",
    "momentum = [.01,.05]\n",
    "weight_decay = [.001,.005]\n",
    "\n",
    "\n",
    "Scripts.rnn_scripts.run_experiments(filename,sample_size,min_df,max_df,lr,momentum,weight_decay)"
   ]
  },
  {
   "cell_type": "code",
   "execution_count": null,
   "id": "9cf39302",
   "metadata": {},
   "outputs": [],
   "source": [
    "#experiment 2\n",
    "lr = [.01,.05]\n",
    "momentum = [.01,.05]\n",
    "weight_decay = [.001,.005]\n",
    "\n",
    "\n",
    "Scripts.rnn_scripts.run_experiments(filename,sample_size,min_df,max_df,lr,momentum,weight_decay)"
   ]
  },
  {
   "cell_type": "code",
   "execution_count": null,
   "id": "5d5ba3e0",
   "metadata": {},
   "outputs": [],
   "source": [
    "#experiment 3\n",
    "lr = [.01,.05]\n",
    "momentum = [.01,.05]\n",
    "weight_decay = [.001,.005]\n",
    "\n",
    "\n",
    "Scripts.rnn_scripts.run_experiments(filename,sample_size,min_df,max_df,lr,momentum,weight_decay)"
   ]
  }
 ],
 "metadata": {
  "kernelspec": {
   "display_name": ".venv",
   "language": "python",
   "name": "python3"
  },
  "language_info": {
   "codemirror_mode": {
    "name": "ipython",
    "version": 3
   },
   "file_extension": ".py",
   "mimetype": "text/x-python",
   "name": "python",
   "nbconvert_exporter": "python",
   "pygments_lexer": "ipython3",
   "version": "3.11.0"
  }
 },
 "nbformat": 4,
 "nbformat_minor": 5
}
