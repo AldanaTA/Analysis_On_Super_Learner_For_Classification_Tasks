{
 "cells": [
  {
   "cell_type": "code",
   "execution_count": null,
   "id": "5a16f776",
   "metadata": {},
   "outputs": [],
   "source": [
    "import sys\n",
    "sys.path.append('C:\\\\Users\\\\tonya\\\\OneDrive\\\\Desktop\\\\MachineLearning Final Project Files\\\\MachineLearning-Final-Project-Files\\\\experiments\\\\Scripts')\n",
    "import Scripts.svm_script"
   ]
  },
  {
   "cell_type": "code",
   "execution_count": null,
   "id": "284e8aa7",
   "metadata": {},
   "outputs": [],
   "source": [
    "filename = \"data_set_1.csv\"\n",
    "l2 = [.852,1.2,1.4,1.6]\n",
    "max_df = .97\n",
    "min_df = .001\n",
    "runExperiments('data_set_2.csv',.5,l2,max_df,min_df)\n"
   ]
  },
  {
   "cell_type": "code",
   "execution_count": null,
   "id": "b13074ed",
   "metadata": {},
   "outputs": [],
   "source": []
  }
 ],
 "metadata": {
  "language_info": {
   "name": "python"
  }
 },
 "nbformat": 4,
 "nbformat_minor": 5
}
