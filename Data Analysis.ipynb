{
 "cells": [
  {
   "cell_type": "code",
   "execution_count": 1,
   "id": "4853241b",
   "metadata": {},
   "outputs": [],
   "source": [
    "import pandas as pd\n",
    "import gc\n",
    "\n",
    "#nltk.download('stopwords')\n",
    "def getMost(df,rating):\n",
    "    temp = df.loc[df['Rating'] == rating]\n",
    "    words = dict()\n",
    "    for index, row in temp.iterrows():\n",
    "        tokens = row[\"Review_text\"]\n",
    "        tokens = tokens.split()\n",
    "        for word in range(len(tokens)):\n",
    "            if tokens[word] in words:\n",
    "                words[tokens[word]] +=1\n",
    "            else:\n",
    "                words[tokens[word]] =1\n",
    "\n",
    "    res = max(words, key=words.get)\n",
    "    return res\n",
    "\n",
    "\n",
    "\n",
    "def getAnalysis(filename):\n",
    "    df = pd.read_csv(filename)\n",
    "    mean_txt_Length = str(int(df[\"Review_text\"].str.split().str.len().mean()))\n",
    "    std_txt_Length = str(int(df[\"Review_text\"].str.split().str.len().std()))\n",
    "    numberofRows = str(len(df))\n",
    "    most_one = str(getMost(df,1))\n",
    "    most_two = str(getMost(df,2))\n",
    "    most_three = str(getMost(df,3))\n",
    "    most_four = str(getMost(df,4))\n",
    "    most_five = str(getMost(df,5))\n",
    "\n",
    "    records_one = str(len(df.loc[df['Rating'] == 1]))\n",
    "    records_two = str(len(df.loc[df['Rating'] == 2]))\n",
    "    records_three = str(len(df.loc[df['Rating'] == 3]))\n",
    "    records_four =  str(len(df.loc[df['Rating'] == 4]))\n",
    "    records_five =  str(len(df.loc[df['Rating'] == 5]))\n",
    "    number_of_nan = len(df.loc[df['Review_text'] == \"NAN\"])\n",
    "    number_of_blank = len(df.loc[df['Review_text']  == \"\"])\n",
    "    total_blank = number_of_nan + number_of_blank\n",
    "    percent_empty = (total_blank/ int(numberofRows)) * 100\n",
    "\n",
    "    analysis = \"File: \" + filename + \"\\n**************\\nMean txt Length: \" + mean_txt_Length + \"\\nStandard Deviation txt Length: \" + std_txt_Length + \"\\nTotal Records: \" + numberofRows +\"\\nPercent Empty: {0:.2f}%\".format(percent_empty)  + \"\\nWord Most Used in 1: \" + most_one + \"\\nWord Most Used in 2: \" + most_two + \"\\nWord Most Used in 3: \" + most_three + \"\\nWord Most Used in 4: \" + most_four + \"\\nWord Most Used in 5: \" + most_five +\"\\nRecords for 1: \" + records_one +\"\\nRecords for 2: \" + records_two +\"\\nRecords for 3: \" + records_three +\"\\nRecords for 4: \" + records_four +\"\\nRecords for 5: \" + records_five\n",
    "    return analysis\n",
    "    \n",
    "\n",
    "    "
   ]
  },
  {
   "cell_type": "markdown",
   "id": "d28a1a93",
   "metadata": {},
   "source": [
    "# DataSet1 Analysis"
   ]
  },
  {
   "cell_type": "code",
   "execution_count": 2,
   "id": "ca34cfbc",
   "metadata": {},
   "outputs": [
    {
     "name": "stdout",
     "output_type": "stream",
     "text": [
      "File: data_set_1.csv\n",
      "**************\n",
      "Mean txt Length: 14\n",
      "Standard Deviation txt Length: 30\n",
      "Total Records: 60889\n",
      "Percent Empty: 0.08%\n",
      "Word Most Used in 1: phone\n",
      "Word Most Used in 2: phone\n",
      "Word Most Used in 3: good\n",
      "Word Most Used in 4: good\n",
      "Word Most Used in 5: good\n",
      "Records for 1: 6979\n",
      "Records for 2: 2108\n",
      "Records for 3: 4366\n",
      "Records for 4: 12976\n",
      "Records for 5: 34460\n"
     ]
    }
   ],
   "source": [
    "analysis = getAnalysis(\"data_set_1.csv\")\n",
    "print(analysis)\n",
    "\n"
   ]
  },
  {
   "cell_type": "markdown",
   "id": "6d494555",
   "metadata": {},
   "source": [
    "# DataSet2 Analysis"
   ]
  },
  {
   "cell_type": "code",
   "execution_count": 3,
   "id": "0d5dada1",
   "metadata": {},
   "outputs": [
    {
     "name": "stdout",
     "output_type": "stream",
     "text": [
      "File: data_set_1.csv\n",
      "**************\n",
      "Mean txt Length: 14\n",
      "Standard Deviation txt Length: 30\n",
      "Total Records: 60889\n",
      "Percent Empty: 0.08%\n",
      "Word Most Used in 1: phone\n",
      "Word Most Used in 2: phone\n",
      "Word Most Used in 3: good\n",
      "Word Most Used in 4: good\n",
      "Word Most Used in 5: good\n",
      "Records for 1: 6979\n",
      "Records for 2: 2108\n",
      "Records for 3: 4366\n",
      "Records for 4: 12976\n",
      "Records for 5: 34460\n",
      "\n",
      "File: data_set_2.csv\n",
      "**************\n",
      "Mean txt Length: 16\n",
      "Standard Deviation txt Length: 30\n",
      "Total Records: 505207\n",
      "Percent Empty: 0.03%\n",
      "Word Most Used in 1: use\n",
      "Word Most Used in 2: use\n",
      "Word Most Used in 3: use\n",
      "Word Most Used in 4: use\n",
      "Word Most Used in 5: great\n",
      "Records for 1: 14599\n",
      "Records for 2: 12954\n",
      "Records for 3: 29495\n",
      "Records for 4: 62170\n",
      "Records for 5: 385989\n"
     ]
    }
   ],
   "source": [
    "analysis = analysis + \"\\n\\n\" + getAnalysis(\"data_set_2.csv\")\n",
    "print(analysis)\n"
   ]
  },
  {
   "cell_type": "markdown",
   "id": "0fcb79a4",
   "metadata": {},
   "source": [
    "# DataSet3 Analysis"
   ]
  },
  {
   "cell_type": "code",
   "execution_count": 4,
   "id": "f47d8670",
   "metadata": {},
   "outputs": [
    {
     "name": "stdout",
     "output_type": "stream",
     "text": [
      "File: data_set_1.csv\n",
      "**************\n",
      "Mean txt Length: 14\n",
      "Standard Deviation txt Length: 30\n",
      "Total Records: 60889\n",
      "Percent Empty: 0.08%\n",
      "Word Most Used in 1: phone\n",
      "Word Most Used in 2: phone\n",
      "Word Most Used in 3: good\n",
      "Word Most Used in 4: good\n",
      "Word Most Used in 5: good\n",
      "Records for 1: 6979\n",
      "Records for 2: 2108\n",
      "Records for 3: 4366\n",
      "Records for 4: 12976\n",
      "Records for 5: 34460\n",
      "\n",
      "File: data_set_2.csv\n",
      "**************\n",
      "Mean txt Length: 16\n",
      "Standard Deviation txt Length: 30\n",
      "Total Records: 505207\n",
      "Percent Empty: 0.03%\n",
      "Word Most Used in 1: use\n",
      "Word Most Used in 2: use\n",
      "Word Most Used in 3: use\n",
      "Word Most Used in 4: use\n",
      "Word Most Used in 5: great\n",
      "Records for 1: 14599\n",
      "Records for 2: 12954\n",
      "Records for 3: 29495\n",
      "Records for 4: 62170\n",
      "Records for 5: 385989\n",
      "\n",
      "File: data_set_3.csv\n",
      "**************\n",
      "Mean txt Length: 25\n",
      "Standard Deviation txt Length: 30\n",
      "Total Records: 4915\n",
      "Percent Empty: 0.00%\n",
      "Word Most Used in 1: card\n",
      "Word Most Used in 2: card\n",
      "Word Most Used in 3: card\n",
      "Word Most Used in 4: card\n",
      "Word Most Used in 5: card\n",
      "Records for 1: 244\n",
      "Records for 2: 80\n",
      "Records for 3: 142\n",
      "Records for 4: 527\n",
      "Records for 5: 3922\n"
     ]
    }
   ],
   "source": [
    "analysis = analysis + \"\\n\\n\" + getAnalysis(\"data_set_3.csv\")\n",
    "print(analysis)"
   ]
  },
  {
   "cell_type": "markdown",
   "id": "1fb12be6",
   "metadata": {},
   "source": [
    "# DataSet4 Analysis"
   ]
  },
  {
   "cell_type": "code",
   "execution_count": 5,
   "id": "0f341955",
   "metadata": {},
   "outputs": [
    {
     "name": "stdout",
     "output_type": "stream",
     "text": [
      "File: data_set_1.csv\n",
      "**************\n",
      "Mean txt Length: 14\n",
      "Standard Deviation txt Length: 30\n",
      "Total Records: 60889\n",
      "Percent Empty: 0.08%\n",
      "Word Most Used in 1: phone\n",
      "Word Most Used in 2: phone\n",
      "Word Most Used in 3: good\n",
      "Word Most Used in 4: good\n",
      "Word Most Used in 5: good\n",
      "Records for 1: 6979\n",
      "Records for 2: 2108\n",
      "Records for 3: 4366\n",
      "Records for 4: 12976\n",
      "Records for 5: 34460\n",
      "\n",
      "File: data_set_2.csv\n",
      "**************\n",
      "Mean txt Length: 16\n",
      "Standard Deviation txt Length: 30\n",
      "Total Records: 505207\n",
      "Percent Empty: 0.03%\n",
      "Word Most Used in 1: use\n",
      "Word Most Used in 2: use\n",
      "Word Most Used in 3: use\n",
      "Word Most Used in 4: use\n",
      "Word Most Used in 5: great\n",
      "Records for 1: 14599\n",
      "Records for 2: 12954\n",
      "Records for 3: 29495\n",
      "Records for 4: 62170\n",
      "Records for 5: 385989\n",
      "\n",
      "File: data_set_3.csv\n",
      "**************\n",
      "Mean txt Length: 25\n",
      "Standard Deviation txt Length: 30\n",
      "Total Records: 4915\n",
      "Percent Empty: 0.00%\n",
      "Word Most Used in 1: card\n",
      "Word Most Used in 2: card\n",
      "Word Most Used in 3: card\n",
      "Word Most Used in 4: card\n",
      "Word Most Used in 5: card\n",
      "Records for 1: 244\n",
      "Records for 2: 80\n",
      "Records for 3: 142\n",
      "Records for 4: 527\n",
      "Records for 5: 3922\n",
      "\n",
      "File: data_set_4.csv\n",
      "**************\n",
      "Mean txt Length: 17\n",
      "Standard Deviation txt Length: 24\n",
      "Total Records: 701528\n",
      "Percent Empty: 0.12%\n",
      "Word Most Used in 1: hair\n",
      "Word Most Used in 2: hair\n",
      "Word Most Used in 3: hair\n",
      "Word Most Used in 4: br\n",
      "Word Most Used in 5: hair\n",
      "Records for 1: 102080\n",
      "Records for 2: 43034\n",
      "Records for 3: 56307\n",
      "Records for 4: 79381\n",
      "Records for 5: 420726\n"
     ]
    }
   ],
   "source": [
    "analysis = analysis + \"\\n\\n\" + getAnalysis(\"data_set_4.csv\")\n",
    "print(analysis)"
   ]
  },
  {
   "cell_type": "code",
   "execution_count": 6,
   "id": "6bdc14c7",
   "metadata": {},
   "outputs": [],
   "source": [
    "with open(\"Analysis.txt\", mode = \"w\") as f:\n",
    "    f.write(analysis)"
   ]
  }
 ],
 "metadata": {
  "kernelspec": {
   "display_name": "env",
   "language": "python",
   "name": "python3"
  },
  "language_info": {
   "codemirror_mode": {
    "name": "ipython",
    "version": 3
   },
   "file_extension": ".py",
   "mimetype": "text/x-python",
   "name": "python",
   "nbconvert_exporter": "python",
   "pygments_lexer": "ipython3",
   "version": "3.11.4"
  }
 },
 "nbformat": 4,
 "nbformat_minor": 5
}
