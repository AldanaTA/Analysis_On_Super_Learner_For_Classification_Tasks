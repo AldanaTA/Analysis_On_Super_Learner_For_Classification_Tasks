{
 "cells": [
  {
   "cell_type": "raw",
   "id": "b4cd8d8e",
   "metadata": {
    "vscode": {
     "languageId": "raw"
    }
   },
   "source": [
    "Ctrl-shift-P to create environment, choose python interpreter\n",
    "-- activate\n",
    "PS R:\\2025-01 CS4333 Machine Learning\\MLFP_DataAnalysis_and_DataPrep Tony> .venv/scripts/activate.ps1\n",
    "OR\n",
    "PS R:\\2025-01 CS4333 Machine Learning\\MLFP_DataAnalysis_and_DataPrep Tony> .venv/scripts/activate.bat\n",
    "-- success looks like (note .venv):\n",
    "(.venv) PS R:\\2025-01 CS4333 Machine Learning\\MLFP_DataAnalysis_and_DataPrep Tony>\n",
    "\n",
    "installs ---------------------------\n",
    "pip install nltk\n",
    "pip install matplotlib\n",
    "pip install seaborn\n",
    "pip install ***scikitlearn not sklearn\n",
    "pip install scikit-learn\n",
    "\n",
    "\n",
    "https://xgboost.readthedocs.io/en/release_3.0.0/\n",
    "\n",
    "https://developers.google.com/machine-learning/crash-course/classification/accuracy-precision-recall"
   ]
  },
  {
   "cell_type": "code",
   "execution_count": 1,
   "id": "9f4c9684",
   "metadata": {},
   "outputs": [
    {
     "name": "stderr",
     "output_type": "stream",
     "text": [
      "[nltk_data] Downloading package punkt_tab to\n",
      "[nltk_data]     C:\\Users\\JoeAtHome\\AppData\\Roaming\\nltk_data...\n",
      "[nltk_data]   Package punkt_tab is already up-to-date!\n",
      "[nltk_data] Downloading package stopwords to\n",
      "[nltk_data]     C:\\Users\\JoeAtHome\\AppData\\Roaming\\nltk_data...\n",
      "[nltk_data]   Package stopwords is already up-to-date!\n"
     ]
    }
   ],
   "source": [
    "####################\n",
    "# Prep 1 basic imports functions/methods\n",
    "####################\n",
    "import nltk\n",
    "nltk.download('punkt_tab')\n",
    "nltk.download('stopwords')\n",
    "\n",
    "import re, string, unicodedata\n",
    "# import contractions\n",
    "# import inflect\n",
    "\n",
    "import matplotlib\n",
    "import matplotlib.pyplot as plt\n",
    "import seaborn\n",
    "import pandas as pd\n",
    "import gc\n",
    "import nltk\n",
    "from nltk.corpus import stopwords\n",
    "\n",
    "import os\n",
    "basepath = \"C:/U of A Fort Smith/My BS Science Degree/2025-01 CS4333 Machine Learning/MLFP_DataAnalysis_and_DataPrep Tony/\"\n",
    "# basepath = \"R:/2025-01 CS4333 Machine Learning/MLFP_DataAnalysis_and_DataPrep Tony/\"\n",
    "\n",
    "def remove_stop_words(text):\n",
    "    stop_words = set(stopwords.words('english'))\n",
    "    tokens = text.split()\n",
    "    filtered_tokens = [word for word in tokens if word.lower() not in stop_words]\n",
    "    return ' '.join(filtered_tokens)\n",
    " \n",
    "def processDF (filename):\n",
    "    # print (filename)\n",
    "    fileUse = os.path.join(basepath, filename)\n",
    "    df = pd.read_csv(fileUse)\n",
    "    df[\"Review_text\"] = df[\"Review_text\"].astype(str).apply(remove_stop_words)\n",
    "    df[\"Review_text\"] = df[\"Review_text\"].str.replace(\"[^a-z^']\", \" \", regex= True)\n",
    "    return df\n",
    "\n",
    "def remove_non_ascii(words):\n",
    "    \"\"\"Remove non-ASCII characters from list of tokenized words\"\"\"\n",
    "    new_words = []\n",
    "    for word in words:\n",
    "        new_word = unicodedata.normalize('NFKD', word).encode('ascii', 'ignore').decode('utf-8', 'ignore')\n",
    "        new_words.append(new_word)\n",
    "    return new_words\n",
    "    \n",
    "\n",
    "def to_lowercase(words):\n",
    "    \"\"\"Convert all characters to lowercase from list of tokenized words\"\"\"\n",
    "    new_words = []\n",
    "    for word in words:\n",
    "        new_word = word.lower()\n",
    "        new_words.append(new_word)\n",
    "    return new_words\n",
    "\n",
    "#remove all punctuation\n",
    "def remove_punctuation(words):\n",
    "    \"\"\"Remove punctuation from list of tokenized words\"\"\"\n",
    "    new_words = []\n",
    "    for word in words:\n",
    "        new_word = re.sub(r'[^\\w\\s]', '', word)\n",
    "        if new_word != '':\n",
    "            new_words.append(new_word)\n",
    "    return new_words\n",
    "\n",
    "def replace_numbers(words):\n",
    "    \"\"\"Replace all interger occurrences in list of tokenized words with textual representation\"\"\"\n",
    "    p = inflect.engine()\n",
    "    new_words = []\n",
    "    for word in words:\n",
    "        if word.isdigit():\n",
    "            new_word = p.number_to_words(word)\n",
    "            new_words.append(new_word)\n",
    "        else:\n",
    "            new_words.append(word)\n",
    "    return new_words\n",
    "\n",
    "\n",
    "def normalize(words):\n",
    "    words = remove_non_ascii(words)\n",
    "    #words = to_lowercase(words)\n",
    "    words = remove_punctuation(words)\n",
    "    #words = replace_numbers(words)\n",
    "    return words"
   ]
  },
  {
   "cell_type": "code",
   "execution_count": 2,
   "id": "6655f834",
   "metadata": {},
   "outputs": [],
   "source": [
    "####################\n",
    "# Prep 2 Prep all dataframes @ 6-8 minutes+\n",
    "####################\n",
    "df1 = processDF(\"data_set_1.csv\")\n",
    "df2 = processDF(\"data_set_2.csv\")\n",
    "df3 = processDF(\"data_set_3.csv\")\n",
    "df4 = processDF(\"data_set_4.csv\")"
   ]
  },
  {
   "cell_type": "code",
   "execution_count": 4,
   "id": "d569154c",
   "metadata": {},
   "outputs": [
    {
     "name": "stdout",
     "output_type": "stream",
     "text": [
      "df1 records: 60,889\n",
      "df2 records: 505,207\n",
      "df3 records: 4,915\n",
      "df4 records: 701,528\n",
      "df2/df1 records: 8.297\n",
      "df1/df2 records: 0.121\n",
      "df3/df1 records: 0.081\n",
      "df1/df3 records: 12.388\n",
      "df4/df1 records: 11.521\n",
      "df1/df4 records: 0.087\n"
     ]
    }
   ],
   "source": [
    "####################\n",
    "# Analyze dataframe sizes - if desired\n",
    "####################\n",
    "print(f\"df1 records: {len(df1):,}\")\n",
    "print(f\"df2 records: {len(df2):,}\")\n",
    "print(f\"df3 records: {len(df3):,}\")\n",
    "print(f\"df4 records: {len(df4):,}\")\n",
    "\n",
    "print(f\"df2/df1 records: {(len(df2)/len(df1)):,.3f}\")\n",
    "print(f\"df1/df2 records: {(len(df1)/len(df2)):,.3f}\")\n",
    "print(f\"df3/df1 records: {(len(df3)/len(df1)):,.3f}\")\n",
    "print(f\"df1/df3 records: {(len(df1)/len(df3)):,.3f}\")\n",
    "print(f\"df4/df1 records: {(len(df4)/len(df1)):,.3f}\")\n",
    "print(f\"df1/df4 records: {(len(df1)/len(df4)):,.3f}\")"
   ]
  },
  {
   "cell_type": "code",
   "execution_count": 4,
   "id": "4c822f5b",
   "metadata": {},
   "outputs": [],
   "source": [
    "def confusionMatrixGraph(model, model_name, X_test, y_test, dfToUse_name):\n",
    "    ###############################\n",
    "    # Step 5 confusion matrix to analyze accuracy\n",
    "    ###############################\n",
    "    from sklearn.metrics import confusion_matrix\n",
    "    import seaborn as sns\n",
    "    # clf = SVC(kernel = 'linear').fit(x_train,y_train)\n",
    "    # clf.predict(x_train)\n",
    "    # y_pred = clf.predict(x_test)\n",
    "    predictions = model.predict(X_test)\n",
    "\n",
    "    # Creates a confusion matrix\n",
    "    cm = confusion_matrix(y_test, predictions) \n",
    "    print (\"confusion matrix shape\")\n",
    "    print (cm.shape)\n",
    "    # Transform to df for easier plotting\n",
    "    cm_df = pd.DataFrame(cm,\n",
    "                     index = ['1', '2', '3', '4', '5'], \n",
    "                     columns = ['1', '2', '3', '4', '5'])\n",
    "\n",
    "    plt.figure(figsize=(5.5,4))\n",
    "    sns.heatmap(cm_df, annot=True, fmt = 'g', cmap = 'Blues')\n",
    "    # plt.title('SVM Linear Kernel \\nAccuracy:{0:.3f}'.format(model.evaluate(X_test, y_test, verbose=False)))\n",
    "    # plt.title(\"Training Accuracy: {:.4f}\".format(accuracy_trn) + \"\\n Testing Accuracy:  {:.4f}\".format(accuracy_test))\n",
    "    plt.title(\"SVC (SVM) \" + dfToUse_name)\n",
    "    plt.ylabel('True label')\n",
    "    plt.xlabel('Predicted label')\n",
    "    # plt.ticklabel_format(style = 'plain', axis = 'y', useOffset = False)\n",
    "    plt.show()\n",
    "\n",
    "    # loss, accuracy = model.evaluate(X_train, y_train, verbose=False)\n",
    "    # print(\"Training Accuracy: {:.4f}\".format(accuracy))\n",
    "    # loss, accuracy = model.evaluate(X_test, y_test, verbose=False)\n",
    "    # print(\"Testing Accuracy:  {:.4f}\".format(accuracy))\n",
    "    #score = classifier_svc.score(X_test, y_test)\n",
    "    #print(\"Accuracy:\", score) #print accuracy of SVM model"
   ]
  },
  {
   "cell_type": "code",
   "execution_count": 5,
   "id": "cd9ef8cf",
   "metadata": {},
   "outputs": [],
   "source": [
    "# all purpose predictor\n",
    "def predictor(dfToUse, dfToUse_name, scaleFrac):\n",
    "    ###############################\n",
    "    # Step 1 choose dataset\n",
    "    ###############################\n",
    "\n",
    "    print(dfToUse.dtypes)\n",
    "    print(\"dfToUse_Name: \" + dfToUse_name)\n",
    "    print(f\"dfToUse records: {(len(dfToUse)):,}\")\n",
    "    dfToUse.head(3)\n",
    "    dfToUse = dfToUse.sample(frac=scaleFrac)\n",
    "    print(dfToUse.dtypes)\n",
    "    print(f\"scaleFrac: {scaleFrac:0.5}\")\n",
    "    print(f\"dfToUse records (resized): {(len(dfToUse)):,}\")\n",
    "    dfToUse.head(3) # print sample - 1st three\n",
    "\n",
    "    #create tokenized words and attach as column\n",
    "    from nltk import word_tokenize\n",
    "\n",
    "    tokens = [word_tokenize(sen) for sen in dfToUse.Review_text] # create tokens\n",
    "    dfToUse['tokens'] = tokens # add to df\n",
    "    dfToUse.head(3) # print sample - 1st three\n",
    "\n",
    "    ###############################\n",
    "    # Step 2 define train and test sets\n",
    "    ###############################\n",
    "    from sklearn.model_selection import train_test_split\n",
    "\n",
    "    # sentences = sample['tokens'].values\n",
    "    sentences = dfToUse['tokens'].str.join(' ') ## join values into string\n",
    "    y = dfToUse['Rating'].values\n",
    "    # y = dummy_y\n",
    "\n",
    "    sentences_train, sentences_test, y_train, y_test = train_test_split(\n",
    "    sentences, y, test_size=0.25, random_state=1000)\n",
    "\n",
    "    #vectorize the data\n",
    "\n",
    "    from sklearn.feature_extraction.text import CountVectorizer\n",
    "\n",
    "    vectorizer = CountVectorizer()\n",
    "    vectorizer.fit(sentences_train)\n",
    "\n",
    "    X_train = vectorizer.transform(sentences_train)\n",
    "    X_test  = vectorizer.transform(sentences_test)\n",
    "\n",
    "    ###############################\n",
    "    # Step 3 train, print results\n",
    "    ###############################\n",
    "    from sklearn.svm import SVC\n",
    "\n",
    "    from datetime import datetime\n",
    "    start_time = datetime.now()\n",
    "\n",
    "    classifier_svc = SVC()\n",
    "    classifier_svc.fit(X_train, y_train)\n",
    "    score = classifier_svc.score(X_test, y_test)\n",
    "    score_train = classifier_svc.score(X_train, y_train)\n",
    "\n",
    "    end_time = datetime.now()\n",
    "    print (dfToUse_name)\n",
    "    print('start_time: ',start_time) #print out how long it took for model to train\n",
    "    print('end_time:   ',end_time) #print out how long it took for model to train\n",
    "    print('Duration: {}'.format(end_time - start_time)) #print out how long it took for model to train\n",
    "\n",
    "    ###############################\n",
    "    # Step 4 accurcy metrics\n",
    "    ###############################\n",
    "\n",
    "    from sklearn.metrics import f1_score, precision_score, recall_score\n",
    "    from sklearn.model_selection import GridSearchCV\n",
    "\n",
    "\n",
    "    print(\"Training Accuracy:\", score_train) #print accuracy of SVM model\n",
    "    print(f\"Training Accuracy: {score_train*100:0.1f}\") #print accuracy of SVM model\n",
    "    print(\"Testing Accuracy:\", score) #print accuracy of SVM model\n",
    "    print(f\"Testing Accuracy: {score*100:0.1f}\") #print accuracy of SVM model\n",
    "\n",
    "    # classifier_svc.fit(X_train, y_train)\n",
    "    y_pred = classifier_svc.predict(X_test)\n",
    "\n",
    "    precision = precision_score(y_test, y_pred, average=None)\n",
    "    print(f\"Precision: {precision}\")\n",
    "    for i in precision:\n",
    "        print(f\"   Precision: {i*100:0.4f}\")\n",
    "    recall = recall_score(y_test, y_pred, average=None)\n",
    "    print(f\"Recall: {recall}\")\n",
    "    for i in precision:\n",
    "        print(f\"   Recall: {i*100:0.4f}\")\n",
    "    F1 = f1_score(y_test, y_pred, average=None)\n",
    "    print(f\"F1: {F1}\")\n",
    "    for i in F1:\n",
    "        print(f\"   F1 {i*100:0.4f}\")\n",
    "\n",
    "    confusionMatrixGraph(classifier_svc, \"SVC (SVM)\", X_test, y_test, dfToUse_name)"
   ]
  },
  {
   "cell_type": "markdown",
   "id": "d28a1a93",
   "metadata": {},
   "source": [
    "# DataSet1 Analysis"
   ]
  },
  {
   "cell_type": "code",
   "execution_count": 5,
   "id": "1349ed73",
   "metadata": {},
   "outputs": [
    {
     "name": "stdout",
     "output_type": "stream",
     "text": [
      "Review_text    object\n",
      "Rating          int64\n",
      "dtype: object\n",
      "dfToUse_Name: df1\n",
      "dfToUse records: 60,889\n",
      "Review_text    object\n",
      "Rating          int64\n",
      "dtype: object\n",
      "scaleFrac: 0.1\n",
      "dfToUse records (resized): 6,089\n",
      "df1\n",
      "start_time:  2025-04-21 21:48:17.781009\n",
      "end_time:    2025-04-21 21:48:24.398340\n",
      "Duration: 0:00:06.617331\n",
      "Training Accuracy: 0.7501095050372317\n",
      "Training Accuracy: 75.0\n",
      "Testing Accuracy: 0.5896257386736704\n",
      "Testing Accuracy: 59.0\n"
     ]
    },
    {
     "name": "stderr",
     "output_type": "stream",
     "text": [
      "c:\\Users\\JoeAtHome\\anaconda3\\envs\\pytorch_env\\Lib\\site-packages\\sklearn\\metrics\\_classification.py:1565: UndefinedMetricWarning: Precision is ill-defined and being set to 0.0 in labels with no predicted samples. Use `zero_division` parameter to control this behavior.\n",
      "  _warn_prf(average, modifier, f\"{metric.capitalize()} is\", len(result))\n"
     ]
    },
    {
     "name": "stdout",
     "output_type": "stream",
     "text": [
      "Precision: [0.68235294 0.         0.         0.71428571 0.58350804]\n",
      "   Precision: 68.2353\n",
      "   Precision: 0.0000\n",
      "   Precision: 0.0000\n",
      "   Precision: 71.4286\n",
      "   Precision: 58.3508\n",
      "Recall: [0.34117647 0.         0.         0.01424501 0.99404762]\n",
      "   Recall: 68.2353\n",
      "   Recall: 0.0000\n",
      "   Recall: 0.0000\n",
      "   Recall: 71.4286\n",
      "   Recall: 58.3508\n",
      "F1: [0.45490196 0.         0.         0.02793296 0.73535887]\n",
      "   F1 45.4902\n",
      "   F1 0.0000\n",
      "   F1 0.0000\n",
      "   F1 2.7933\n",
      "   F1 73.5359\n",
      "confusion matrix shape\n",
      "(5, 5)\n"
     ]
    },
    {
     "data": {
      "image/png": "[encoded data removed]",
      "text/plain": [
       "<Figure size 550x400 with 2 Axes>"
      ]
     },
     "metadata": {},
     "output_type": "display_data"
    }
   ],
   "source": [
    "predictor(df1, \"df1\", .1)"
   ]
  },
  {
   "cell_type": "markdown",
   "id": "6d494555",
   "metadata": {},
   "source": [
    "# DataSet2 Analysis"
   ]
  },
  {
   "cell_type": "code",
   "execution_count": 6,
   "id": "ef8acfe4",
   "metadata": {},
   "outputs": [
    {
     "name": "stdout",
     "output_type": "stream",
     "text": [
      "Review_text    object\n",
      "Rating          int64\n",
      "dtype: object\n",
      "dfToUse_Name: df2\n",
      "dfToUse records: 505,207\n",
      "Review_text    object\n",
      "Rating          int64\n",
      "dtype: object\n",
      "scaleFrac: 0.01\n",
      "dfToUse records (resized): 5,052\n",
      "df2\n",
      "start_time:  2025-04-21 21:52:12.731541\n",
      "end_time:    2025-04-21 21:52:17.835096\n",
      "Duration: 0:00:05.103555\n",
      "Training Accuracy: 0.8316178411190288\n",
      "Training Accuracy: 83.2\n",
      "Testing Accuracy: 0.7569279493269992\n",
      "Testing Accuracy: 75.7\n"
     ]
    },
    {
     "name": "stderr",
     "output_type": "stream",
     "text": [
      "c:\\Users\\JoeAtHome\\anaconda3\\envs\\pytorch_env\\Lib\\site-packages\\sklearn\\metrics\\_classification.py:1565: UndefinedMetricWarning: Precision is ill-defined and being set to 0.0 in labels with no predicted samples. Use `zero_division` parameter to control this behavior.\n",
      "  _warn_prf(average, modifier, f\"{metric.capitalize()} is\", len(result))\n"
     ]
    },
    {
     "name": "stdout",
     "output_type": "stream",
     "text": [
      "Precision: [0.         0.         1.         0.         0.75673534]\n",
      "   Precision: 0.0000\n",
      "   Precision: 0.0000\n",
      "   Precision: 100.0000\n",
      "   Precision: 0.0000\n",
      "   Precision: 75.6735\n",
      "Recall: [0.         0.         0.01388889 0.         1.        ]\n",
      "   Recall: 0.0000\n",
      "   Recall: 0.0000\n",
      "   Recall: 100.0000\n",
      "   Recall: 0.0000\n",
      "   Recall: 75.6735\n",
      "F1: [0.         0.         0.02739726 0.         0.86152458]\n",
      "   F1 0.0000\n",
      "   F1 0.0000\n",
      "   F1 2.7397\n",
      "   F1 0.0000\n",
      "   F1 86.1525\n",
      "confusion matrix shape\n",
      "(5, 5)\n"
     ]
    },
    {
     "data": {
      "image/png": "[encoded data removed]",
      "text/plain": [
       "<Figure size 550x400 with 2 Axes>"
      ]
     },
     "metadata": {},
     "output_type": "display_data"
    }
   ],
   "source": [
    "predictor(df2, \"df2\", .01)"
   ]
  },
  {
   "cell_type": "markdown",
   "id": "0fcb79a4",
   "metadata": {},
   "source": [
    "# DataSet3 Analysis"
   ]
  },
  {
   "cell_type": "code",
   "execution_count": 7,
   "id": "fb4e23f9",
   "metadata": {},
   "outputs": [
    {
     "name": "stdout",
     "output_type": "stream",
     "text": [
      "Review_text     object\n",
      "Rating         float64\n",
      "dtype: object\n",
      "dfToUse_Name: df3\n",
      "dfToUse records: 4,915\n",
      "Review_text     object\n",
      "Rating         float64\n",
      "dtype: object\n",
      "scaleFrac: 1.0\n",
      "dfToUse records (resized): 4,915\n",
      "df3\n",
      "start_time:  2025-04-21 21:54:39.482865\n",
      "end_time:    2025-04-21 21:54:46.784487\n",
      "Duration: 0:00:07.301622\n",
      "Training Accuracy: 0.8724905046120456\n",
      "Training Accuracy: 87.2\n",
      "Testing Accuracy: 0.790073230268511\n",
      "Testing Accuracy: 79.0\n"
     ]
    },
    {
     "name": "stderr",
     "output_type": "stream",
     "text": [
      "c:\\Users\\JoeAtHome\\anaconda3\\envs\\pytorch_env\\Lib\\site-packages\\sklearn\\metrics\\_classification.py:1565: UndefinedMetricWarning: Precision is ill-defined and being set to 0.0 in labels with no predicted samples. Use `zero_division` parameter to control this behavior.\n",
      "  _warn_prf(average, modifier, f\"{metric.capitalize()} is\", len(result))\n"
     ]
    },
    {
     "name": "stdout",
     "output_type": "stream",
     "text": [
      "Precision: [0.         0.         0.         0.         0.79007323]\n",
      "   Precision: 0.0000\n",
      "   Precision: 0.0000\n",
      "   Precision: 0.0000\n",
      "   Precision: 0.0000\n",
      "   Precision: 79.0073\n",
      "Recall: [0. 0. 0. 0. 1.]\n",
      "   Recall: 0.0000\n",
      "   Recall: 0.0000\n",
      "   Recall: 0.0000\n",
      "   Recall: 0.0000\n",
      "   Recall: 79.0073\n",
      "F1: [0.         0.         0.         0.         0.88272727]\n",
      "   F1 0.0000\n",
      "   F1 0.0000\n",
      "   F1 0.0000\n",
      "   F1 0.0000\n",
      "   F1 88.2727\n",
      "confusion matrix shape\n",
      "(5, 5)\n"
     ]
    },
    {
     "data": {
      "image/png": "[encoded data removed]",
      "text/plain": [
       "<Figure size 550x400 with 2 Axes>"
      ]
     },
     "metadata": {},
     "output_type": "display_data"
    }
   ],
   "source": [
    "predictor(df3, \"df3\", 1.0)"
   ]
  },
  {
   "cell_type": "markdown",
   "id": "1fb12be6",
   "metadata": {},
   "source": [
    "# DataSet4 Analysis"
   ]
  },
  {
   "cell_type": "code",
   "execution_count": 6,
   "id": "22db29aa",
   "metadata": {},
   "outputs": [
    {
     "name": "stdout",
     "output_type": "stream",
     "text": [
      "Review_text    object\n",
      "Rating          int64\n",
      "dtype: object\n",
      "dfToUse_Name: df4\n",
      "dfToUse records: 701,528\n",
      "Review_text    object\n",
      "Rating          int64\n",
      "dtype: object\n",
      "scaleFrac: 0.01\n",
      "dfToUse records (resized): 7,015\n",
      "df4\n",
      "start_time:  2025-04-21 22:10:38.364473\n",
      "end_time:    2025-04-21 22:10:49.600432\n",
      "Duration: 0:00:11.235959\n",
      "Training Accuracy: 0.7770385858201863\n",
      "Training Accuracy: 77.7\n",
      "Testing Accuracy: 0.6328392246294184\n",
      "Testing Accuracy: 63.3\n"
     ]
    },
    {
     "name": "stderr",
     "output_type": "stream",
     "text": [
      "c:\\Users\\JoeAtHome\\anaconda3\\envs\\pytorch_env\\Lib\\site-packages\\sklearn\\metrics\\_classification.py:1565: UndefinedMetricWarning: Precision is ill-defined and being set to 0.0 in labels with no predicted samples. Use `zero_division` parameter to control this behavior.\n",
      "  _warn_prf(average, modifier, f\"{metric.capitalize()} is\", len(result))\n"
     ]
    },
    {
     "name": "stdout",
     "output_type": "stream",
     "text": [
      "Precision: [0.68181818 0.         0.         0.         0.63063063]\n",
      "   Precision: 68.1818\n",
      "   Precision: 0.0000\n",
      "   Precision: 0.0000\n",
      "   Precision: 0.0000\n",
      "   Precision: 63.0631\n",
      "Recall: [0.24096386 0.         0.         0.         0.99243856]\n",
      "   Recall: 68.1818\n",
      "   Recall: 0.0000\n",
      "   Recall: 0.0000\n",
      "   Recall: 0.0000\n",
      "   Recall: 63.0631\n",
      "F1: [0.35608309 0.         0.         0.         0.77120823]\n",
      "   F1 35.6083\n",
      "   F1 0.0000\n",
      "   F1 0.0000\n",
      "   F1 0.0000\n",
      "   F1 77.1208\n",
      "confusion matrix shape\n",
      "(5, 5)\n"
     ]
    },
    {
     "data": {
      "image/png": "[encoded data removed]",
      "text/plain": [
       "<Figure size 550x400 with 2 Axes>"
      ]
     },
     "metadata": {},
     "output_type": "display_data"
    }
   ],
   "source": [
    "predictor(df4, \"df4\", .01)"
   ]
  }
 ],
 "metadata": {
  "kernelspec": {
   "display_name": "pytorch_env",
   "language": "python",
   "name": "python3"
  },
  "language_info": {
   "codemirror_mode": {
    "name": "ipython",
    "version": 3
   },
   "file_extension": ".py",
   "mimetype": "text/x-python",
   "name": "python",
   "nbconvert_exporter": "python",
   "pygments_lexer": "ipython3",
   "version": "3.12.9"
  }
 },
 "nbformat": 4,
 "nbformat_minor": 5
}
