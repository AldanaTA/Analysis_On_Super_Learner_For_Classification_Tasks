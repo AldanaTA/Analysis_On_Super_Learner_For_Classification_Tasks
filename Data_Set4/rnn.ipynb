{
 "cells": [
  {
   "cell_type": "code",
   "execution_count": 1,
   "id": "986fb82e",
   "metadata": {},
   "outputs": [],
   "source": [
    "import sys\n",
    "import os\n",
    "current_dir = os.getcwd()\n",
    "parent_dir = os.path.dirname(current_dir)\n",
    "sys.path.append(parent_dir + \"\\Scripts\")\n",
    "import rnn_scripts\n",
    "from gensim.models import KeyedVectors\n"
   ]
  },
  {
   "cell_type": "code",
   "execution_count": 2,
   "id": "8f452cbe",
   "metadata": {},
   "outputs": [],
   "source": [
    "filename = \"data_set_4.csv\"\n",
    "\n",
    "sample_size = 10000\n",
    "min_df = .001\n",
    "max_df = .97\n",
    "\n",
    "def newVal(val,delta):\n",
    "    \n",
    "    high = val * (1+delta)\n",
    "    low = val - (val * delta)\n",
    "   \n",
    "    return [high,val,low]"
   ]
  },
  {
   "cell_type": "code",
   "execution_count": 3,
   "id": "553d5c59",
   "metadata": {},
   "outputs": [],
   "source": [
    "#Read Embeddings\n",
    "current_dir = os.getcwd()\n",
    "parent_dir = os.path.dirname(current_dir)\n",
    "file = parent_dir + '//embeds//'\n",
    "embeddings = KeyedVectors.load_word2vec_format(file+'GoogleNews-vectors-negative300.bin.gz',binary=True)"
   ]
  },
  {
   "cell_type": "code",
   "execution_count": null,
   "id": "35771749",
   "metadata": {},
   "outputs": [
    {
     "name": "stdout",
     "output_type": "stream",
     "text": [
      "Starting Run 1:\n",
      "Fitting 5 folds for each of 1 candidates, totalling 5 fits\n",
      "Best Hyper paramaters:  {'optimizer__lr': 2e-05, 'optimizer__weight_decay': 0.9}\n",
      "Best Scores: 56.74%\n",
      "\n",
      "Starting Run 2:\n",
      "Fitting 5 folds for each of 9 candidates, totalling 45 fits\n",
      "Best Hyper paramaters:  {'optimizer__lr': 2.8e-05, 'optimizer__weight_decay': 0.9}\n",
      "Best Scores: 60.25%\n",
      "\n",
      "Starting Run 3:\n",
      "Fitting 5 folds for each of 9 candidates, totalling 45 fits\n",
      "Best Hyper paramaters:  {'optimizer__lr': 3.92e-05, 'optimizer__weight_decay': 0.9}\n",
      "Best Scores: 59.57%\n"
     ]
    }
   ],
   "source": [
    "#Number of runs to complete after starting run\n",
    "runs = 2\n",
    "\n",
    "#Starting Values\n",
    "lr = [.00002]\n",
    "weight_decay = [.7]\n",
    "\n",
    "factor = .40\n",
    "\n",
    "\n",
    "print(\"Starting Run 1:\")\n",
    "\n",
    "results = rnn_scripts.run_experiments(filename,sample_size,embeddings,min_df,max_df,lr,weight_decay)\n",
    "\n",
    "l_r = results[\"optimizer__lr\"]\n",
    "lam = results[\"optimizer__weight_decay\"]\n",
    "\n",
    "\n",
    "for run in range(runs):\n",
    "    print(\"\\nStarting Run {0}:\".format(run+2))\n",
    "    #Compare the current best against slightly higher and slightly smaller values\n",
    "  \n",
    "    lr = newVal(l_r,factor)\n",
    "    weight_decay = newVal(lam,factor)\n",
    "   \n",
    "    \n",
    "    results = rnn_scripts.run_experiments(filename,sample_size,embeddings,min_df,max_df,lr,weight_decay)\n",
    "  \n",
    "    l_r = results[\"optimizer__lr\"]\n",
    "    lam = results[\"optimizer__weight_decay\"]\n"
   ]
  },
  {
   "cell_type": "code",
   "execution_count": 5,
   "id": "9f43c183",
   "metadata": {},
   "outputs": [
    {
     "name": "stdout",
     "output_type": "stream",
     "text": [
      "  epoch    train_loss    valid_acc    valid_loss     dur\n",
      "-------  ------------  -----------  ------------  ------\n",
      "      1        \u001b[36m1.7762\u001b[0m       \u001b[32m0.0912\u001b[0m        \u001b[35m1.7182\u001b[0m  5.1332\n",
      "      2        \u001b[36m1.6860\u001b[0m       0.0906        \u001b[35m1.6659\u001b[0m  5.0174\n",
      "      3        \u001b[36m1.6482\u001b[0m       0.0912        \u001b[35m1.6389\u001b[0m  4.9668\n",
      "      4        \u001b[36m1.6307\u001b[0m       \u001b[32m0.0944\u001b[0m        \u001b[35m1.6271\u001b[0m  5.0481\n",
      "      5        \u001b[36m1.6230\u001b[0m       \u001b[32m0.1062\u001b[0m        \u001b[35m1.6209\u001b[0m  4.8837\n",
      "  epoch    train_loss    valid_acc    valid_loss     dur\n",
      "-------  ------------  -----------  ------------  ------\n",
      "      1        \u001b[36m1.5494\u001b[0m       \u001b[32m0.4900\u001b[0m        \u001b[35m1.5332\u001b[0m  4.8941\n",
      "      2        \u001b[36m1.5258\u001b[0m       \u001b[32m0.5387\u001b[0m        \u001b[35m1.5152\u001b[0m  4.9166\n",
      "      3        \u001b[36m1.5093\u001b[0m       \u001b[32m0.5863\u001b[0m        \u001b[35m1.5016\u001b[0m  4.9119\n",
      "      4        \u001b[36m1.4967\u001b[0m       \u001b[32m0.5988\u001b[0m        \u001b[35m1.4911\u001b[0m  5.1015\n",
      "      5        \u001b[36m1.4871\u001b[0m       0.5988        \u001b[35m1.4828\u001b[0m  4.8847\n",
      "  epoch    train_loss    valid_acc    valid_loss     dur\n",
      "-------  ------------  -----------  ------------  ------\n",
      "      1        \u001b[36m1.4854\u001b[0m       \u001b[32m0.5425\u001b[0m        \u001b[35m1.4669\u001b[0m  4.8833\n",
      "      2        \u001b[36m1.4549\u001b[0m       \u001b[32m0.5606\u001b[0m        \u001b[35m1.4515\u001b[0m  5.0176\n",
      "      3        \u001b[36m1.4484\u001b[0m       \u001b[32m0.5869\u001b[0m        \u001b[35m1.4496\u001b[0m  4.9422\n",
      "      4        1.4496       \u001b[32m0.6000\u001b[0m        1.4518  4.9502\n",
      "      5        1.4523       0.6000        1.4548  4.8911\n",
      "  epoch    train_loss    valid_acc    valid_loss     dur\n",
      "-------  ------------  -----------  ------------  ------\n",
      "      1        \u001b[36m1.4788\u001b[0m       \u001b[32m0.5956\u001b[0m        \u001b[35m1.4486\u001b[0m  4.9334\n",
      "      2        \u001b[36m1.4410\u001b[0m       \u001b[32m0.5975\u001b[0m        \u001b[35m1.4429\u001b[0m  4.8667\n",
      "      3        1.4467       \u001b[32m0.6000\u001b[0m        1.4548  4.8666\n",
      "      4        1.4616       0.6000        1.4686  4.9541\n",
      "      5        1.4738       0.6000        1.4779  4.9334\n",
      "  epoch    train_loss    valid_acc    valid_loss     dur\n",
      "-------  ------------  -----------  ------------  ------\n",
      "      1        \u001b[36m1.7258\u001b[0m       \u001b[32m0.0625\u001b[0m        \u001b[35m1.6794\u001b[0m  4.9482\n",
      "      2        \u001b[36m1.6505\u001b[0m       \u001b[32m0.0631\u001b[0m        \u001b[35m1.6317\u001b[0m  4.9167\n",
      "      3        \u001b[36m1.6167\u001b[0m       0.0631        \u001b[35m1.6080\u001b[0m  4.8332\n",
      "      4        \u001b[36m1.6001\u001b[0m       \u001b[32m0.0656\u001b[0m        \u001b[35m1.5969\u001b[0m  4.9003\n",
      "      5        \u001b[36m1.5918\u001b[0m       \u001b[32m0.0700\u001b[0m        \u001b[35m1.5912\u001b[0m  4.9332\n",
      "Model Accuracy: 38.88% Precision: 0.1052 Recall: 0.1034 F1 Score: 0.1980\n"
     ]
    }
   ],
   "source": [
    "rnn_scripts.run_model(filename,sample_size,embeddings,min_df,max_df,l_r,lam)"
   ]
  },
  {
   "cell_type": "code",
   "execution_count": 6,
   "id": "a7d0dab6",
   "metadata": {},
   "outputs": [
    {
     "name": "stdout",
     "output_type": "stream",
     "text": [
      "  epoch    train_loss    valid_acc    valid_loss     dur\n",
      "-------  ------------  -----------  ------------  ------\n",
      "      1        \u001b[36m1.4527\u001b[0m       \u001b[32m0.5450\u001b[0m        \u001b[35m1.3979\u001b[0m  4.8168\n",
      "      2        \u001b[36m1.3800\u001b[0m       \u001b[32m0.5675\u001b[0m        \u001b[35m1.3856\u001b[0m  4.8329\n",
      "      3        1.3860       \u001b[32m0.5894\u001b[0m        1.3998  4.7430\n",
      "      4        1.4082       \u001b[32m0.6000\u001b[0m        1.4227  4.7835\n",
      "      5        1.4327       \u001b[32m0.6006\u001b[0m        1.4483  4.7995\n",
      "  epoch    train_loss    valid_acc    valid_loss     dur\n",
      "-------  ------------  -----------  ------------  ------\n",
      "      1        \u001b[36m1.5669\u001b[0m       \u001b[32m0.5038\u001b[0m        \u001b[35m1.5392\u001b[0m  4.7834\n",
      "      2        \u001b[36m1.5210\u001b[0m       \u001b[32m0.5387\u001b[0m        \u001b[35m1.5099\u001b[0m  4.7667\n",
      "      3        \u001b[36m1.5023\u001b[0m       \u001b[32m0.5769\u001b[0m        \u001b[35m1.4997\u001b[0m  4.7518\n",
      "      4        \u001b[36m1.4972\u001b[0m       \u001b[32m0.5944\u001b[0m        \u001b[35m1.4994\u001b[0m  4.7730\n",
      "      5        1.5009       \u001b[32m0.5988\u001b[0m        1.5046  4.9304\n",
      "  epoch    train_loss    valid_acc    valid_loss     dur\n",
      "-------  ------------  -----------  ------------  ------\n",
      "      1        \u001b[36m1.5143\u001b[0m       \u001b[32m0.5600\u001b[0m        \u001b[35m1.4876\u001b[0m  4.7832\n",
      "      2        \u001b[36m1.4769\u001b[0m       \u001b[32m0.5944\u001b[0m        \u001b[35m1.4701\u001b[0m  4.7668\n",
      "      3        \u001b[36m1.4681\u001b[0m       \u001b[32m0.5988\u001b[0m        \u001b[35m1.4659\u001b[0m  4.7499\n",
      "      4        \u001b[36m1.4657\u001b[0m       0.5988        1.4670  4.7833\n",
      "      5        1.4675       0.5988        1.4690  4.7505\n",
      "  epoch    train_loss    valid_acc    valid_loss     dur\n",
      "-------  ------------  -----------  ------------  ------\n",
      "      1        \u001b[36m1.4286\u001b[0m       \u001b[32m0.5900\u001b[0m        \u001b[35m1.4018\u001b[0m  4.8168\n",
      "      2        \u001b[36m1.3908\u001b[0m       \u001b[32m0.6019\u001b[0m        \u001b[35m1.3889\u001b[0m  4.8071\n",
      "      3        \u001b[36m1.3895\u001b[0m       \u001b[32m0.6031\u001b[0m        1.3930  4.8331\n",
      "      4        1.3981       0.6031        1.4050  4.8667\n",
      "      5        1.4117       0.6031        1.4188  4.7863\n",
      "  epoch    train_loss    valid_acc    valid_loss     dur\n",
      "-------  ------------  -----------  ------------  ------\n",
      "      1        \u001b[36m1.4603\u001b[0m       \u001b[32m0.5756\u001b[0m        \u001b[35m1.4213\u001b[0m  4.7834\n",
      "      2        \u001b[36m1.4071\u001b[0m       \u001b[32m0.6062\u001b[0m        \u001b[35m1.4023\u001b[0m  4.7750\n",
      "      3        \u001b[36m1.4018\u001b[0m       \u001b[32m0.6075\u001b[0m        1.4065  4.9500\n",
      "      4        1.4118       0.6075        1.4198  4.8000\n",
      "      5        1.4265       0.6075        1.4340  4.8000\n",
      "Model Accuracy: 60.15% Precision: 0.1502 Recall: 0.1203 F1 Score: 0.2000\n"
     ]
    }
   ],
   "source": [
    "rnn_scripts.run_model(filename,sample_size,embeddings,min_df,max_df,l_r,lam)"
   ]
  },
  {
   "cell_type": "code",
   "execution_count": 7,
   "id": "e243e962",
   "metadata": {},
   "outputs": [
    {
     "name": "stdout",
     "output_type": "stream",
     "text": [
      "  epoch    train_loss    valid_acc    valid_loss     dur\n",
      "-------  ------------  -----------  ------------  ------\n",
      "      1        \u001b[36m1.5902\u001b[0m       \u001b[32m0.1600\u001b[0m        \u001b[35m1.5720\u001b[0m  4.7667\n",
      "      2        \u001b[36m1.5591\u001b[0m       \u001b[32m0.1625\u001b[0m        \u001b[35m1.5487\u001b[0m  4.8316\n",
      "      3        \u001b[36m1.5399\u001b[0m       \u001b[32m0.5663\u001b[0m        \u001b[35m1.5324\u001b[0m  4.7167\n",
      "      4        \u001b[36m1.5266\u001b[0m       \u001b[32m0.6012\u001b[0m        \u001b[35m1.5218\u001b[0m  4.7338\n",
      "      5        \u001b[36m1.5172\u001b[0m       0.6012        \u001b[35m1.5140\u001b[0m  4.8089\n",
      "  epoch    train_loss    valid_acc    valid_loss     dur\n",
      "-------  ------------  -----------  ------------  ------\n",
      "      1        \u001b[36m1.5303\u001b[0m       \u001b[32m0.5000\u001b[0m        \u001b[35m1.5129\u001b[0m  4.7666\n",
      "      2        \u001b[36m1.5078\u001b[0m       \u001b[32m0.5469\u001b[0m        \u001b[35m1.5003\u001b[0m  4.7906\n",
      "      3        \u001b[36m1.4981\u001b[0m       \u001b[32m0.5950\u001b[0m        \u001b[35m1.4940\u001b[0m  4.7370\n",
      "      4        \u001b[36m1.4927\u001b[0m       \u001b[32m0.6044\u001b[0m        \u001b[35m1.4898\u001b[0m  4.7831\n",
      "      5        \u001b[36m1.4890\u001b[0m       0.6044        \u001b[35m1.4869\u001b[0m  4.7170\n",
      "  epoch    train_loss    valid_acc    valid_loss     dur\n",
      "-------  ------------  -----------  ------------  ------\n",
      "      1        \u001b[36m1.6020\u001b[0m       \u001b[32m0.1100\u001b[0m        \u001b[35m1.5908\u001b[0m  4.9047\n",
      "      2        \u001b[36m1.5817\u001b[0m       0.1100        \u001b[35m1.5735\u001b[0m  4.7000\n",
      "      3        \u001b[36m1.5654\u001b[0m       \u001b[32m0.1106\u001b[0m        \u001b[35m1.5582\u001b[0m  4.7337\n",
      "      4        \u001b[36m1.5507\u001b[0m       \u001b[32m0.5831\u001b[0m        \u001b[35m1.5442\u001b[0m  4.7421\n",
      "      5        \u001b[36m1.5373\u001b[0m       \u001b[32m0.6019\u001b[0m        \u001b[35m1.5315\u001b[0m  4.7176\n",
      "  epoch    train_loss    valid_acc    valid_loss     dur\n",
      "-------  ------------  -----------  ------------  ------\n",
      "      1        \u001b[36m1.5096\u001b[0m       \u001b[32m0.5725\u001b[0m        \u001b[35m1.4592\u001b[0m  4.7515\n",
      "      2        \u001b[36m1.4475\u001b[0m       \u001b[32m0.5925\u001b[0m        \u001b[35m1.4371\u001b[0m  4.7666\n",
      "      3        \u001b[36m1.4400\u001b[0m       \u001b[32m0.5950\u001b[0m        1.4392  4.8330\n",
      "      4        1.4441       \u001b[32m0.5962\u001b[0m        1.4472  4.7500\n",
      "      5        1.4528       0.5962        1.4567  4.7667\n",
      "  epoch    train_loss    valid_acc    valid_loss     dur\n",
      "-------  ------------  -----------  ------------  ------\n",
      "      1        \u001b[36m1.5036\u001b[0m       \u001b[32m0.5375\u001b[0m        \u001b[35m1.4743\u001b[0m  4.8000\n",
      "      2        \u001b[36m1.4680\u001b[0m       \u001b[32m0.5400\u001b[0m        \u001b[35m1.4617\u001b[0m  4.7335\n",
      "      3        \u001b[36m1.4654\u001b[0m       \u001b[32m0.5675\u001b[0m        1.4658  4.7665\n",
      "      4        1.4702       \u001b[32m0.5994\u001b[0m        1.4722  4.7500\n",
      "      5        1.4755       0.5994        1.4771  4.7443\n",
      "Model Accuracy: 60.06% Precision: 0.1501 Recall: 0.1201 F1 Score: 0.1999\n"
     ]
    }
   ],
   "source": [
    "rnn_scripts.run_model(filename,sample_size,embeddings,min_df,max_df,l_r,lam)"
   ]
  },
  {
   "cell_type": "code",
   "execution_count": 8,
   "id": "77566bac",
   "metadata": {},
   "outputs": [
    {
     "name": "stdout",
     "output_type": "stream",
     "text": [
      "  epoch    train_loss    valid_acc    valid_loss     dur\n",
      "-------  ------------  -----------  ------------  ------\n",
      "      1        \u001b[36m1.4996\u001b[0m       \u001b[32m0.5656\u001b[0m        \u001b[35m1.4883\u001b[0m  4.8836\n",
      "      2        \u001b[36m1.4817\u001b[0m       \u001b[32m0.5938\u001b[0m        \u001b[35m1.4775\u001b[0m  4.9992\n",
      "      3        \u001b[36m1.4738\u001b[0m       \u001b[32m0.6019\u001b[0m        \u001b[35m1.4722\u001b[0m  4.8334\n",
      "      4        \u001b[36m1.4698\u001b[0m       0.6019        \u001b[35m1.4690\u001b[0m  4.8255\n",
      "      5        \u001b[36m1.4669\u001b[0m       0.6019        \u001b[35m1.4661\u001b[0m  4.8004\n",
      "  epoch    train_loss    valid_acc    valid_loss     dur\n",
      "-------  ------------  -----------  ------------  ------\n",
      "      1        \u001b[36m1.6123\u001b[0m       \u001b[32m0.0800\u001b[0m        \u001b[35m1.5761\u001b[0m  4.8163\n",
      "      2        \u001b[36m1.5589\u001b[0m       \u001b[32m0.4556\u001b[0m        \u001b[35m1.5437\u001b[0m  4.8746\n",
      "      3        \u001b[36m1.5356\u001b[0m       \u001b[32m0.4800\u001b[0m        \u001b[35m1.5289\u001b[0m  4.8280\n",
      "      4        \u001b[36m1.5256\u001b[0m       \u001b[32m0.4969\u001b[0m        \u001b[35m1.5226\u001b[0m  4.8000\n",
      "      5        \u001b[36m1.5212\u001b[0m       \u001b[32m0.5719\u001b[0m        \u001b[35m1.5208\u001b[0m  4.7999\n",
      "  epoch    train_loss    valid_acc    valid_loss     dur\n",
      "-------  ------------  -----------  ------------  ------\n",
      "      1        \u001b[36m1.5338\u001b[0m       \u001b[32m0.5025\u001b[0m        \u001b[35m1.4949\u001b[0m  4.7847\n",
      "      2        \u001b[36m1.4745\u001b[0m       \u001b[32m0.5125\u001b[0m        \u001b[35m1.4701\u001b[0m  4.8181\n",
      "      3        \u001b[36m1.4697\u001b[0m       \u001b[32m0.5281\u001b[0m        1.4752  4.7982\n",
      "      4        1.4818       \u001b[32m0.5737\u001b[0m        1.4923  4.8168\n",
      "      5        1.4997       \u001b[32m0.5975\u001b[0m        1.5068  4.7785\n",
      "  epoch    train_loss    valid_acc    valid_loss     dur\n",
      "-------  ------------  -----------  ------------  ------\n",
      "      1        \u001b[36m1.4757\u001b[0m       \u001b[32m0.5856\u001b[0m        \u001b[35m1.4449\u001b[0m  4.7501\n",
      "      2        \u001b[36m1.4370\u001b[0m       \u001b[32m0.6006\u001b[0m        \u001b[35m1.4279\u001b[0m  4.7675\n",
      "      3        \u001b[36m1.4276\u001b[0m       \u001b[32m0.6056\u001b[0m        \u001b[35m1.4274\u001b[0m  4.8069\n",
      "      4        1.4300       0.6056        1.4323  4.8153\n",
      "      5        1.4363       0.6056        1.4390  4.7839\n",
      "  epoch    train_loss    valid_acc    valid_loss     dur\n",
      "-------  ------------  -----------  ------------  ------\n",
      "      1        \u001b[36m1.5766\u001b[0m       \u001b[32m0.5231\u001b[0m        \u001b[35m1.5609\u001b[0m  4.8382\n",
      "      2        \u001b[36m1.5490\u001b[0m       \u001b[32m0.5569\u001b[0m        \u001b[35m1.5406\u001b[0m  4.8716\n",
      "      3        \u001b[36m1.5315\u001b[0m       \u001b[32m0.5819\u001b[0m        \u001b[35m1.5246\u001b[0m  4.7833\n",
      "      4        \u001b[36m1.5169\u001b[0m       \u001b[32m0.6038\u001b[0m        \u001b[35m1.5105\u001b[0m  4.8167\n",
      "      5        \u001b[36m1.5040\u001b[0m       \u001b[32m0.6056\u001b[0m        \u001b[35m1.4981\u001b[0m  4.8023\n",
      "Model Accuracy: 59.62% Precision: 0.1535 Recall: 0.1313 F1 Score: 0.2007\n"
     ]
    }
   ],
   "source": [
    "rnn_scripts.run_model(filename,sample_size,embeddings,min_df,max_df,l_r,lam)"
   ]
  },
  {
   "cell_type": "code",
   "execution_count": 9,
   "id": "2c793e45",
   "metadata": {},
   "outputs": [
    {
     "name": "stdout",
     "output_type": "stream",
     "text": [
      "  epoch    train_loss    valid_acc    valid_loss     dur\n",
      "-------  ------------  -----------  ------------  ------\n",
      "      1        \u001b[36m1.4386\u001b[0m       \u001b[32m0.5575\u001b[0m        \u001b[35m1.4050\u001b[0m  4.7822\n",
      "      2        \u001b[36m1.3913\u001b[0m       \u001b[32m0.5837\u001b[0m        \u001b[35m1.3934\u001b[0m  4.7666\n",
      "      3        1.3955       \u001b[32m0.5969\u001b[0m        1.4046  4.6822\n",
      "      4        1.4120       \u001b[32m0.5975\u001b[0m        1.4222  4.7030\n",
      "      5        1.4300       0.5975        1.4391  4.7334\n",
      "  epoch    train_loss    valid_acc    valid_loss     dur\n",
      "-------  ------------  -----------  ------------  ------\n",
      "      1        \u001b[36m1.5240\u001b[0m       \u001b[32m0.1525\u001b[0m        \u001b[35m1.5030\u001b[0m  4.7500\n",
      "      2        \u001b[36m1.4937\u001b[0m       \u001b[32m0.2238\u001b[0m        \u001b[35m1.4877\u001b[0m  4.7501\n",
      "      3        \u001b[36m1.4867\u001b[0m       \u001b[32m0.5813\u001b[0m        \u001b[35m1.4865\u001b[0m  4.7166\n",
      "      4        1.4896       \u001b[32m0.6000\u001b[0m        1.4939  4.7166\n",
      "      5        1.4996       \u001b[32m0.6006\u001b[0m        1.5032  4.7161\n",
      "  epoch    train_loss    valid_acc    valid_loss     dur\n",
      "-------  ------------  -----------  ------------  ------\n",
      "      1        \u001b[36m1.4435\u001b[0m       \u001b[32m0.5950\u001b[0m        \u001b[35m1.4191\u001b[0m  4.7333\n",
      "      2        \u001b[36m1.4157\u001b[0m       \u001b[32m0.5962\u001b[0m        \u001b[35m1.4125\u001b[0m  4.7000\n",
      "      3        \u001b[36m1.4156\u001b[0m       0.5962        1.4196  4.7305\n",
      "      4        1.4244       0.5962        1.4281  4.7335\n",
      "      5        1.4311       0.5962        1.4365  4.7333\n",
      "  epoch    train_loss    valid_acc    valid_loss     dur\n",
      "-------  ------------  -----------  ------------  ------\n",
      "      1        \u001b[36m1.6028\u001b[0m       \u001b[32m0.0800\u001b[0m        \u001b[35m1.5784\u001b[0m  4.7167\n",
      "      2        \u001b[36m1.5661\u001b[0m       \u001b[32m0.4869\u001b[0m        \u001b[35m1.5558\u001b[0m  4.8265\n",
      "      3        \u001b[36m1.5475\u001b[0m       \u001b[32m0.5700\u001b[0m        \u001b[35m1.5399\u001b[0m  4.7335\n",
      "      4        \u001b[36m1.5337\u001b[0m       \u001b[32m0.6006\u001b[0m        \u001b[35m1.5275\u001b[0m  4.8833\n",
      "      5        \u001b[36m1.5218\u001b[0m       \u001b[32m0.6019\u001b[0m        \u001b[35m1.5162\u001b[0m  4.7834\n",
      "  epoch    train_loss    valid_acc    valid_loss     dur\n",
      "-------  ------------  -----------  ------------  ------\n",
      "      1        \u001b[36m1.5124\u001b[0m       \u001b[32m0.5700\u001b[0m        \u001b[35m1.4952\u001b[0m  4.7013\n",
      "      2        \u001b[36m1.4925\u001b[0m       \u001b[32m0.5850\u001b[0m        \u001b[35m1.4920\u001b[0m  4.7182\n",
      "      3        \u001b[36m1.4916\u001b[0m       \u001b[32m0.5925\u001b[0m        1.4923  4.7165\n",
      "      4        1.4920       \u001b[32m0.5938\u001b[0m        \u001b[35m1.4915\u001b[0m  4.7805\n",
      "      5        \u001b[36m1.4903\u001b[0m       0.5938        \u001b[35m1.4884\u001b[0m  5.0746\n",
      "Model Accuracy: 59.78% Precision: 0.1496 Recall: 0.1196 F1 Score: 0.2000\n"
     ]
    }
   ],
   "source": [
    "rnn_scripts.run_model(filename,sample_size,embeddings,min_df,max_df,l_r,lam)"
   ]
  }
 ],
 "metadata": {
  "kernelspec": {
   "display_name": ".venv",
   "language": "python",
   "name": "python3"
  },
  "language_info": {
   "codemirror_mode": {
    "name": "ipython",
    "version": 3
   },
   "file_extension": ".py",
   "mimetype": "text/x-python",
   "name": "python",
   "nbconvert_exporter": "python",
   "pygments_lexer": "ipython3",
   "version": "3.11.0"
  }
 },
 "nbformat": 4,
 "nbformat_minor": 5
}
