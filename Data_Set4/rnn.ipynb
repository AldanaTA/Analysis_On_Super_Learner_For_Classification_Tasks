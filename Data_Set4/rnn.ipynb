{
 "cells": [
  {
   "cell_type": "code",
   "execution_count": 1,
   "id": "986fb82e",
   "metadata": {},
   "outputs": [],
   "source": [
    "import sys\n",
    "import os\n",
    "current_dir = os.getcwd()\n",
    "parent_dir = os.path.dirname(current_dir)\n",
    "sys.path.append(parent_dir + \"\\Scripts\")\n",
    "import rnn_scripts\n",
    "from gensim.models import KeyedVectors\n"
   ]
  },
  {
   "cell_type": "code",
   "execution_count": 2,
   "id": "8f452cbe",
   "metadata": {},
   "outputs": [],
   "source": [
    "filename = \"data_set_4.csv\"\n",
    "\n",
    "sample_size = 5000\n",
    "min_df = .001\n",
    "max_df = .97\n",
    "\n",
    "def newVal(val,delta):\n",
    "    \n",
    "    high = val * (1+delta)\n",
    "    low = val - (val * delta)\n",
    "   \n",
    "    return [high,val,low]"
   ]
  },
  {
   "cell_type": "code",
   "execution_count": 3,
   "id": "553d5c59",
   "metadata": {},
   "outputs": [],
   "source": [
    "#Read Embeddings\n",
    "current_dir = os.getcwd()\n",
    "parent_dir = os.path.dirname(current_dir)\n",
    "file = parent_dir + '//embeds//'\n",
    "embeddings = KeyedVectors.load_word2vec_format(file+'GoogleNews-vectors-negative300.bin.gz',binary=True)"
   ]
  },
  {
   "cell_type": "code",
   "execution_count": 4,
   "id": "35771749",
   "metadata": {},
   "outputs": [
    {
     "name": "stdout",
     "output_type": "stream",
     "text": [
      "Starting Run 1:\n",
      "Fitting 5 folds for each of 1 candidates, totalling 5 fits\n",
      "Best Hyper paramaters:  {'optimizer__lr': 2e-05, 'optimizer__weight_decay': 0.7}\n",
      "Best Scores: 37.30%\n",
      "\n",
      "Starting Run 2:\n",
      "Fitting 5 folds for each of 9 candidates, totalling 45 fits\n",
      "Best Hyper paramaters:  {'optimizer__lr': 2.8e-05, 'optimizer__weight_decay': 0.42}\n",
      "Best Scores: 56.40%\n",
      "\n",
      "Starting Run 3:\n",
      "Fitting 5 folds for each of 9 candidates, totalling 45 fits\n",
      "Best Hyper paramaters:  {'optimizer__lr': 3.92e-05, 'optimizer__weight_decay': 0.588}\n",
      "Best Scores: 57.96%\n"
     ]
    }
   ],
   "source": [
    "#Number of runs to complete after starting run\n",
    "runs = 2\n",
    "\n",
    "#Starting Values\n",
    "lr = [.00002]\n",
    "weight_decay = [.7]\n",
    "\n",
    "factor = .40\n",
    "\n",
    "\n",
    "print(\"Starting Run 1:\")\n",
    "\n",
    "results = rnn_scripts.run_experiments(filename,sample_size,embeddings,min_df,max_df,lr,weight_decay)\n",
    "\n",
    "l_r = results[\"optimizer__lr\"]\n",
    "lam = results[\"optimizer__weight_decay\"]\n",
    "\n",
    "\n",
    "for run in range(runs):\n",
    "    print(\"\\nStarting Run {0}:\".format(run+2))\n",
    "    #Compare the current best against slightly higher and slightly smaller values\n",
    "  \n",
    "    lr = newVal(l_r,factor)\n",
    "    weight_decay = newVal(lam,factor)\n",
    "   \n",
    "    \n",
    "    results = rnn_scripts.run_experiments(filename,sample_size,embeddings,min_df,max_df,lr,weight_decay)\n",
    "  \n",
    "    l_r = results[\"optimizer__lr\"]\n",
    "    lam = results[\"optimizer__weight_decay\"]\n"
   ]
  },
  {
   "cell_type": "code",
   "execution_count": 5,
   "id": "9f43c183",
   "metadata": {},
   "outputs": [
    {
     "name": "stdout",
     "output_type": "stream",
     "text": [
      "  epoch    train_loss    valid_acc    valid_loss     dur\n",
      "-------  ------------  -----------  ------------  ------\n",
      "      1        \u001b[36m1.6125\u001b[0m       \u001b[32m0.4838\u001b[0m        \u001b[35m1.5699\u001b[0m  2.3670\n",
      "      2        \u001b[36m1.5442\u001b[0m       \u001b[32m0.4900\u001b[0m        \u001b[35m1.5134\u001b[0m  2.3796\n",
      "      3        \u001b[36m1.4985\u001b[0m       \u001b[32m0.5075\u001b[0m        \u001b[35m1.4772\u001b[0m  2.3962\n",
      "      4        \u001b[36m1.4684\u001b[0m       \u001b[32m0.5275\u001b[0m        \u001b[35m1.4547\u001b[0m  2.4094\n",
      "      5        \u001b[36m1.4515\u001b[0m       \u001b[32m0.5450\u001b[0m        \u001b[35m1.4413\u001b[0m  2.3539\n",
      "  epoch    train_loss    valid_acc    valid_loss     dur\n",
      "-------  ------------  -----------  ------------  ------\n",
      "      1        \u001b[36m1.5847\u001b[0m       \u001b[32m0.5050\u001b[0m        \u001b[35m1.5353\u001b[0m  2.3699\n",
      "      2        \u001b[36m1.5048\u001b[0m       \u001b[32m0.5262\u001b[0m        \u001b[35m1.4778\u001b[0m  2.3322\n",
      "      3        \u001b[36m1.4591\u001b[0m       \u001b[32m0.5587\u001b[0m        \u001b[35m1.4407\u001b[0m  2.3520\n",
      "      4        \u001b[36m1.4268\u001b[0m       \u001b[32m0.5825\u001b[0m        \u001b[35m1.4133\u001b[0m  2.3981\n",
      "      5        \u001b[36m1.4036\u001b[0m       \u001b[32m0.6025\u001b[0m        \u001b[35m1.3950\u001b[0m  2.3851\n",
      "  epoch    train_loss    valid_acc    valid_loss     dur\n",
      "-------  ------------  -----------  ------------  ------\n",
      "      1        \u001b[36m1.5826\u001b[0m       \u001b[32m0.5262\u001b[0m        \u001b[35m1.5280\u001b[0m  2.4740\n",
      "      2        \u001b[36m1.4889\u001b[0m       \u001b[32m0.5525\u001b[0m        \u001b[35m1.4524\u001b[0m  2.3558\n",
      "      3        \u001b[36m1.4266\u001b[0m       \u001b[32m0.5713\u001b[0m        \u001b[35m1.4063\u001b[0m  2.3664\n",
      "      4        \u001b[36m1.3914\u001b[0m       \u001b[32m0.5875\u001b[0m        \u001b[35m1.3810\u001b[0m  2.3523\n",
      "      5        \u001b[36m1.3728\u001b[0m       \u001b[32m0.6012\u001b[0m        \u001b[35m1.3663\u001b[0m  2.3851\n",
      "  epoch    train_loss    valid_acc    valid_loss     dur\n",
      "-------  ------------  -----------  ------------  ------\n",
      "      1        \u001b[36m1.5362\u001b[0m       \u001b[32m0.5100\u001b[0m        \u001b[35m1.4910\u001b[0m  2.3333\n",
      "      2        \u001b[36m1.4599\u001b[0m       \u001b[32m0.5325\u001b[0m        \u001b[35m1.4240\u001b[0m  2.3665\n",
      "      3        \u001b[36m1.3963\u001b[0m       \u001b[32m0.5575\u001b[0m        \u001b[35m1.3724\u001b[0m  2.3496\n",
      "      4        \u001b[36m1.3623\u001b[0m       \u001b[32m0.5787\u001b[0m        \u001b[35m1.3511\u001b[0m  2.3670\n",
      "      5        \u001b[36m1.3498\u001b[0m       \u001b[32m0.5950\u001b[0m        \u001b[35m1.3407\u001b[0m  2.3513\n",
      "  epoch    train_loss    valid_acc    valid_loss     dur\n",
      "-------  ------------  -----------  ------------  ------\n",
      "      1        \u001b[36m1.6336\u001b[0m       \u001b[32m0.0887\u001b[0m        \u001b[35m1.6275\u001b[0m  2.3668\n",
      "      2        \u001b[36m1.6192\u001b[0m       0.0887        \u001b[35m1.6142\u001b[0m  2.3690\n",
      "      3        \u001b[36m1.6068\u001b[0m       0.0862        \u001b[35m1.6022\u001b[0m  2.3772\n",
      "      4        \u001b[36m1.5955\u001b[0m       0.0850        \u001b[35m1.5907\u001b[0m  2.3478\n",
      "      5        \u001b[36m1.5844\u001b[0m       0.0850        \u001b[35m1.5795\u001b[0m  2.3499\n",
      "Model Accuracy: 48.52% Precision: 0.1314 Recall: 0.1299 F1 Score: 0.2002\n"
     ]
    }
   ],
   "source": [
    "rnn_scripts.run_model(filename,sample_size,embeddings,min_df,max_df,l_r,lam)"
   ]
  },
  {
   "cell_type": "code",
   "execution_count": 6,
   "id": "a7d0dab6",
   "metadata": {},
   "outputs": [
    {
     "name": "stdout",
     "output_type": "stream",
     "text": [
      "  epoch    train_loss    valid_acc    valid_loss     dur\n",
      "-------  ------------  -----------  ------------  ------\n",
      "      1        \u001b[36m1.5151\u001b[0m       \u001b[32m0.5525\u001b[0m        \u001b[35m1.4917\u001b[0m  2.4332\n",
      "      2        \u001b[36m1.4754\u001b[0m       \u001b[32m0.5787\u001b[0m        \u001b[35m1.4586\u001b[0m  2.4169\n",
      "      3        \u001b[36m1.4474\u001b[0m       \u001b[32m0.5925\u001b[0m        \u001b[35m1.4360\u001b[0m  2.4332\n",
      "      4        \u001b[36m1.4298\u001b[0m       \u001b[32m0.6038\u001b[0m        \u001b[35m1.4209\u001b[0m  2.4176\n",
      "      5        \u001b[36m1.4164\u001b[0m       \u001b[32m0.6100\u001b[0m        \u001b[35m1.4109\u001b[0m  2.4108\n",
      "  epoch    train_loss    valid_acc    valid_loss     dur\n",
      "-------  ------------  -----------  ------------  ------\n",
      "      1        \u001b[36m1.4852\u001b[0m       \u001b[32m0.5550\u001b[0m        \u001b[35m1.4663\u001b[0m  2.4167\n",
      "      2        \u001b[36m1.4493\u001b[0m       \u001b[32m0.5750\u001b[0m        \u001b[35m1.4393\u001b[0m  2.4001\n",
      "      3        \u001b[36m1.4261\u001b[0m       \u001b[32m0.5887\u001b[0m        \u001b[35m1.4213\u001b[0m  2.4276\n",
      "      4        \u001b[36m1.4114\u001b[0m       \u001b[32m0.5988\u001b[0m        \u001b[35m1.4087\u001b[0m  2.4000\n",
      "      5        \u001b[36m1.4013\u001b[0m       \u001b[32m0.6025\u001b[0m        \u001b[35m1.4000\u001b[0m  2.3831\n",
      "  epoch    train_loss    valid_acc    valid_loss     dur\n",
      "-------  ------------  -----------  ------------  ------\n",
      "      1        \u001b[36m1.6814\u001b[0m       \u001b[32m0.0750\u001b[0m        \u001b[35m1.6496\u001b[0m  2.4082\n",
      "      2        \u001b[36m1.6230\u001b[0m       \u001b[32m0.0775\u001b[0m        \u001b[35m1.6011\u001b[0m  2.3877\n",
      "      3        \u001b[36m1.5814\u001b[0m       \u001b[32m0.4775\u001b[0m        \u001b[35m1.5658\u001b[0m  2.4000\n",
      "      4        \u001b[36m1.5510\u001b[0m       \u001b[32m0.4913\u001b[0m        \u001b[35m1.5387\u001b[0m  2.4001\n",
      "      5        \u001b[36m1.5255\u001b[0m       \u001b[32m0.5212\u001b[0m        \u001b[35m1.5180\u001b[0m  2.3875\n",
      "  epoch    train_loss    valid_acc    valid_loss     dur\n",
      "-------  ------------  -----------  ------------  ------\n",
      "      1        \u001b[36m1.7955\u001b[0m       \u001b[32m0.1025\u001b[0m        \u001b[35m1.7638\u001b[0m  2.3833\n",
      "      2        \u001b[36m1.7421\u001b[0m       0.1025        \u001b[35m1.7176\u001b[0m  2.3988\n",
      "      3        \u001b[36m1.6999\u001b[0m       0.1025        \u001b[35m1.6794\u001b[0m  2.4006\n",
      "      4        \u001b[36m1.6647\u001b[0m       0.1025        \u001b[35m1.6487\u001b[0m  2.4048\n",
      "      5        \u001b[36m1.6377\u001b[0m       \u001b[32m0.1037\u001b[0m        \u001b[35m1.6247\u001b[0m  2.3785\n",
      "  epoch    train_loss    valid_acc    valid_loss     dur\n",
      "-------  ------------  -----------  ------------  ------\n",
      "      1        \u001b[36m1.5646\u001b[0m       \u001b[32m0.4450\u001b[0m        \u001b[35m1.5480\u001b[0m  2.3726\n",
      "      2        \u001b[36m1.5240\u001b[0m       \u001b[32m0.5025\u001b[0m        \u001b[35m1.5156\u001b[0m  2.3956\n",
      "      3        \u001b[36m1.4942\u001b[0m       \u001b[32m0.5337\u001b[0m        \u001b[35m1.4896\u001b[0m  2.4500\n",
      "      4        \u001b[36m1.4633\u001b[0m       \u001b[32m0.5550\u001b[0m        \u001b[35m1.4539\u001b[0m  2.4485\n",
      "      5        \u001b[36m1.4340\u001b[0m       \u001b[32m0.5763\u001b[0m        \u001b[35m1.4319\u001b[0m  2.3960\n",
      "Model Accuracy: 48.78% Precision: 0.1371 Recall: 0.1302 F1 Score: 0.2005\n"
     ]
    }
   ],
   "source": [
    "rnn_scripts.run_model(filename,sample_size,embeddings,min_df,max_df,l_r,lam)"
   ]
  },
  {
   "cell_type": "code",
   "execution_count": 7,
   "id": "e243e962",
   "metadata": {},
   "outputs": [
    {
     "name": "stdout",
     "output_type": "stream",
     "text": [
      "  epoch    train_loss    valid_acc    valid_loss     dur\n",
      "-------  ------------  -----------  ------------  ------\n",
      "      1        \u001b[36m1.5639\u001b[0m       \u001b[32m0.5250\u001b[0m        \u001b[35m1.5334\u001b[0m  2.5488\n",
      "      2        \u001b[36m1.5174\u001b[0m       \u001b[32m0.5525\u001b[0m        \u001b[35m1.4997\u001b[0m  2.5320\n",
      "      3        \u001b[36m1.4899\u001b[0m       \u001b[32m0.5700\u001b[0m        \u001b[35m1.4790\u001b[0m  2.5587\n",
      "      4        \u001b[36m1.4732\u001b[0m       \u001b[32m0.5850\u001b[0m        \u001b[35m1.4659\u001b[0m  2.4943\n",
      "      5        \u001b[36m1.4620\u001b[0m       \u001b[32m0.5938\u001b[0m        \u001b[35m1.4566\u001b[0m  2.4001\n",
      "  epoch    train_loss    valid_acc    valid_loss     dur\n",
      "-------  ------------  -----------  ------------  ------\n",
      "      1        \u001b[36m1.5592\u001b[0m       \u001b[32m0.5112\u001b[0m        \u001b[35m1.5305\u001b[0m  2.4000\n",
      "      2        \u001b[36m1.5111\u001b[0m       \u001b[32m0.5300\u001b[0m        \u001b[35m1.4943\u001b[0m  2.4538\n",
      "      3        \u001b[36m1.4832\u001b[0m       \u001b[32m0.5500\u001b[0m        \u001b[35m1.4726\u001b[0m  2.4245\n",
      "      4        \u001b[36m1.4665\u001b[0m       \u001b[32m0.5787\u001b[0m        \u001b[35m1.4599\u001b[0m  2.4334\n",
      "      5        \u001b[36m1.4571\u001b[0m       \u001b[32m0.5863\u001b[0m        \u001b[35m1.4541\u001b[0m  2.4159\n",
      "  epoch    train_loss    valid_acc    valid_loss     dur\n",
      "-------  ------------  -----------  ------------  ------\n",
      "      1        \u001b[36m1.4882\u001b[0m       \u001b[32m0.5475\u001b[0m        \u001b[35m1.4577\u001b[0m  2.4665\n",
      "      2        \u001b[36m1.4351\u001b[0m       \u001b[32m0.5725\u001b[0m        \u001b[35m1.4173\u001b[0m  2.4350\n",
      "      3        \u001b[36m1.4024\u001b[0m       \u001b[32m0.5813\u001b[0m        \u001b[35m1.3933\u001b[0m  2.5400\n",
      "      4        \u001b[36m1.3849\u001b[0m       \u001b[32m0.5962\u001b[0m        \u001b[35m1.3773\u001b[0m  2.4369\n",
      "      5        \u001b[36m1.3717\u001b[0m       0.5950        \u001b[35m1.3694\u001b[0m  2.4468\n",
      "  epoch    train_loss    valid_acc    valid_loss     dur\n",
      "-------  ------------  -----------  ------------  ------\n",
      "      1        \u001b[36m1.6153\u001b[0m       \u001b[32m0.0938\u001b[0m        \u001b[35m1.5702\u001b[0m  2.5000\n",
      "      2        \u001b[36m1.5435\u001b[0m       \u001b[32m0.4850\u001b[0m        \u001b[35m1.5170\u001b[0m  2.4833\n",
      "      3        \u001b[36m1.4950\u001b[0m       \u001b[32m0.5088\u001b[0m        \u001b[35m1.4757\u001b[0m  2.4502\n",
      "      4        \u001b[36m1.4583\u001b[0m       \u001b[32m0.5188\u001b[0m        \u001b[35m1.4435\u001b[0m  2.4666\n",
      "      5        \u001b[36m1.4300\u001b[0m       \u001b[32m0.5337\u001b[0m        \u001b[35m1.4210\u001b[0m  2.4785\n",
      "  epoch    train_loss    valid_acc    valid_loss     dur\n",
      "-------  ------------  -----------  ------------  ------\n",
      "      1        \u001b[36m1.6167\u001b[0m       \u001b[32m0.4550\u001b[0m        \u001b[35m1.5837\u001b[0m  2.4462\n",
      "      2        \u001b[36m1.5510\u001b[0m       \u001b[32m0.4612\u001b[0m        \u001b[35m1.5337\u001b[0m  2.4666\n",
      "      3        \u001b[36m1.5104\u001b[0m       \u001b[32m0.4662\u001b[0m        \u001b[35m1.5018\u001b[0m  2.4681\n",
      "      4        \u001b[36m1.4828\u001b[0m       \u001b[32m0.4750\u001b[0m        \u001b[35m1.4798\u001b[0m  2.4192\n",
      "      5        \u001b[36m1.4648\u001b[0m       \u001b[32m0.4900\u001b[0m        \u001b[35m1.4648\u001b[0m  2.4333\n",
      "Model Accuracy: 55.74% Precision: 0.1581 Recall: 0.1379 F1 Score: 0.2002\n"
     ]
    }
   ],
   "source": [
    "rnn_scripts.run_model(filename,sample_size,embeddings,min_df,max_df,l_r,lam)"
   ]
  },
  {
   "cell_type": "code",
   "execution_count": 8,
   "id": "77566bac",
   "metadata": {},
   "outputs": [
    {
     "name": "stdout",
     "output_type": "stream",
     "text": [
      "  epoch    train_loss    valid_acc    valid_loss     dur\n",
      "-------  ------------  -----------  ------------  ------\n",
      "      1        \u001b[36m1.6597\u001b[0m       \u001b[32m0.1462\u001b[0m        \u001b[35m1.6375\u001b[0m  2.4353\n",
      "      2        \u001b[36m1.6200\u001b[0m       \u001b[32m0.1650\u001b[0m        \u001b[35m1.6095\u001b[0m  2.4129\n",
      "      3        \u001b[36m1.5975\u001b[0m       \u001b[32m0.4675\u001b[0m        \u001b[35m1.5917\u001b[0m  2.3657\n",
      "      4        \u001b[36m1.5837\u001b[0m       0.4662        \u001b[35m1.5800\u001b[0m  2.3529\n",
      "      5        \u001b[36m1.5733\u001b[0m       0.4650        \u001b[35m1.5716\u001b[0m  2.3244\n",
      "  epoch    train_loss    valid_acc    valid_loss     dur\n",
      "-------  ------------  -----------  ------------  ------\n",
      "      1        \u001b[36m1.6704\u001b[0m       \u001b[32m0.0887\u001b[0m        \u001b[35m1.6288\u001b[0m  2.3500\n",
      "      2        \u001b[36m1.6217\u001b[0m       \u001b[32m0.0900\u001b[0m        \u001b[35m1.6037\u001b[0m  2.3500\n",
      "      3        \u001b[36m1.5972\u001b[0m       0.0875        \u001b[35m1.5822\u001b[0m  2.3666\n",
      "      4        \u001b[36m1.5759\u001b[0m       \u001b[32m0.4313\u001b[0m        \u001b[35m1.5630\u001b[0m  2.4551\n",
      "      5        \u001b[36m1.5568\u001b[0m       \u001b[32m0.4675\u001b[0m        \u001b[35m1.5458\u001b[0m  2.4371\n",
      "  epoch    train_loss    valid_acc    valid_loss     dur\n",
      "-------  ------------  -----------  ------------  ------\n",
      "      1        \u001b[36m1.7903\u001b[0m       \u001b[32m0.0712\u001b[0m        \u001b[35m1.7374\u001b[0m  2.4376\n",
      "      2        \u001b[36m1.7229\u001b[0m       0.0700        \u001b[35m1.6996\u001b[0m  2.4795\n",
      "      3        \u001b[36m1.6878\u001b[0m       0.0700        \u001b[35m1.6681\u001b[0m  2.4993\n",
      "      4        \u001b[36m1.6576\u001b[0m       0.0688        \u001b[35m1.6421\u001b[0m  2.4435\n",
      "      5        \u001b[36m1.6328\u001b[0m       0.0688        \u001b[35m1.6198\u001b[0m  2.5726\n",
      "  epoch    train_loss    valid_acc    valid_loss     dur\n",
      "-------  ------------  -----------  ------------  ------\n",
      "      1        \u001b[36m1.4794\u001b[0m       \u001b[32m0.5675\u001b[0m        \u001b[35m1.4547\u001b[0m  2.4470\n",
      "      2        \u001b[36m1.4502\u001b[0m       \u001b[32m0.5813\u001b[0m        \u001b[35m1.4333\u001b[0m  2.4224\n",
      "      3        \u001b[36m1.4313\u001b[0m       \u001b[32m0.5900\u001b[0m        \u001b[35m1.4188\u001b[0m  2.4427\n",
      "      4        \u001b[36m1.4179\u001b[0m       \u001b[32m0.5938\u001b[0m        \u001b[35m1.4082\u001b[0m  2.4604\n",
      "      5        \u001b[36m1.4083\u001b[0m       0.5938        \u001b[35m1.4002\u001b[0m  2.3485\n",
      "  epoch    train_loss    valid_acc    valid_loss     dur\n",
      "-------  ------------  -----------  ------------  ------\n",
      "      1        \u001b[36m1.6864\u001b[0m       \u001b[32m0.1562\u001b[0m        \u001b[35m1.6555\u001b[0m  2.4004\n",
      "      2        \u001b[36m1.6395\u001b[0m       0.1562        \u001b[35m1.6320\u001b[0m  2.3683\n",
      "      3        \u001b[36m1.6234\u001b[0m       \u001b[32m0.1575\u001b[0m        \u001b[35m1.6172\u001b[0m  2.3317\n",
      "      4        \u001b[36m1.6092\u001b[0m       0.1562        \u001b[35m1.6035\u001b[0m  2.3636\n",
      "      5        \u001b[36m1.5962\u001b[0m       0.1537        \u001b[35m1.5906\u001b[0m  2.4328\n",
      "Model Accuracy: 34.08% Precision: 0.1172 Recall: 0.0980 F1 Score: 0.1999\n"
     ]
    }
   ],
   "source": [
    "rnn_scripts.run_model(filename,sample_size,embeddings,min_df,max_df,l_r,lam)"
   ]
  },
  {
   "cell_type": "code",
   "execution_count": 9,
   "id": "2c793e45",
   "metadata": {},
   "outputs": [
    {
     "name": "stdout",
     "output_type": "stream",
     "text": [
      "  epoch    train_loss    valid_acc    valid_loss     dur\n",
      "-------  ------------  -----------  ------------  ------\n",
      "      1        \u001b[36m1.5913\u001b[0m       \u001b[32m0.4400\u001b[0m        \u001b[35m1.5736\u001b[0m  2.4299\n",
      "      2        \u001b[36m1.5616\u001b[0m       \u001b[32m0.5075\u001b[0m        \u001b[35m1.5499\u001b[0m  2.5073\n",
      "      3        \u001b[36m1.5405\u001b[0m       \u001b[32m0.5587\u001b[0m        \u001b[35m1.5313\u001b[0m  2.4692\n",
      "      4        \u001b[36m1.5239\u001b[0m       \u001b[32m0.5775\u001b[0m        \u001b[35m1.5165\u001b[0m  2.5022\n",
      "      5        \u001b[36m1.5108\u001b[0m       \u001b[32m0.5913\u001b[0m        \u001b[35m1.5037\u001b[0m  2.3741\n",
      "  epoch    train_loss    valid_acc    valid_loss     dur\n",
      "-------  ------------  -----------  ------------  ------\n",
      "      1        \u001b[36m1.5818\u001b[0m       \u001b[32m0.4788\u001b[0m        \u001b[35m1.5387\u001b[0m  2.3835\n",
      "      2        \u001b[36m1.4922\u001b[0m       \u001b[32m0.5062\u001b[0m        \u001b[35m1.4499\u001b[0m  2.3831\n",
      "      3        \u001b[36m1.4249\u001b[0m       \u001b[32m0.5112\u001b[0m        \u001b[35m1.4049\u001b[0m  2.3830\n",
      "      4        \u001b[36m1.3930\u001b[0m       \u001b[32m0.5188\u001b[0m        \u001b[35m1.3832\u001b[0m  2.4016\n",
      "      5        \u001b[36m1.3778\u001b[0m       \u001b[32m0.5325\u001b[0m        \u001b[35m1.3714\u001b[0m  2.5152\n",
      "  epoch    train_loss    valid_acc    valid_loss     dur\n",
      "-------  ------------  -----------  ------------  ------\n",
      "      1        \u001b[36m1.6761\u001b[0m       \u001b[32m0.0813\u001b[0m        \u001b[35m1.6384\u001b[0m  2.4789\n",
      "      2        \u001b[36m1.6135\u001b[0m       \u001b[32m0.4350\u001b[0m        \u001b[35m1.5727\u001b[0m  2.4555\n",
      "      3        \u001b[36m1.5404\u001b[0m       \u001b[32m0.4938\u001b[0m        \u001b[35m1.5019\u001b[0m  2.4992\n",
      "      4        \u001b[36m1.4811\u001b[0m       \u001b[32m0.5200\u001b[0m        \u001b[35m1.4516\u001b[0m  2.4095\n",
      "      5        \u001b[36m1.4414\u001b[0m       \u001b[32m0.5550\u001b[0m        \u001b[35m1.4177\u001b[0m  2.3667\n",
      "  epoch    train_loss    valid_acc    valid_loss     dur\n",
      "-------  ------------  -----------  ------------  ------\n",
      "      1        \u001b[36m1.5319\u001b[0m       \u001b[32m0.4975\u001b[0m        \u001b[35m1.4966\u001b[0m  2.3816\n",
      "      2        \u001b[36m1.4788\u001b[0m       \u001b[32m0.5175\u001b[0m        \u001b[35m1.4605\u001b[0m  2.3334\n",
      "      3        \u001b[36m1.4522\u001b[0m       \u001b[32m0.5350\u001b[0m        \u001b[35m1.4399\u001b[0m  2.3524\n",
      "      4        \u001b[36m1.4361\u001b[0m       \u001b[32m0.5513\u001b[0m        \u001b[35m1.4275\u001b[0m  2.3501\n",
      "      5        \u001b[36m1.4265\u001b[0m       \u001b[32m0.5637\u001b[0m        \u001b[35m1.4202\u001b[0m  2.3833\n",
      "  epoch    train_loss    valid_acc    valid_loss     dur\n",
      "-------  ------------  -----------  ------------  ------\n",
      "      1        \u001b[36m1.7652\u001b[0m       \u001b[32m0.0725\u001b[0m        \u001b[35m1.6989\u001b[0m  2.3776\n",
      "      2        \u001b[36m1.6748\u001b[0m       0.0712        \u001b[35m1.6569\u001b[0m  2.3850\n",
      "      3        \u001b[36m1.6474\u001b[0m       \u001b[32m0.0737\u001b[0m        \u001b[35m1.6375\u001b[0m  2.3293\n",
      "      4        \u001b[36m1.6293\u001b[0m       0.0725        \u001b[35m1.6210\u001b[0m  2.3628\n",
      "      5        \u001b[36m1.6139\u001b[0m       \u001b[32m0.4250\u001b[0m        \u001b[35m1.6064\u001b[0m  2.3335\n",
      "Model Accuracy: 53.58% Precision: 0.1674 Recall: 0.2086 F1 Score: 0.2046\n"
     ]
    }
   ],
   "source": [
    "rnn_scripts.run_model(filename,sample_size,embeddings,min_df,max_df,l_r,lam)"
   ]
  }
 ],
 "metadata": {
  "kernelspec": {
   "display_name": ".venv",
   "language": "python",
   "name": "python3"
  },
  "language_info": {
   "codemirror_mode": {
    "name": "ipython",
    "version": 3
   },
   "file_extension": ".py",
   "mimetype": "text/x-python",
   "name": "python",
   "nbconvert_exporter": "python",
   "pygments_lexer": "ipython3",
   "version": "3.11.0"
  }
 },
 "nbformat": 4,
 "nbformat_minor": 5
}
