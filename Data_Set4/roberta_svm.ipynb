{
 "cells": [
  {
   "cell_type": "code",
   "execution_count": 4,
   "id": "f3a6bec2",
   "metadata": {},
   "outputs": [],
   "source": [
    "import sys\n",
    "import os\n",
    "current_dir = os.getcwd()\n",
    "parent_dir = os.path.dirname(current_dir)\n",
    "sys.path.append(parent_dir + \"\\Scripts\")\n",
    "import svm_roberta_scripts\n"
   ]
  },
  {
   "cell_type": "code",
   "execution_count": 5,
   "id": "5acf43b5",
   "metadata": {},
   "outputs": [],
   "source": [
    "filename = \"data_set_4.csv\"\n",
    "samp_size = 5000\n",
    "svm_C = 3.5437\n",
    "factor = .5\n",
    "\n",
    "nested_directory = \"SavedModel\"\n",
    "current_directory = os.getcwd()\n",
    "model_path = os.path.join(current_directory, nested_directory)"
   ]
  },
  {
   "cell_type": "code",
   "execution_count": null,
   "id": "f6203f4e",
   "metadata": {},
   "outputs": [],
   "source": [
    "#Number of runs to complete after starting run\n",
    "runs = 4\n",
    "\n",
    "\n",
    "#Starting Values\n",
    "print(\"Starting Run 1:\")\n",
    "meta_C = [.7]\n",
    "result = svm_roberta_scripts.run_experiments(filename,samp_size,svm_C,meta_C,model_path)\n",
    "result = result['C']\n",
    "#svm_roberta_scripts.run_model(filename,samp_size,svm_C,result,model_path)\n",
    "\n",
    "\n",
    "for run in range(runs):\n",
    "    print(\"\\nStarting Run {0}:\".format(run+2))\n",
    "    high = (result*(1 + factor))\n",
    "    same = result\n",
    "    low =  (result - (result* factor))\n",
    "    meta_C = [high,same,low]\n",
    "    result = svm_roberta_scripts.run_experiments(filename,samp_size,svm_C,meta_C,model_path)\n",
    "    result = result['C']\n",
    "    #svm_roberta_scripts.run_model(filename,samp_size,svm_C,result,model_path)"
   ]
  },
  {
   "cell_type": "code",
   "execution_count": null,
   "id": "c6e2ec4f",
   "metadata": {},
   "outputs": [],
   "source": [
    "svm_roberta_scripts.run_model(filename,samp_size,svm_C,result,model_path)"
   ]
  },
  {
   "cell_type": "code",
   "execution_count": null,
   "id": "8dfabb18",
   "metadata": {},
   "outputs": [],
   "source": [
    "svm_roberta_scripts.run_model(filename,samp_size,svm_C,result,model_path)"
   ]
  },
  {
   "cell_type": "code",
   "execution_count": null,
   "id": "021e0a26",
   "metadata": {},
   "outputs": [],
   "source": [
    "svm_roberta_scripts.run_model(filename,samp_size,svm_C,result,model_path)"
   ]
  },
  {
   "cell_type": "code",
   "execution_count": null,
   "id": "88668005",
   "metadata": {},
   "outputs": [],
   "source": [
    "svm_roberta_scripts.run_model(filename,samp_size,svm_C,result,model_path)"
   ]
  },
  {
   "cell_type": "code",
   "execution_count": null,
   "id": "b414eea4",
   "metadata": {},
   "outputs": [],
   "source": [
    "svm_roberta_scripts.run_model(filename,samp_size,svm_C,result,model_path)"
   ]
  }
 ],
 "metadata": {
  "kernelspec": {
   "display_name": ".venv",
   "language": "python",
   "name": "python3"
  },
  "language_info": {
   "codemirror_mode": {
    "name": "ipython",
    "version": 3
   },
   "file_extension": ".py",
   "mimetype": "text/x-python",
   "name": "python",
   "nbconvert_exporter": "python",
   "pygments_lexer": "ipython3",
   "version": "3.11.0"
  }
 },
 "nbformat": 4,
 "nbformat_minor": 5
}
