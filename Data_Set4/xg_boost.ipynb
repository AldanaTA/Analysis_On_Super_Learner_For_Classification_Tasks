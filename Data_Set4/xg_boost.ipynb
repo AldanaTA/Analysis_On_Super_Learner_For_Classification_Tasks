{
 "cells": [
  {
   "cell_type": "code",
   "execution_count": 9,
   "id": "d562e83b",
   "metadata": {},
   "outputs": [],
   "source": [
    "import sys\n",
    "import os\n",
    "current_dir = os.getcwd()\n",
    "parent_dir = os.path.dirname(current_dir)\n",
    "sys.path.append(parent_dir + \"\\Scripts\")\n",
    "import xg_boost_script"
   ]
  },
  {
   "cell_type": "code",
   "execution_count": 10,
   "id": "591c851a",
   "metadata": {},
   "outputs": [],
   "source": [
    "filename = 'data_set_4.csv'\n",
    "max_df = .97\n",
    "min_df = .001\n",
    "samp_size = 5000\n",
    "\n",
    "factor = .4\n",
    "\n",
    "def newVal(val,delta):\n",
    "    \n",
    "    high = val * (1+delta)\n",
    "    low = val - (val * delta)\n",
    "    return [high,val,low]"
   ]
  },
  {
   "cell_type": "code",
   "execution_count": 11,
   "id": "d17b3dad",
   "metadata": {},
   "outputs": [
    {
     "name": "stdout",
     "output_type": "stream",
     "text": [
      "Starting Run 1:\n",
      "Fitting 5 folds for each of 9 candidates, totalling 45 fits\n",
      "Best Hyper paramaters:  {'learning_rate': 0.0001, 'reg_lambda': 0.3}\n",
      "Best Scores: 59.74%\n",
      "Model Accuracy: 59.40% Precision: 0.1490 Recall: 0.1188 F1 Score: 0.2000\n",
      "\n",
      "Starting Run 2:\n",
      "Fitting 5 folds for each of 9 candidates, totalling 45 fits\n",
      "Best Hyper paramaters:  {'learning_rate': 0.00014, 'reg_lambda': 0.42}\n",
      "Best Scores: 60.88%\n",
      "Model Accuracy: 60.96% Precision: 0.1515 Recall: 0.1219 F1 Score: 0.2000\n",
      "\n",
      "Starting Run 3:\n",
      "Fitting 5 folds for each of 9 candidates, totalling 45 fits\n",
      "Best Hyper paramaters:  {'learning_rate': 0.00019599999999999997, 'reg_lambda': 0.588}\n",
      "Best Scores: 60.66%\n",
      "Model Accuracy: 58.58% Precision: 0.1478 Recall: 0.1172 F1 Score: 0.2000\n",
      "\n",
      "Starting Run 4:\n",
      "Fitting 5 folds for each of 9 candidates, totalling 45 fits\n",
      "Best Hyper paramaters:  {'learning_rate': 0.00027439999999999995, 'reg_lambda': 0.8231999999999999}\n",
      "Best Scores: 59.90%\n",
      "Model Accuracy: 59.28% Precision: 0.1488 Recall: 0.1186 F1 Score: 0.2000\n",
      "\n",
      "Starting Run 5:\n",
      "Fitting 5 folds for each of 9 candidates, totalling 45 fits\n",
      "Best Hyper paramaters:  {'learning_rate': 0.0003841599999999999, 'reg_lambda': 1.1524799999999997}\n",
      "Best Scores: 60.28%\n",
      "Model Accuracy: 60.20% Precision: 0.1503 Recall: 0.1204 F1 Score: 0.2000\n"
     ]
    }
   ],
   "source": [
    "#Number of runs to complete after starting run\n",
    "runs = 4\n",
    "\n",
    "#Starting Values\n",
    "l2 = [.3,.5,.7]\n",
    "lr = [.0001,.00001,.001]\n",
    "\n",
    "\n",
    "\n",
    "\n",
    "print(\"Starting Run 1:\")\n",
    "\n",
    "results = xg_boost_script.run_Experiment(filename,samp_size,max_df,min_df,l2,lr)\n",
    "\n",
    "lam = results[\"reg_lambda\"]\n",
    "l_r = results[\"learning_rate\"]\n",
    "\n",
    "xg_boost_script.run_model(filename,samp_size,max_df,min_df,lam,l_r)\n",
    "\n",
    "for run in range(runs):\n",
    "    print(\"\\nStarting Run {0}:\".format(run+2))\n",
    "    #Compare the current best against slightly higher and slightly smaller values\n",
    "  \n",
    "    l2 = newVal(lam,factor)\n",
    "    lr = newVal(l_r,factor)\n",
    "    \n",
    "    results = xg_boost_script.run_Experiment(filename,samp_size,max_df,min_df,l2,lr)\n",
    "  \n",
    "    lam = results[\"reg_lambda\"]\n",
    "    l_r = results[\"learning_rate\"]\n",
    "    xg_boost_script.run_model(filename,samp_size,max_df,min_df,lam,l_r)"
   ]
  },
  {
   "cell_type": "code",
   "execution_count": 12,
   "id": "8f552aab",
   "metadata": {},
   "outputs": [
    {
     "name": "stdout",
     "output_type": "stream",
     "text": [
      "Model Accuracy: 59.76% Precision: 0.1496 Recall: 0.1195 F1 Score: 0.2000\n"
     ]
    }
   ],
   "source": [
    "xg_boost_script.run_model(filename,samp_size,max_df,min_df,lam,l_r)"
   ]
  },
  {
   "cell_type": "code",
   "execution_count": 13,
   "id": "ba996934",
   "metadata": {},
   "outputs": [
    {
     "name": "stdout",
     "output_type": "stream",
     "text": [
      "Model Accuracy: 59.46% Precision: 0.1491 Recall: 0.1189 F1 Score: 0.2000\n"
     ]
    }
   ],
   "source": [
    "xg_boost_script.run_model(filename,samp_size,max_df,min_df,lam,l_r)"
   ]
  },
  {
   "cell_type": "code",
   "execution_count": 14,
   "id": "0634659b",
   "metadata": {},
   "outputs": [
    {
     "name": "stdout",
     "output_type": "stream",
     "text": [
      "Model Accuracy: 59.90% Precision: 0.1498 Recall: 0.1198 F1 Score: 0.2000\n"
     ]
    }
   ],
   "source": [
    "xg_boost_script.run_model(filename,samp_size,max_df,min_df,lam,l_r)"
   ]
  },
  {
   "cell_type": "code",
   "execution_count": 15,
   "id": "7ae9da58",
   "metadata": {},
   "outputs": [
    {
     "name": "stdout",
     "output_type": "stream",
     "text": [
      "Model Accuracy: 59.98% Precision: 0.1499 Recall: 0.1200 F1 Score: 0.2000\n"
     ]
    }
   ],
   "source": [
    "xg_boost_script.run_model(filename,samp_size,max_df,min_df,lam,l_r)"
   ]
  },
  {
   "cell_type": "code",
   "execution_count": 16,
   "id": "2c051434",
   "metadata": {},
   "outputs": [
    {
     "name": "stdout",
     "output_type": "stream",
     "text": [
      "Model Accuracy: 59.76% Precision: 0.1496 Recall: 0.1195 F1 Score: 0.2000\n"
     ]
    }
   ],
   "source": [
    "xg_boost_script.run_model(filename,samp_size,max_df,min_df,lam,l_r)"
   ]
  }
 ],
 "metadata": {
  "kernelspec": {
   "display_name": ".venv",
   "language": "python",
   "name": "python3"
  },
  "language_info": {
   "codemirror_mode": {
    "name": "ipython",
    "version": 3
   },
   "file_extension": ".py",
   "mimetype": "text/x-python",
   "name": "python",
   "nbconvert_exporter": "python",
   "pygments_lexer": "ipython3",
   "version": "3.11.0"
  }
 },
 "nbformat": 4,
 "nbformat_minor": 5
}
