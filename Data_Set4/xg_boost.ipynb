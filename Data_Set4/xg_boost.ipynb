{
 "cells": [
  {
   "cell_type": "code",
   "execution_count": 1,
   "id": "d562e83b",
   "metadata": {},
   "outputs": [],
   "source": [
    "import sys\n",
    "import os\n",
    "current_dir = os.getcwd()\n",
    "parent_dir = os.path.dirname(current_dir)\n",
    "sys.path.append(parent_dir + \"\\Scripts\")\n",
    "import xg_boost_script"
   ]
  },
  {
   "cell_type": "code",
   "execution_count": null,
   "id": "591c851a",
   "metadata": {},
   "outputs": [],
   "source": [
    "filename = 'data_set_4.csv'\n",
    "max_df = .97\n",
    "min_df = .001\n",
    "\n",
    "def newVal(val,delta):\n",
    "    \n",
    "    high = val * (1+delta)\n",
    "    low = val - (val * delta)\n",
    "    return [high,val,low]"
   ]
  },
  {
   "cell_type": "code",
   "execution_count": null,
   "id": "d17b3dad",
   "metadata": {},
   "outputs": [
    {
     "name": "stdout",
     "output_type": "stream",
     "text": [
      "Starting Run 1:\n",
      "Fitting 5 folds for each of 27 candidates, totalling 135 fits\n",
      "Best Hyper paramaters:  {'eta': 0.2, 'learning_rate': 0.001, 'reg_lambda': 0.652}\n",
      "Best Scores: 76.84%\n",
      "Model Accuracy: 55.34% Precision: 0.5534 Recall: 0.5534 F1 Score: 0.5534\n",
      "\n",
      "Starting Run 2:\n",
      "Fitting 5 folds for each of 27 candidates, totalling 135 fits\n",
      "Best Hyper paramaters:  {'eta': 0.2, 'learning_rate': 0.0012, 'reg_lambda': 0.7824}\n",
      "Best Scores: 75.34%\n",
      "Model Accuracy: 56.64% Precision: 0.5664 Recall: 0.5664 F1 Score: 0.5664\n",
      "\n",
      "Starting Run 3:\n",
      "Fitting 5 folds for each of 27 candidates, totalling 135 fits\n",
      "Best Hyper paramaters:  {'eta': 0.2, 'learning_rate': 0.0014399999999999999, 'reg_lambda': 0.9388799999999999}\n",
      "Best Scores: 75.70%\n",
      "Model Accuracy: 55.72% Precision: 0.5572 Recall: 0.5572 F1 Score: 0.5572\n",
      "\n",
      "Starting Run 4:\n",
      "Fitting 5 folds for each of 27 candidates, totalling 135 fits\n",
      "Best Hyper paramaters:  {'eta': 0.2, 'learning_rate': 0.0017279999999999997, 'reg_lambda': 1.1266559999999999}\n",
      "Best Scores: 75.32%\n",
      "Model Accuracy: 54.92% Precision: 0.5492 Recall: 0.5492 F1 Score: 0.5492\n",
      "\n",
      "Starting Run 5:\n",
      "Fitting 5 folds for each of 27 candidates, totalling 135 fits\n",
      "Best Hyper paramaters:  {'eta': 0.2, 'learning_rate': 0.0020735999999999997, 'reg_lambda': 1.3519871999999997}\n",
      "Best Scores: 76.60%\n",
      "Model Accuracy: 56.70% Precision: 0.5670 Recall: 0.5670 F1 Score: 0.5670\n"
     ]
    }
   ],
   "source": [
    "#Number of runs to complete after starting run\n",
    "runs = 4\n",
    "\n",
    "#Starting Values\n",
    "l2 = [.652,.753,.852]\n",
    "lr = [.001,.01,.1]\n",
    "eta = [.2,.3,.5]\n",
    "\n",
    "\n",
    "\n",
    "print(\"Starting Run 1:\")\n",
    "\n",
    "results = xg_boost_script.run_Experiment(filename,.5,max_df,min_df,l2,lr,eta)\n",
    "\n",
    "lam = results[\"reg_lambda\"]\n",
    "l_r = results[\"learning_rate\"]\n",
    "et = results['eta']\n",
    "xg_boost_script.run_model(filename,.5,max_df,min_df,lam,l_r,et)\n",
    "\n",
    "for run in range(runs):\n",
    "    print(\"\\nStarting Run {0}:\".format(run+2))\n",
    "    #Compare the current best against slightly higher and slightly smaller values\n",
    "  \n",
    "    l2 = newVal(lam,.2)\n",
    "    lr = newVal(l_r,.2)\n",
    "    \n",
    "    results = xg_boost_script.run_Experiment(filename,.5,max_df,min_df,l2,lr,eta)\n",
    "  \n",
    "    lam = results[\"reg_lambda\"]\n",
    "    l_r = results[\"learning_rate\"]\n",
    "    et = results['eta']\n",
    "    xg_boost_script.run_model(filename,.5,max_df,min_df,lam,l_r,et)"
   ]
  }
 ],
 "metadata": {
  "kernelspec": {
   "display_name": ".venv",
   "language": "python",
   "name": "python3"
  },
  "language_info": {
   "codemirror_mode": {
    "name": "ipython",
    "version": 3
   },
   "file_extension": ".py",
   "mimetype": "text/x-python",
   "name": "python",
   "nbconvert_exporter": "python",
   "pygments_lexer": "ipython3",
   "version": "3.11.0"
  }
 },
 "nbformat": 4,
 "nbformat_minor": 5
}
