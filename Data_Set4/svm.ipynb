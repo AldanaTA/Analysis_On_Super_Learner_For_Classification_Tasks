{
 "cells": [
  {
   "cell_type": "code",
   "execution_count": 1,
   "id": "5a16f776",
   "metadata": {},
   "outputs": [],
   "source": [
    "import sys\n",
    "import os\n",
    "current_dir = os.getcwd()\n",
    "parent_dir = os.path.dirname(current_dir)\n",
    "sys.path.append(parent_dir + \"\\Scripts\")\n",
    "import svm_script"
   ]
  },
  {
   "cell_type": "code",
   "execution_count": 2,
   "id": "284e8aa7",
   "metadata": {},
   "outputs": [],
   "source": [
    "filename = \"data_set_4.csv\"\n",
    "sample_size = 5000\n",
    "\n",
    "max_df = .97\n",
    "min_df = .001\n",
    "\n"
   ]
  },
  {
   "cell_type": "code",
   "execution_count": 3,
   "id": "b13074ed",
   "metadata": {},
   "outputs": [
    {
     "name": "stdout",
     "output_type": "stream",
     "text": [
      "Starting Run 1:\n",
      "Fitting 5 folds for each of 1 candidates, totalling 5 fits\n",
      "Best Hyper paramaters:  {'C': 0.7}\n",
      "Best Scores: 61.00%\n",
      "Model Accuracy: 61.48% Precision: 0.3689 Recall: 0.3770 F1 Score: 0.3860\n",
      "\n",
      "Starting Run 2:\n",
      "Fitting 5 folds for each of 3 candidates, totalling 15 fits\n",
      "Best Hyper paramaters:  {'C': 1.0499999999999998}\n",
      "Best Scores: 63.30%\n",
      "Model Accuracy: 64.84% Precision: 0.3605 Recall: 0.3925 F1 Score: 0.3707\n",
      "\n",
      "Starting Run 3:\n",
      "Fitting 5 folds for each of 3 candidates, totalling 15 fits\n",
      "Best Hyper paramaters:  {'C': 1.5749999999999997}\n",
      "Best Scores: 64.78%\n",
      "Model Accuracy: 63.36% Precision: 0.3491 Recall: 0.3944 F1 Score: 0.3506\n",
      "\n",
      "Starting Run 4:\n",
      "Fitting 5 folds for each of 3 candidates, totalling 15 fits\n",
      "Best Hyper paramaters:  {'C': 2.3625}\n",
      "Best Scores: 64.10%\n",
      "Model Accuracy: 65.32% Precision: 0.3367 Recall: 0.4035 F1 Score: 0.3365\n",
      "\n",
      "Starting Run 5:\n",
      "Fitting 5 folds for each of 3 candidates, totalling 15 fits\n",
      "Best Hyper paramaters:  {'C': 3.5437499999999997}\n",
      "Best Scores: 63.40%\n",
      "Model Accuracy: 65.54% Precision: 0.3218 Recall: 0.3928 F1 Score: 0.3205\n"
     ]
    }
   ],
   "source": [
    "#Number of runs to complete after starting run\n",
    "runs = 4\n",
    "\n",
    "#Starting Values\n",
    "print(\"Starting Run 1:\")\n",
    "l2 = [.7]\n",
    "result = svm_script.run_experiments(filename,sample_size,l2,max_df,min_df)\n",
    "result = result['C']\n",
    "svm_script.run_model(filename,sample_size,result,max_df,min_df)\n",
    "\n",
    "\n",
    "for run in range(runs):\n",
    "    print(\"\\nStarting Run {0}:\".format(run+2))\n",
    "    high = (result*1.5)\n",
    "    same = result\n",
    "    low =  (result - (result*.5))\n",
    "    l2 = [high,same,low]\n",
    "    result = svm_script.run_experiments(filename,sample_size,l2,max_df,min_df)\n",
    "    result = result['C']\n",
    "    svm_script.run_model(filename,sample_size,result,max_df,min_df)"
   ]
  },
  {
   "cell_type": "code",
   "execution_count": 4,
   "id": "81001d61",
   "metadata": {},
   "outputs": [
    {
     "name": "stdout",
     "output_type": "stream",
     "text": [
      "Model Accuracy: 65.56% Precision: 0.3206 Recall: 0.3920 F1 Score: 0.3268\n"
     ]
    }
   ],
   "source": [
    "svm_script.run_model(filename,sample_size,result,max_df,min_df)"
   ]
  },
  {
   "cell_type": "code",
   "execution_count": 5,
   "id": "803d3e11",
   "metadata": {},
   "outputs": [
    {
     "name": "stdout",
     "output_type": "stream",
     "text": [
      "Model Accuracy: 65.44% Precision: 0.3168 Recall: 0.3857 F1 Score: 0.3185\n"
     ]
    }
   ],
   "source": [
    "svm_script.run_model(filename,sample_size,result,max_df,min_df)"
   ]
  },
  {
   "cell_type": "code",
   "execution_count": 6,
   "id": "eec17a40",
   "metadata": {},
   "outputs": [
    {
     "name": "stdout",
     "output_type": "stream",
     "text": [
      "Model Accuracy: 64.22% Precision: 0.3121 Recall: 0.3733 F1 Score: 0.3122\n"
     ]
    }
   ],
   "source": [
    "svm_script.run_model(filename,sample_size,result,max_df,min_df)"
   ]
  },
  {
   "cell_type": "code",
   "execution_count": 7,
   "id": "b95c4411",
   "metadata": {},
   "outputs": [
    {
     "name": "stdout",
     "output_type": "stream",
     "text": [
      "Model Accuracy: 65.24% Precision: 0.3257 Recall: 0.3923 F1 Score: 0.3279\n"
     ]
    }
   ],
   "source": [
    "svm_script.run_model(filename,sample_size,result,max_df,min_df)"
   ]
  },
  {
   "cell_type": "code",
   "execution_count": 8,
   "id": "12b6edc5",
   "metadata": {},
   "outputs": [
    {
     "name": "stdout",
     "output_type": "stream",
     "text": [
      "Model Accuracy: 65.18% Precision: 0.3255 Recall: 0.3909 F1 Score: 0.3250\n"
     ]
    }
   ],
   "source": [
    "svm_script.run_model(filename,sample_size,result,max_df,min_df)"
   ]
  }
 ],
 "metadata": {
  "kernelspec": {
   "display_name": ".venv",
   "language": "python",
   "name": "python3"
  },
  "language_info": {
   "codemirror_mode": {
    "name": "ipython",
    "version": 3
   },
   "file_extension": ".py",
   "mimetype": "text/x-python",
   "name": "python",
   "nbconvert_exporter": "python",
   "pygments_lexer": "ipython3",
   "version": "3.11.0"
  }
 },
 "nbformat": 4,
 "nbformat_minor": 5
}
