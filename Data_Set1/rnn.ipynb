{
 "cells": [
  {
   "cell_type": "code",
   "execution_count": null,
   "id": "986fb82e",
   "metadata": {},
   "outputs": [],
   "source": [
    "import sys\n",
    "import os\n",
    "current_dir = os.getcwd()\n",
    "parent_dir = os.path.dirname(current_dir)\n",
    "sys.path.append(parent_dir + \"\\Scripts\")\n",
    "import rnn_scripts\n",
    "from gensim.models import KeyedVectors\n"
   ]
  },
  {
   "cell_type": "code",
   "execution_count": null,
   "id": "8f452cbe",
   "metadata": {},
   "outputs": [],
   "source": [
    "filename = \"data_set_1.csv\"\n",
    "\n",
    "sample_size = 5000\n",
    "min_df = .001\n",
    "max_df = .97\n",
    "\n",
    "def newVal(val,delta):\n",
    "    \n",
    "    high = val * (1+delta)\n",
    "    low = val - (val * delta)\n",
    "   \n",
    "    return [high,val,low]"
   ]
  },
  {
   "cell_type": "code",
   "execution_count": null,
   "id": "553d5c59",
   "metadata": {},
   "outputs": [],
   "source": [
    "#Read Embeddings\n",
    "current_dir = os.getcwd()\n",
    "parent_dir = os.path.dirname(current_dir)\n",
    "file = parent_dir + '//embeds//'\n",
    "embeddings = KeyedVectors.load_word2vec_format(file+'GoogleNews-vectors-negative300.bin.gz',binary=True)"
   ]
  },
  {
   "cell_type": "code",
   "execution_count": null,
   "id": "35771749",
   "metadata": {},
   "outputs": [],
   "source": [
    "#Number of runs to complete after starting run\n",
    "runs = 2\n",
    "\n",
    "#Starting Values\n",
    "lr = [.0001]\n",
    "weight_decay = [.5]\n",
    "\n",
    "factor = .40\n",
    "\n",
    "\n",
    "print(\"Starting Run 1:\")\n",
    "\n",
    "results = rnn_scripts.run_experiments(filename,sample_size,embeddings,min_df,max_df,lr,weight_decay)\n",
    "\n",
    "l_r = results[\"optimizer__lr\"]\n",
    "lam = results[\"optimizer__weight_decay\"]\n",
    "\n",
    "\n",
    "for run in range(runs):\n",
    "    print(\"\\nStarting Run {0}:\".format(run+2))\n",
    "    #Compare the current best against slightly higher and slightly smaller values\n",
    "  \n",
    "    lr = newVal(l_r,factor)\n",
    "    weight_decay = newVal(lam,factor)\n",
    "   \n",
    "    \n",
    "    results = rnn_scripts.run_experiments(filename,sample_size,embeddings,min_df,max_df,lr,weight_decay)\n",
    "  \n",
    "    l_r = results[\"optimizer__lr\"]\n",
    "    lam = results[\"optimizer__weight_decay\"]\n"
   ]
  },
  {
   "cell_type": "code",
   "execution_count": null,
   "id": "9f43c183",
   "metadata": {},
   "outputs": [],
   "source": [
    "rnn_scripts.run_model(filename,sample_size,embeddings,min_df,max_df,l_r,lam)"
   ]
  },
  {
   "cell_type": "code",
   "execution_count": null,
   "id": "a7d0dab6",
   "metadata": {},
   "outputs": [],
   "source": [
    "rnn_scripts.run_model(filename,sample_size,embeddings,min_df,max_df,l_r,lam)"
   ]
  },
  {
   "cell_type": "code",
   "execution_count": null,
   "id": "e243e962",
   "metadata": {},
   "outputs": [],
   "source": [
    "rnn_scripts.run_model(filename,sample_size,embeddings,min_df,max_df,l_r,lam)"
   ]
  },
  {
   "cell_type": "code",
   "execution_count": null,
   "id": "77566bac",
   "metadata": {},
   "outputs": [],
   "source": [
    "rnn_scripts.run_model(filename,sample_size,embeddings,min_df,max_df,l_r,lam)"
   ]
  },
  {
   "cell_type": "code",
   "execution_count": null,
   "id": "2c793e45",
   "metadata": {},
   "outputs": [],
   "source": [
    "rnn_scripts.run_model(filename,sample_size,embeddings,min_df,max_df,l_r,lam)"
   ]
  }
 ],
 "metadata": {
  "kernelspec": {
   "display_name": ".venv",
   "language": "python",
   "name": "python3"
  },
  "language_info": {
   "codemirror_mode": {
    "name": "ipython",
    "version": 3
   },
   "file_extension": ".py",
   "mimetype": "text/x-python",
   "name": "python",
   "nbconvert_exporter": "python",
   "pygments_lexer": "ipython3",
   "version": "3.11.0"
  }
 },
 "nbformat": 4,
 "nbformat_minor": 5
}
