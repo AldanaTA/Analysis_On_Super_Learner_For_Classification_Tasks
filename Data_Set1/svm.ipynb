{
 "cells": [
  {
   "cell_type": "code",
   "execution_count": 1,
   "id": "5a16f776",
   "metadata": {},
   "outputs": [],
   "source": [
    "import sys\n",
    "import os\n",
    "current_dir = os.getcwd()\n",
    "parent_dir = os.path.dirname(current_dir)\n",
    "sys.path.append(parent_dir + \"\\Scripts\")\n",
    "import svm_script"
   ]
  },
  {
   "cell_type": "code",
   "execution_count": 2,
   "id": "284e8aa7",
   "metadata": {},
   "outputs": [],
   "source": [
    "filename = \"data_set_1.csv\"\n",
    "\n",
    "max_df = .97\n",
    "min_df = .001\n",
    "\n"
   ]
  },
  {
   "cell_type": "code",
   "execution_count": 3,
   "id": "b13074ed",
   "metadata": {},
   "outputs": [
    {
     "name": "stdout",
     "output_type": "stream",
     "text": [
      "Starting Run 1:\n",
      "Fitting 5 folds for each of 4 candidates, totalling 20 fits\n",
      "Best Hyper paramaters:  {'C': 1.6}\n",
      "Best Scores: 54.00%\n",
      "Model Accuracy: 53.22% Precision: 0.5322 Recall: 0.5322 F1 Score: 0.5322\n",
      "\n",
      "Starting Run 2:\n",
      "Fitting 5 folds for each of 3 candidates, totalling 15 fits\n",
      "Best Hyper paramaters:  {'C': 2.4000000000000004}\n",
      "Best Scores: 55.18%\n",
      "Model Accuracy: 55.00% Precision: 0.5500 Recall: 0.5500 F1 Score: 0.5500\n",
      "\n",
      "Starting Run 3:\n",
      "Fitting 5 folds for each of 3 candidates, totalling 15 fits\n",
      "Best Hyper paramaters:  {'C': 3.6000000000000005}\n",
      "Best Scores: 55.44%\n",
      "Model Accuracy: 55.76% Precision: 0.5576 Recall: 0.5576 F1 Score: 0.5576\n",
      "\n",
      "Starting Run 4:\n",
      "Fitting 5 folds for each of 3 candidates, totalling 15 fits\n",
      "Best Hyper paramaters:  {'C': 5.4}\n",
      "Best Scores: 55.46%\n",
      "Model Accuracy: 55.48% Precision: 0.5548 Recall: 0.5548 F1 Score: 0.5548\n",
      "\n",
      "Starting Run 5:\n",
      "Fitting 5 folds for each of 3 candidates, totalling 15 fits\n",
      "Best Hyper paramaters:  {'C': 5.4}\n",
      "Best Scores: 55.46%\n",
      "Model Accuracy: 55.48% Precision: 0.5548 Recall: 0.5548 F1 Score: 0.5548\n"
     ]
    }
   ],
   "source": [
    "#Number of runs to complete after starting run\n",
    "runs = 4\n",
    "\n",
    "#Starting Values\n",
    "print(\"Starting Run 1:\")\n",
    "l2 = [.852,1.2,1.4,1.6]\n",
    "result = svm_script.run_experiments(filename,.5,l2,max_df,min_df)\n",
    "result = result['C']\n",
    "svm_script.run_model(filename,.5,result,max_df,min_df)\n",
    "\n",
    "\n",
    "for run in range(runs):\n",
    "    print(\"\\nStarting Run {0}:\".format(run+2))\n",
    "    high = (result*1.5)\n",
    "    same = result\n",
    "    low =  (result - (result*.5))\n",
    "    l2 = [high,same,low]\n",
    "    result = svm_script.run_experiments(filename,.5,l2,max_df,min_df)\n",
    "    result = result['C']\n",
    "    svm_script.run_model(filename,.5,result,max_df,min_df)"
   ]
  }
 ],
 "metadata": {
  "kernelspec": {
   "display_name": ".venv",
   "language": "python",
   "name": "python3"
  },
  "language_info": {
   "codemirror_mode": {
    "name": "ipython",
    "version": 3
   },
   "file_extension": ".py",
   "mimetype": "text/x-python",
   "name": "python",
   "nbconvert_exporter": "python",
   "pygments_lexer": "ipython3",
   "version": "3.11.0"
  }
 },
 "nbformat": 4,
 "nbformat_minor": 5
}
