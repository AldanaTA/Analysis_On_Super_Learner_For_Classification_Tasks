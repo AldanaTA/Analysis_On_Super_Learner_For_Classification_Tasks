{
 "cells": [
  {
   "cell_type": "code",
   "execution_count": 1,
   "id": "f3a6bec2",
   "metadata": {},
   "outputs": [
    {
     "name": "stderr",
     "output_type": "stream",
     "text": [
      "c:\\Users\\tonya\\OneDrive\\Desktop\\MachineLearning Final Project Files\\.venv\\Lib\\site-packages\\tqdm\\auto.py:21: TqdmWarning: IProgress not found. Please update jupyter and ipywidgets. See https://ipywidgets.readthedocs.io/en/stable/user_install.html\n",
      "  from .autonotebook import tqdm as notebook_tqdm\n"
     ]
    }
   ],
   "source": [
    "import sys\n",
    "import os\n",
    "current_dir = os.getcwd()\n",
    "parent_dir = os.path.dirname(current_dir)\n",
    "sys.path.append(parent_dir + \"\\Scripts\")\n",
    "import svm_roberta_scripts\n"
   ]
  },
  {
   "cell_type": "code",
   "execution_count": 2,
   "id": "5acf43b5",
   "metadata": {},
   "outputs": [],
   "source": [
    "filename = \"data_set_1.csv\"\n",
    "samp_size = 5000\n",
    "svm_C = 3.5437\n",
    "factor = .5\n",
    "\n",
    "nested_directory = \"SavedModel\"\n",
    "current_directory = os.getcwd()\n",
    "model_path = os.path.join(current_directory, nested_directory)"
   ]
  },
  {
   "cell_type": "code",
   "execution_count": 3,
   "id": "f6203f4e",
   "metadata": {},
   "outputs": [
    {
     "name": "stdout",
     "output_type": "stream",
     "text": [
      "Starting Run 1:\n"
     ]
    },
    {
     "name": "stderr",
     "output_type": "stream",
     "text": [
      "Device set to use cuda:0\n"
     ]
    },
    {
     "name": "stdout",
     "output_type": "stream",
     "text": [
      "Fitting 5 folds for each of 1 candidates, totalling 5 fits\n",
      "Best Hyper paramaters:  {'C': 0.7}\n",
      "Best Scores: 57.94%\n"
     ]
    },
    {
     "name": "stderr",
     "output_type": "stream",
     "text": [
      "Device set to use cuda:0\n"
     ]
    },
    {
     "name": "stdout",
     "output_type": "stream",
     "text": [
      "Model Accuracy: 64.84% Precision: 0.5413 Recall: 0.5312 F1 Score: 0.5734\n",
      "\n",
      "Starting Run 2:\n"
     ]
    },
    {
     "name": "stderr",
     "output_type": "stream",
     "text": [
      "Device set to use cuda:0\n"
     ]
    },
    {
     "name": "stdout",
     "output_type": "stream",
     "text": [
      "Fitting 5 folds for each of 3 candidates, totalling 15 fits\n",
      "Best Hyper paramaters:  {'C': 1.0499999999999998}\n",
      "Best Scores: 66.54%\n"
     ]
    },
    {
     "name": "stderr",
     "output_type": "stream",
     "text": [
      "Device set to use cuda:0\n"
     ]
    },
    {
     "name": "stdout",
     "output_type": "stream",
     "text": [
      "Model Accuracy: 70.34% Precision: 0.6657 Recall: 0.6305 F1 Score: 0.7380\n",
      "\n",
      "Starting Run 3:\n"
     ]
    },
    {
     "name": "stderr",
     "output_type": "stream",
     "text": [
      "Device set to use cuda:0\n"
     ]
    },
    {
     "name": "stdout",
     "output_type": "stream",
     "text": [
      "Fitting 5 folds for each of 3 candidates, totalling 15 fits\n",
      "Best Hyper paramaters:  {'C': 1.5749999999999997}\n",
      "Best Scores: 71.30%\n"
     ]
    },
    {
     "name": "stderr",
     "output_type": "stream",
     "text": [
      "Device set to use cuda:0\n"
     ]
    },
    {
     "name": "stdout",
     "output_type": "stream",
     "text": [
      "Model Accuracy: 71.54% Precision: 0.6661 Recall: 0.6314 F1 Score: 0.7380\n",
      "\n",
      "Starting Run 4:\n"
     ]
    },
    {
     "name": "stderr",
     "output_type": "stream",
     "text": [
      "Device set to use cuda:0\n"
     ]
    },
    {
     "name": "stdout",
     "output_type": "stream",
     "text": [
      "Fitting 5 folds for each of 3 candidates, totalling 15 fits\n",
      "Best Hyper paramaters:  {'C': 2.3625}\n",
      "Best Scores: 76.16%\n"
     ]
    },
    {
     "name": "stderr",
     "output_type": "stream",
     "text": [
      "Device set to use cuda:0\n"
     ]
    },
    {
     "name": "stdout",
     "output_type": "stream",
     "text": [
      "Model Accuracy: 72.84% Precision: 0.6330 Recall: 0.6018 F1 Score: 0.7032\n",
      "\n",
      "Starting Run 5:\n"
     ]
    },
    {
     "name": "stderr",
     "output_type": "stream",
     "text": [
      "Device set to use cuda:0\n"
     ]
    },
    {
     "name": "stdout",
     "output_type": "stream",
     "text": [
      "Fitting 5 folds for each of 3 candidates, totalling 15 fits\n",
      "Best Hyper paramaters:  {'C': 3.5437499999999997}\n",
      "Best Scores: 75.90%\n"
     ]
    },
    {
     "name": "stderr",
     "output_type": "stream",
     "text": [
      "Device set to use cuda:0\n"
     ]
    },
    {
     "name": "stdout",
     "output_type": "stream",
     "text": [
      "Model Accuracy: 76.28% Precision: 0.7005 Recall: 0.6651 F1 Score: 0.7914\n"
     ]
    }
   ],
   "source": [
    "#Number of runs to complete after starting run\n",
    "runs = 4\n",
    "\n",
    "\n",
    "#Starting Values\n",
    "print(\"Starting Run 1:\")\n",
    "meta_C = [.7]\n",
    "result = svm_roberta_scripts.run_experiments(filename,samp_size,svm_C,meta_C,model_path)\n",
    "result = result['C']\n",
    "svm_roberta_scripts.run_model(filename,samp_size,svm_C,result,model_path)\n",
    "\n",
    "\n",
    "for run in range(runs):\n",
    "    print(\"\\nStarting Run {0}:\".format(run+2))\n",
    "    high = (result*(1 + factor))\n",
    "    same = result\n",
    "    low =  (result - (result* factor))\n",
    "    meta_C = [high,same,low]\n",
    "    result = svm_roberta_scripts.run_experiments(filename,samp_size,svm_C,meta_C,model_path)\n",
    "    result = result['C']\n",
    "    svm_roberta_scripts.run_model(filename,samp_size,svm_C,result,model_path)"
   ]
  },
  {
   "cell_type": "code",
   "execution_count": 4,
   "id": "c6e2ec4f",
   "metadata": {},
   "outputs": [
    {
     "name": "stderr",
     "output_type": "stream",
     "text": [
      "Device set to use cuda:0\n"
     ]
    },
    {
     "name": "stdout",
     "output_type": "stream",
     "text": [
      "Model Accuracy: 76.08% Precision: 0.6679 Recall: 0.6345 F1 Score: 0.7328\n"
     ]
    }
   ],
   "source": [
    "svm_roberta_scripts.run_model(filename,samp_size,svm_C,result,model_path)"
   ]
  },
  {
   "cell_type": "code",
   "execution_count": 5,
   "id": "8dfabb18",
   "metadata": {},
   "outputs": [
    {
     "name": "stderr",
     "output_type": "stream",
     "text": [
      "Device set to use cuda:0\n"
     ]
    },
    {
     "name": "stdout",
     "output_type": "stream",
     "text": [
      "Model Accuracy: 79.18% Precision: 0.7546 Recall: 0.7205 F1 Score: 0.8065\n"
     ]
    }
   ],
   "source": [
    "svm_roberta_scripts.run_model(filename,samp_size,svm_C,result,model_path)"
   ]
  },
  {
   "cell_type": "code",
   "execution_count": 6,
   "id": "021e0a26",
   "metadata": {},
   "outputs": [
    {
     "name": "stderr",
     "output_type": "stream",
     "text": [
      "Device set to use cuda:0\n"
     ]
    },
    {
     "name": "stdout",
     "output_type": "stream",
     "text": [
      "Model Accuracy: 77.14% Precision: 0.6881 Recall: 0.6714 F1 Score: 0.7410\n"
     ]
    }
   ],
   "source": [
    "svm_roberta_scripts.run_model(filename,samp_size,svm_C,result,model_path)"
   ]
  },
  {
   "cell_type": "code",
   "execution_count": 7,
   "id": "88668005",
   "metadata": {},
   "outputs": [
    {
     "name": "stderr",
     "output_type": "stream",
     "text": [
      "Device set to use cuda:0\n"
     ]
    },
    {
     "name": "stdout",
     "output_type": "stream",
     "text": [
      "Model Accuracy: 74.98% Precision: 0.6426 Recall: 0.6112 F1 Score: 0.7111\n"
     ]
    }
   ],
   "source": [
    "svm_roberta_scripts.run_model(filename,samp_size,svm_C,result,model_path)"
   ]
  },
  {
   "cell_type": "code",
   "execution_count": 8,
   "id": "b414eea4",
   "metadata": {},
   "outputs": [
    {
     "name": "stderr",
     "output_type": "stream",
     "text": [
      "Device set to use cuda:0\n"
     ]
    },
    {
     "name": "stdout",
     "output_type": "stream",
     "text": [
      "Model Accuracy: 72.58% Precision: 0.6040 Recall: 0.5802 F1 Score: 0.6560\n"
     ]
    }
   ],
   "source": [
    "svm_roberta_scripts.run_model(filename,samp_size,svm_C,result,model_path)"
   ]
  }
 ],
 "metadata": {
  "kernelspec": {
   "display_name": ".venv",
   "language": "python",
   "name": "python3"
  },
  "language_info": {
   "codemirror_mode": {
    "name": "ipython",
    "version": 3
   },
   "file_extension": ".py",
   "mimetype": "text/x-python",
   "name": "python",
   "nbconvert_exporter": "python",
   "pygments_lexer": "ipython3",
   "version": "3.11.0"
  }
 },
 "nbformat": 4,
 "nbformat_minor": 5
}
