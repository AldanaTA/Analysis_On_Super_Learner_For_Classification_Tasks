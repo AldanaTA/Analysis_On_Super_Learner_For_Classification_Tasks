{
 "cells": [
  {
   "cell_type": "code",
   "execution_count": 1,
   "id": "32e6bce6",
   "metadata": {},
   "outputs": [
    {
     "name": "stderr",
     "output_type": "stream",
     "text": [
      "c:\\Users\\tonya\\OneDrive\\Desktop\\MachineLearning Final Project Files\\.venv\\Lib\\site-packages\\tqdm\\auto.py:21: TqdmWarning: IProgress not found. Please update jupyter and ipywidgets. See https://ipywidgets.readthedocs.io/en/stable/user_install.html\n",
      "  from .autonotebook import tqdm as notebook_tqdm\n"
     ]
    }
   ],
   "source": [
    "import sys\n",
    "import os\n",
    "current_dir = os.getcwd()\n",
    "parent_dir = os.path.dirname(current_dir)\n",
    "sys.path.append(parent_dir + \"\\Scripts\")\n",
    "from tqdm import tqdm\n",
    "import roberta_script\n"
   ]
  },
  {
   "cell_type": "code",
   "execution_count": null,
   "id": "e679192f",
   "metadata": {},
   "outputs": [
    {
     "name": "stderr",
     "output_type": "stream",
     "text": [
      "Some weights of RobertaForSequenceClassification were not initialized from the model checkpoint at roberta-base and are newly initialized: ['classifier.dense.bias', 'classifier.dense.weight', 'classifier.out_proj.bias', 'classifier.out_proj.weight']\n",
      "You should probably TRAIN this model on a down-stream task to be able to use it for predictions and inference.\n"
     ]
    },
    {
     "name": "stdout",
     "output_type": "stream",
     "text": [
      "14\n"
     ]
    },
    {
     "data": {
      "text/html": [
       "\n",
       "    <div>\n",
       "      \n",
       "      <progress value='2500' max='2500' style='width:300px; height:20px; vertical-align: middle;'></progress>\n",
       "      [2500/2500 06:41, Epoch 5/5]\n",
       "    </div>\n",
       "    <table border=\"1\" class=\"dataframe\">\n",
       "  <thead>\n",
       " <tr style=\"text-align: left;\">\n",
       "      <th>Epoch</th>\n",
       "      <th>Training Loss</th>\n",
       "      <th>Validation Loss</th>\n",
       "      <th>Accuracy</th>\n",
       "      <th>F1</th>\n",
       "      <th>Precision</th>\n",
       "      <th>Recall</th>\n",
       "    </tr>\n",
       "  </thead>\n",
       "  <tbody>\n",
       "    <tr>\n",
       "      <td>1</td>\n",
       "      <td>0.385200</td>\n",
       "      <td>0.330330</td>\n",
       "      <td>0.647500</td>\n",
       "      <td>0.274840</td>\n",
       "      <td>0.243154</td>\n",
       "      <td>0.319382</td>\n",
       "    </tr>\n",
       "    <tr>\n",
       "      <td>2</td>\n",
       "      <td>0.329500</td>\n",
       "      <td>0.311237</td>\n",
       "      <td>0.663500</td>\n",
       "      <td>0.352576</td>\n",
       "      <td>0.384474</td>\n",
       "      <td>0.376877</td>\n",
       "    </tr>\n",
       "    <tr>\n",
       "      <td>3</td>\n",
       "      <td>0.310800</td>\n",
       "      <td>0.307664</td>\n",
       "      <td>0.665000</td>\n",
       "      <td>0.359530</td>\n",
       "      <td>0.398609</td>\n",
       "      <td>0.386556</td>\n",
       "    </tr>\n",
       "    <tr>\n",
       "      <td>4</td>\n",
       "      <td>0.295800</td>\n",
       "      <td>0.307316</td>\n",
       "      <td>0.653000</td>\n",
       "      <td>0.365844</td>\n",
       "      <td>0.374987</td>\n",
       "      <td>0.372653</td>\n",
       "    </tr>\n",
       "    <tr>\n",
       "      <td>5</td>\n",
       "      <td>0.288100</td>\n",
       "      <td>0.307532</td>\n",
       "      <td>0.649000</td>\n",
       "      <td>0.355169</td>\n",
       "      <td>0.354624</td>\n",
       "      <td>0.373775</td>\n",
       "    </tr>\n",
       "  </tbody>\n",
       "</table><p>"
      ],
      "text/plain": [
       "<IPython.core.display.HTML object>"
      ]
     },
     "metadata": {},
     "output_type": "display_data"
    }
   ],
   "source": [
    "samp_size = 10000\n",
    "#hyperParmaters\n",
    "lr = .00001\n",
    "epochs = 5\n",
    "w_decay = .7\n",
    "\n",
    "\n",
    "filename = \"data_set_1.csv\"\n",
    "trainer = roberta_script.run_model(filename,samp_size,lr,epochs,w_decay)"
   ]
  },
  {
   "cell_type": "code",
   "execution_count": null,
   "id": "2d005480",
   "metadata": {},
   "outputs": [],
   "source": [
    "trainer.save_model(\"SavedModel\")"
   ]
  }
 ],
 "metadata": {
  "kernelspec": {
   "display_name": ".venv",
   "language": "python",
   "name": "python3"
  },
  "language_info": {
   "codemirror_mode": {
    "name": "ipython",
    "version": 3
   },
   "file_extension": ".py",
   "mimetype": "text/x-python",
   "name": "python",
   "nbconvert_exporter": "python",
   "pygments_lexer": "ipython3",
   "version": "3.11.0"
  }
 },
 "nbformat": 4,
 "nbformat_minor": 5
}
